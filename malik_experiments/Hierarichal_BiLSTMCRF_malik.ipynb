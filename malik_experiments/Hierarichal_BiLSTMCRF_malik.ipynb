{
 "cells": [
  {
   "cell_type": "code",
   "execution_count": 1,
   "id": "d5pmIqXGJ1QM",
   "metadata": {
    "id": "d5pmIqXGJ1QM"
   },
   "outputs": [],
   "source": [
    "%load_ext autoreload\n",
    "%autoreload 2"
   ]
  },
  {
   "cell_type": "code",
   "execution_count": null,
   "id": "Iip3RtlSNswV",
   "metadata": {
    "id": "Iip3RtlSNswV"
   },
   "outputs": [],
   "source": [
    "!pip install allennlp"
   ]
  },
  {
   "cell_type": "code",
   "execution_count": 3,
   "id": "2a756f4a",
   "metadata": {
    "id": "2a756f4a"
   },
   "outputs": [],
   "source": [
    "import os\n",
    "import random\n",
    "import time\n",
    "import datetime\n",
    "import json\n",
    "import pandas as pd\n",
    "import numpy as np\n",
    "import torch\n",
    "import pickle\n",
    "from pathlib import Path\n",
    "from torch.utils.data import DataLoader, Dataset\n",
    "from transformers import BertForSequenceClassification, BertTokenizer, AdamW, BertConfig\n",
    "from transformers import get_linear_schedule_with_warmup\n",
    "import torch\n",
    "from torch import nn\n",
    "import torch.nn.functional as F\n",
    "from torch.nn.utils.rnn import pack_padded_sequence, pad_packed_sequence\n",
    "from sklearn.metrics import f1_score\n",
    "import copy"
   ]
  },
  {
   "cell_type": "code",
   "execution_count": 4,
   "id": "60469712",
   "metadata": {
    "id": "60469712"
   },
   "outputs": [],
   "source": [
    "# Load the config file\n",
    "def load_config(config_path):\n",
    "    # Load and parse the config file\n",
    "    with open(config_path, 'r') as f:\n",
    "        config = json.load(f)\n",
    "\n",
    "    return config\n",
    "\n",
    "#config = load_config('./HBiLSTM_CL.json')"
   ]
  },
  {
   "cell_type": "code",
   "execution_count": 5,
   "id": "c2522271",
   "metadata": {
    "id": "c2522271"
   },
   "outputs": [],
   "source": [
    "from data import SequenceClassificationDataset"
   ]
  },
  {
   "cell_type": "code",
   "execution_count": 6,
   "id": "40bba0b3",
   "metadata": {
    "id": "40bba0b3"
   },
   "outputs": [],
   "source": [
    "root = '/content/'\n",
    "build_train_dataset = SequenceClassificationDataset(Path(root, 'train.json'))\n",
    "build_dev_dataset = SequenceClassificationDataset(Path(root, 'dev.json'))\n",
    "#cl_test_dataset = SequenceClassificationDataset(Path(root, 'test_scibert.json'))"
   ]
  },
  {
   "cell_type": "code",
   "execution_count": 7,
   "id": "6348ec30",
   "metadata": {
    "id": "6348ec30"
   },
   "outputs": [],
   "source": [
    "batch_size=1\n",
    "train_dataloader = DataLoader(build_train_dataset, batch_size=batch_size, shuffle=True)\n",
    "valid_dataloader = DataLoader(build_dev_dataset, batch_size=batch_size, shuffle=True)\n",
    "#test_dataloader = DataLoader(cl_test_dataset, batch_size=batch_size, shuffle=True)"
   ]
  },
  {
   "cell_type": "code",
   "execution_count": 13,
   "id": "a3119f7e",
   "metadata": {
    "id": "a3119f7e"
   },
   "outputs": [],
   "source": [
    "from models import BertHSLN"
   ]
  },
  {
   "cell_type": "code",
   "execution_count": 14,
   "id": "SbDyRT2XPb7F",
   "metadata": {
    "id": "SbDyRT2XPb7F"
   },
   "outputs": [],
   "source": [
    "BERT_MODEL = \"bert-base-uncased\"\n",
    "mconfig = {\n",
    "    \"bert_model\": BERT_MODEL,\n",
    "    \"bert_trainable\": False,\n",
    "    \"model\": BertHSLN.__name__,\n",
    "    \"cacheable_tasks\": [],\n",
    "\n",
    "    \"dropout\": 0.5,\n",
    "    \"word_lstm_hs\": 384,\n",
    "    \"att_pooling_dim_ctx\": 50,\n",
    "    \"att_pooling_num_ctx\": 3,\n",
    "\n",
    "    \"lr\": 3e-05,\n",
    "    \"lr_epoch_decay\": 0.9,\n",
    "    \"batch_size\":  32,\n",
    "    \"max_seq_length\": 120,\n",
    "    \"max_epochs\": 20,\n",
    "    \"early_stopping\": 20,\n",
    "\n",
    "}"
   ]
  },
  {
   "cell_type": "code",
   "execution_count": 15,
   "id": "fTEms-tMhBEb",
   "metadata": {
    "colab": {
     "base_uri": "https://localhost:8080/"
    },
    "id": "fTEms-tMhBEb",
    "outputId": "7f08527e-f065-4ec7-93af-884cb5eef1d4"
   },
   "outputs": [
    {
     "data": {
      "text/plain": [
       "True"
      ]
     },
     "execution_count": 15,
     "metadata": {},
     "output_type": "execute_result"
    }
   ],
   "source": [
    "torch.cuda.is_available()"
   ]
  },
  {
   "cell_type": "code",
   "execution_count": 16,
   "id": "e1eae0a5",
   "metadata": {
    "colab": {
     "base_uri": "https://localhost:8080/"
    },
    "id": "e1eae0a5",
    "outputId": "3a1d4315-5af9-4e26-c37b-0f7d116a6a81"
   },
   "outputs": [
    {
     "name": "stdout",
     "output_type": "stream",
     "text": [
      "device used: cuda\n"
     ]
    }
   ],
   "source": [
    "# assign device\n",
    "device = torch.device('cuda' if torch.cuda.is_available() else 'cpu')\n",
    "print(f\"device used: {device}\")"
   ]
  },
  {
   "cell_type": "code",
   "execution_count": 20,
   "id": "2aKTXeEnR7wL",
   "metadata": {
    "colab": {
     "base_uri": "https://localhost:8080/"
    },
    "id": "2aKTXeEnR7wL",
    "outputId": "de00cc08-862b-4d6f-f0ec-a7ebe728a659"
   },
   "outputs": [
    {
     "name": "stderr",
     "output_type": "stream",
     "text": [
      "Some weights of the model checkpoint at bert-base-uncased were not used when initializing BertModel: ['cls.seq_relationship.weight', 'cls.predictions.transform.dense.bias', 'cls.seq_relationship.bias', 'cls.predictions.transform.dense.weight', 'cls.predictions.transform.LayerNorm.bias', 'cls.predictions.bias', 'cls.predictions.decoder.weight', 'cls.predictions.transform.LayerNorm.weight']\n",
      "- This IS expected if you are initializing BertModel from the checkpoint of a model trained on another task or with another architecture (e.g. initializing a BertForSequenceClassification model from a BertForPreTraining model).\n",
      "- This IS NOT expected if you are initializing BertModel from the checkpoint of a model that you expect to be exactly identical (initializing a BertForSequenceClassification model from a BertForSequenceClassification model).\n"
     ]
    },
    {
     "name": "stdout",
     "output_type": "stream",
     "text": [
      "Attention pooling dim: 2304\n"
     ]
    }
   ],
   "source": [
    "model = BertHSLN(mconfig, num_labels = 7)"
   ]
  },
  {
   "cell_type": "code",
   "execution_count": 21,
   "id": "8381742c",
   "metadata": {
    "id": "8381742c"
   },
   "outputs": [],
   "source": [
    "lr = mconfig['lr']*4#config['training']['learning_rate']"
   ]
  },
  {
   "cell_type": "code",
   "execution_count": 22,
   "id": "6e9f688a",
   "metadata": {
    "id": "6e9f688a"
   },
   "outputs": [],
   "source": [
    "seed_val = 42\n",
    "np.random.seed(seed_val)\n",
    "torch.manual_seed(seed_val)\n",
    "torch.cuda.manual_seed_all(seed_val)"
   ]
  },
  {
   "cell_type": "code",
   "execution_count": 23,
   "id": "a5005f1b",
   "metadata": {
    "colab": {
     "base_uri": "https://localhost:8080/"
    },
    "id": "a5005f1b",
    "outputId": "b97ab865-2585-462c-e4e1-65a0129c1bdf"
   },
   "outputs": [
    {
     "name": "stdout",
     "output_type": "stream",
     "text": [
      "device used: cuda\n"
     ]
    },
    {
     "data": {
      "text/plain": [
       "BertHSLN(\n",
       "  (bert): BertTokenEmbedder(\n",
       "    (bert): BertModel(\n",
       "      (embeddings): BertEmbeddings(\n",
       "        (word_embeddings): Embedding(30522, 768, padding_idx=0)\n",
       "        (position_embeddings): Embedding(512, 768)\n",
       "        (token_type_embeddings): Embedding(2, 768)\n",
       "        (LayerNorm): LayerNorm((768,), eps=1e-12, elementwise_affine=True)\n",
       "        (dropout): Dropout(p=0.1, inplace=False)\n",
       "      )\n",
       "      (encoder): BertEncoder(\n",
       "        (layer): ModuleList(\n",
       "          (0): BertLayer(\n",
       "            (attention): BertAttention(\n",
       "              (self): BertSelfAttention(\n",
       "                (query): Linear(in_features=768, out_features=768, bias=True)\n",
       "                (key): Linear(in_features=768, out_features=768, bias=True)\n",
       "                (value): Linear(in_features=768, out_features=768, bias=True)\n",
       "                (dropout): Dropout(p=0.1, inplace=False)\n",
       "              )\n",
       "              (output): BertSelfOutput(\n",
       "                (dense): Linear(in_features=768, out_features=768, bias=True)\n",
       "                (LayerNorm): LayerNorm((768,), eps=1e-12, elementwise_affine=True)\n",
       "                (dropout): Dropout(p=0.1, inplace=False)\n",
       "              )\n",
       "            )\n",
       "            (intermediate): BertIntermediate(\n",
       "              (dense): Linear(in_features=768, out_features=3072, bias=True)\n",
       "              (intermediate_act_fn): GELUActivation()\n",
       "            )\n",
       "            (output): BertOutput(\n",
       "              (dense): Linear(in_features=3072, out_features=768, bias=True)\n",
       "              (LayerNorm): LayerNorm((768,), eps=1e-12, elementwise_affine=True)\n",
       "              (dropout): Dropout(p=0.1, inplace=False)\n",
       "            )\n",
       "          )\n",
       "          (1): BertLayer(\n",
       "            (attention): BertAttention(\n",
       "              (self): BertSelfAttention(\n",
       "                (query): Linear(in_features=768, out_features=768, bias=True)\n",
       "                (key): Linear(in_features=768, out_features=768, bias=True)\n",
       "                (value): Linear(in_features=768, out_features=768, bias=True)\n",
       "                (dropout): Dropout(p=0.1, inplace=False)\n",
       "              )\n",
       "              (output): BertSelfOutput(\n",
       "                (dense): Linear(in_features=768, out_features=768, bias=True)\n",
       "                (LayerNorm): LayerNorm((768,), eps=1e-12, elementwise_affine=True)\n",
       "                (dropout): Dropout(p=0.1, inplace=False)\n",
       "              )\n",
       "            )\n",
       "            (intermediate): BertIntermediate(\n",
       "              (dense): Linear(in_features=768, out_features=3072, bias=True)\n",
       "              (intermediate_act_fn): GELUActivation()\n",
       "            )\n",
       "            (output): BertOutput(\n",
       "              (dense): Linear(in_features=3072, out_features=768, bias=True)\n",
       "              (LayerNorm): LayerNorm((768,), eps=1e-12, elementwise_affine=True)\n",
       "              (dropout): Dropout(p=0.1, inplace=False)\n",
       "            )\n",
       "          )\n",
       "          (2): BertLayer(\n",
       "            (attention): BertAttention(\n",
       "              (self): BertSelfAttention(\n",
       "                (query): Linear(in_features=768, out_features=768, bias=True)\n",
       "                (key): Linear(in_features=768, out_features=768, bias=True)\n",
       "                (value): Linear(in_features=768, out_features=768, bias=True)\n",
       "                (dropout): Dropout(p=0.1, inplace=False)\n",
       "              )\n",
       "              (output): BertSelfOutput(\n",
       "                (dense): Linear(in_features=768, out_features=768, bias=True)\n",
       "                (LayerNorm): LayerNorm((768,), eps=1e-12, elementwise_affine=True)\n",
       "                (dropout): Dropout(p=0.1, inplace=False)\n",
       "              )\n",
       "            )\n",
       "            (intermediate): BertIntermediate(\n",
       "              (dense): Linear(in_features=768, out_features=3072, bias=True)\n",
       "              (intermediate_act_fn): GELUActivation()\n",
       "            )\n",
       "            (output): BertOutput(\n",
       "              (dense): Linear(in_features=3072, out_features=768, bias=True)\n",
       "              (LayerNorm): LayerNorm((768,), eps=1e-12, elementwise_affine=True)\n",
       "              (dropout): Dropout(p=0.1, inplace=False)\n",
       "            )\n",
       "          )\n",
       "          (3): BertLayer(\n",
       "            (attention): BertAttention(\n",
       "              (self): BertSelfAttention(\n",
       "                (query): Linear(in_features=768, out_features=768, bias=True)\n",
       "                (key): Linear(in_features=768, out_features=768, bias=True)\n",
       "                (value): Linear(in_features=768, out_features=768, bias=True)\n",
       "                (dropout): Dropout(p=0.1, inplace=False)\n",
       "              )\n",
       "              (output): BertSelfOutput(\n",
       "                (dense): Linear(in_features=768, out_features=768, bias=True)\n",
       "                (LayerNorm): LayerNorm((768,), eps=1e-12, elementwise_affine=True)\n",
       "                (dropout): Dropout(p=0.1, inplace=False)\n",
       "              )\n",
       "            )\n",
       "            (intermediate): BertIntermediate(\n",
       "              (dense): Linear(in_features=768, out_features=3072, bias=True)\n",
       "              (intermediate_act_fn): GELUActivation()\n",
       "            )\n",
       "            (output): BertOutput(\n",
       "              (dense): Linear(in_features=3072, out_features=768, bias=True)\n",
       "              (LayerNorm): LayerNorm((768,), eps=1e-12, elementwise_affine=True)\n",
       "              (dropout): Dropout(p=0.1, inplace=False)\n",
       "            )\n",
       "          )\n",
       "          (4): BertLayer(\n",
       "            (attention): BertAttention(\n",
       "              (self): BertSelfAttention(\n",
       "                (query): Linear(in_features=768, out_features=768, bias=True)\n",
       "                (key): Linear(in_features=768, out_features=768, bias=True)\n",
       "                (value): Linear(in_features=768, out_features=768, bias=True)\n",
       "                (dropout): Dropout(p=0.1, inplace=False)\n",
       "              )\n",
       "              (output): BertSelfOutput(\n",
       "                (dense): Linear(in_features=768, out_features=768, bias=True)\n",
       "                (LayerNorm): LayerNorm((768,), eps=1e-12, elementwise_affine=True)\n",
       "                (dropout): Dropout(p=0.1, inplace=False)\n",
       "              )\n",
       "            )\n",
       "            (intermediate): BertIntermediate(\n",
       "              (dense): Linear(in_features=768, out_features=3072, bias=True)\n",
       "              (intermediate_act_fn): GELUActivation()\n",
       "            )\n",
       "            (output): BertOutput(\n",
       "              (dense): Linear(in_features=3072, out_features=768, bias=True)\n",
       "              (LayerNorm): LayerNorm((768,), eps=1e-12, elementwise_affine=True)\n",
       "              (dropout): Dropout(p=0.1, inplace=False)\n",
       "            )\n",
       "          )\n",
       "          (5): BertLayer(\n",
       "            (attention): BertAttention(\n",
       "              (self): BertSelfAttention(\n",
       "                (query): Linear(in_features=768, out_features=768, bias=True)\n",
       "                (key): Linear(in_features=768, out_features=768, bias=True)\n",
       "                (value): Linear(in_features=768, out_features=768, bias=True)\n",
       "                (dropout): Dropout(p=0.1, inplace=False)\n",
       "              )\n",
       "              (output): BertSelfOutput(\n",
       "                (dense): Linear(in_features=768, out_features=768, bias=True)\n",
       "                (LayerNorm): LayerNorm((768,), eps=1e-12, elementwise_affine=True)\n",
       "                (dropout): Dropout(p=0.1, inplace=False)\n",
       "              )\n",
       "            )\n",
       "            (intermediate): BertIntermediate(\n",
       "              (dense): Linear(in_features=768, out_features=3072, bias=True)\n",
       "              (intermediate_act_fn): GELUActivation()\n",
       "            )\n",
       "            (output): BertOutput(\n",
       "              (dense): Linear(in_features=3072, out_features=768, bias=True)\n",
       "              (LayerNorm): LayerNorm((768,), eps=1e-12, elementwise_affine=True)\n",
       "              (dropout): Dropout(p=0.1, inplace=False)\n",
       "            )\n",
       "          )\n",
       "          (6): BertLayer(\n",
       "            (attention): BertAttention(\n",
       "              (self): BertSelfAttention(\n",
       "                (query): Linear(in_features=768, out_features=768, bias=True)\n",
       "                (key): Linear(in_features=768, out_features=768, bias=True)\n",
       "                (value): Linear(in_features=768, out_features=768, bias=True)\n",
       "                (dropout): Dropout(p=0.1, inplace=False)\n",
       "              )\n",
       "              (output): BertSelfOutput(\n",
       "                (dense): Linear(in_features=768, out_features=768, bias=True)\n",
       "                (LayerNorm): LayerNorm((768,), eps=1e-12, elementwise_affine=True)\n",
       "                (dropout): Dropout(p=0.1, inplace=False)\n",
       "              )\n",
       "            )\n",
       "            (intermediate): BertIntermediate(\n",
       "              (dense): Linear(in_features=768, out_features=3072, bias=True)\n",
       "              (intermediate_act_fn): GELUActivation()\n",
       "            )\n",
       "            (output): BertOutput(\n",
       "              (dense): Linear(in_features=3072, out_features=768, bias=True)\n",
       "              (LayerNorm): LayerNorm((768,), eps=1e-12, elementwise_affine=True)\n",
       "              (dropout): Dropout(p=0.1, inplace=False)\n",
       "            )\n",
       "          )\n",
       "          (7): BertLayer(\n",
       "            (attention): BertAttention(\n",
       "              (self): BertSelfAttention(\n",
       "                (query): Linear(in_features=768, out_features=768, bias=True)\n",
       "                (key): Linear(in_features=768, out_features=768, bias=True)\n",
       "                (value): Linear(in_features=768, out_features=768, bias=True)\n",
       "                (dropout): Dropout(p=0.1, inplace=False)\n",
       "              )\n",
       "              (output): BertSelfOutput(\n",
       "                (dense): Linear(in_features=768, out_features=768, bias=True)\n",
       "                (LayerNorm): LayerNorm((768,), eps=1e-12, elementwise_affine=True)\n",
       "                (dropout): Dropout(p=0.1, inplace=False)\n",
       "              )\n",
       "            )\n",
       "            (intermediate): BertIntermediate(\n",
       "              (dense): Linear(in_features=768, out_features=3072, bias=True)\n",
       "              (intermediate_act_fn): GELUActivation()\n",
       "            )\n",
       "            (output): BertOutput(\n",
       "              (dense): Linear(in_features=3072, out_features=768, bias=True)\n",
       "              (LayerNorm): LayerNorm((768,), eps=1e-12, elementwise_affine=True)\n",
       "              (dropout): Dropout(p=0.1, inplace=False)\n",
       "            )\n",
       "          )\n",
       "          (8): BertLayer(\n",
       "            (attention): BertAttention(\n",
       "              (self): BertSelfAttention(\n",
       "                (query): Linear(in_features=768, out_features=768, bias=True)\n",
       "                (key): Linear(in_features=768, out_features=768, bias=True)\n",
       "                (value): Linear(in_features=768, out_features=768, bias=True)\n",
       "                (dropout): Dropout(p=0.1, inplace=False)\n",
       "              )\n",
       "              (output): BertSelfOutput(\n",
       "                (dense): Linear(in_features=768, out_features=768, bias=True)\n",
       "                (LayerNorm): LayerNorm((768,), eps=1e-12, elementwise_affine=True)\n",
       "                (dropout): Dropout(p=0.1, inplace=False)\n",
       "              )\n",
       "            )\n",
       "            (intermediate): BertIntermediate(\n",
       "              (dense): Linear(in_features=768, out_features=3072, bias=True)\n",
       "              (intermediate_act_fn): GELUActivation()\n",
       "            )\n",
       "            (output): BertOutput(\n",
       "              (dense): Linear(in_features=3072, out_features=768, bias=True)\n",
       "              (LayerNorm): LayerNorm((768,), eps=1e-12, elementwise_affine=True)\n",
       "              (dropout): Dropout(p=0.1, inplace=False)\n",
       "            )\n",
       "          )\n",
       "          (9): BertLayer(\n",
       "            (attention): BertAttention(\n",
       "              (self): BertSelfAttention(\n",
       "                (query): Linear(in_features=768, out_features=768, bias=True)\n",
       "                (key): Linear(in_features=768, out_features=768, bias=True)\n",
       "                (value): Linear(in_features=768, out_features=768, bias=True)\n",
       "                (dropout): Dropout(p=0.1, inplace=False)\n",
       "              )\n",
       "              (output): BertSelfOutput(\n",
       "                (dense): Linear(in_features=768, out_features=768, bias=True)\n",
       "                (LayerNorm): LayerNorm((768,), eps=1e-12, elementwise_affine=True)\n",
       "                (dropout): Dropout(p=0.1, inplace=False)\n",
       "              )\n",
       "            )\n",
       "            (intermediate): BertIntermediate(\n",
       "              (dense): Linear(in_features=768, out_features=3072, bias=True)\n",
       "              (intermediate_act_fn): GELUActivation()\n",
       "            )\n",
       "            (output): BertOutput(\n",
       "              (dense): Linear(in_features=3072, out_features=768, bias=True)\n",
       "              (LayerNorm): LayerNorm((768,), eps=1e-12, elementwise_affine=True)\n",
       "              (dropout): Dropout(p=0.1, inplace=False)\n",
       "            )\n",
       "          )\n",
       "          (10): BertLayer(\n",
       "            (attention): BertAttention(\n",
       "              (self): BertSelfAttention(\n",
       "                (query): Linear(in_features=768, out_features=768, bias=True)\n",
       "                (key): Linear(in_features=768, out_features=768, bias=True)\n",
       "                (value): Linear(in_features=768, out_features=768, bias=True)\n",
       "                (dropout): Dropout(p=0.1, inplace=False)\n",
       "              )\n",
       "              (output): BertSelfOutput(\n",
       "                (dense): Linear(in_features=768, out_features=768, bias=True)\n",
       "                (LayerNorm): LayerNorm((768,), eps=1e-12, elementwise_affine=True)\n",
       "                (dropout): Dropout(p=0.1, inplace=False)\n",
       "              )\n",
       "            )\n",
       "            (intermediate): BertIntermediate(\n",
       "              (dense): Linear(in_features=768, out_features=3072, bias=True)\n",
       "              (intermediate_act_fn): GELUActivation()\n",
       "            )\n",
       "            (output): BertOutput(\n",
       "              (dense): Linear(in_features=3072, out_features=768, bias=True)\n",
       "              (LayerNorm): LayerNorm((768,), eps=1e-12, elementwise_affine=True)\n",
       "              (dropout): Dropout(p=0.1, inplace=False)\n",
       "            )\n",
       "          )\n",
       "          (11): BertLayer(\n",
       "            (attention): BertAttention(\n",
       "              (self): BertSelfAttention(\n",
       "                (query): Linear(in_features=768, out_features=768, bias=True)\n",
       "                (key): Linear(in_features=768, out_features=768, bias=True)\n",
       "                (value): Linear(in_features=768, out_features=768, bias=True)\n",
       "                (dropout): Dropout(p=0.1, inplace=False)\n",
       "              )\n",
       "              (output): BertSelfOutput(\n",
       "                (dense): Linear(in_features=768, out_features=768, bias=True)\n",
       "                (LayerNorm): LayerNorm((768,), eps=1e-12, elementwise_affine=True)\n",
       "                (dropout): Dropout(p=0.1, inplace=False)\n",
       "              )\n",
       "            )\n",
       "            (intermediate): BertIntermediate(\n",
       "              (dense): Linear(in_features=768, out_features=3072, bias=True)\n",
       "              (intermediate_act_fn): GELUActivation()\n",
       "            )\n",
       "            (output): BertOutput(\n",
       "              (dense): Linear(in_features=3072, out_features=768, bias=True)\n",
       "              (LayerNorm): LayerNorm((768,), eps=1e-12, elementwise_affine=True)\n",
       "              (dropout): Dropout(p=0.1, inplace=False)\n",
       "            )\n",
       "          )\n",
       "        )\n",
       "      )\n",
       "      (pooler): BertPooler(\n",
       "        (dense): Linear(in_features=768, out_features=768, bias=True)\n",
       "        (activation): Tanh()\n",
       "      )\n",
       "    )\n",
       "  )\n",
       "  (dropout): Dropout(p=0.5, inplace=False)\n",
       "  (classifier): Linear(in_features=768, out_features=13, bias=True)\n",
       "  (word_lstm): PytorchSeq2SeqWrapper(\n",
       "    (_module): LSTM(768, 384, batch_first=True, bidirectional=True)\n",
       "  )\n",
       "  (attention_pooling): AttentionPooling(\n",
       "    (linear1): Linear(in_features=768, out_features=50, bias=True)\n",
       "    (linear2): Linear(in_features=50, out_features=3, bias=False)\n",
       "  )\n",
       "  (sentence_lstm): PytorchSeq2SeqWrapper(\n",
       "    (_module): LSTM(2304, 384, batch_first=True, bidirectional=True)\n",
       "  )\n",
       ")"
      ]
     },
     "execution_count": 23,
     "metadata": {},
     "output_type": "execute_result"
    }
   ],
   "source": [
    "# assign device\n",
    "device = torch.device('cuda' if torch.cuda.is_available() else 'cpu')\n",
    "print(f\"device used: {device}\")\n",
    "model.to(device)"
   ]
  },
  {
   "cell_type": "code",
   "execution_count": 24,
   "id": "864b9de3",
   "metadata": {
    "id": "864b9de3"
   },
   "outputs": [],
   "source": [
    "import functools\n",
    "import operator"
   ]
  },
  {
   "cell_type": "code",
   "execution_count": 25,
   "id": "PudgU89SdvYZ",
   "metadata": {
    "colab": {
     "base_uri": "https://localhost:8080/"
    },
    "id": "PudgU89SdvYZ",
    "outputId": "bdf14e5d-f23c-467b-adf9-ef1bcd58824a"
   },
   "outputs": [
    {
     "data": {
      "text/plain": [
       "11857365"
      ]
     },
     "execution_count": 25,
     "metadata": {},
     "output_type": "execute_result"
    }
   ],
   "source": [
    "sum(p.numel() for p in model.parameters() if p.requires_grad)"
   ]
  },
  {
   "cell_type": "code",
   "execution_count": 26,
   "id": "-58DiXbQg4Hg",
   "metadata": {
    "id": "-58DiXbQg4Hg"
   },
   "outputs": [],
   "source": [
    "from allennlp.common.util import pad_sequence_to_length\n",
    "\n",
    "def batch_to_tensor(b):\n",
    "    # convert to dictionary of tensors and pad the tensors\n",
    "    max_sentence_len = 128\n",
    "    result = {}\n",
    "    for k, v in b.items():\n",
    "\n",
    "        if k in [\"input_ids\", \"attention_mask\"]:\n",
    "            # determine the max sentence len in the batch\n",
    "            max_sentence_len = -1\n",
    "            for sentence in v:\n",
    "                sentence = torch.cat(sentence)\n",
    "                max_sentence_len = max(len(sentence), max_sentence_len)\n",
    "            # pad the sentences to max sentence len\n",
    "            for i, sentence in enumerate(v):\n",
    "                v[i] = pad_sequence_to_length(sentence, desired_length=max_sentence_len)\n",
    "        if k!='doc_name' and k!= 'label_ids':\n",
    "            result[k] = torch.tensor(v).unsqueeze(0)\n",
    "        elif k == 'label_ids':\n",
    "            result[k] = torch.tensor(v)\n",
    "        else:\n",
    "            result[k] = v\n",
    "    return result"
   ]
  },
  {
   "cell_type": "code",
   "execution_count": 27,
   "id": "vgxMh4F3lvVq",
   "metadata": {
    "id": "vgxMh4F3lvVq"
   },
   "outputs": [],
   "source": [
    "import os\n",
    "os.environ[\"CUDA_LAUNCH_BLOCKING\"] = \"1\""
   ]
  },
  {
   "cell_type": "code",
   "execution_count": 32,
   "id": "5r0No4MVdaMf",
   "metadata": {
    "id": "5r0No4MVdaMf"
   },
   "outputs": [],
   "source": [
    "from torch.optim.lr_scheduler import StepLR\n",
    "from torch.optim import Adam\n",
    "\n",
    "optimizer = Adam(list(model.parameters())), lr=lr)\n",
    "epoch_scheduler = StepLR(optimizer, step_size=1, gamma=mconfig[\"lr_epoch_decay\"])\n"
   ]
  },
  {
   "cell_type": "code",
   "execution_count": 1,
   "id": "0fef0f63",
   "metadata": {
    "id": "0fef0f63"
   },
   "outputs": [],
   "source": [
    "def training_step(model, optimizer, scheduler, data_loader):\n",
    "    model.train()  # Set the model to train mode\n",
    "    train_loss = {'cls':0}\n",
    "    train_correct = 0\n",
    "    train_total = 0\n",
    "    accum_iter = 5\n",
    "\n",
    "    all_labels = []\n",
    "    all_predicted = []\n",
    "\n",
    "    for batch_idx, batch in enumerate(data_loader):\n",
    "        batch = batch_to_tensor(batch)\n",
    "        # handle an empty batch --> error in data preparation\n",
    "        if batch[\"input_ids\"].shape[1] == 0:\n",
    "          continue\n",
    "\n",
    "\n",
    "        for key, tensor in batch.items():\n",
    "            batch[key] = tensor.to(device)\n",
    "        #print(batch['input_ids'].shape)\n",
    "        labels = batch['label_ids']\n",
    "        #print(labels.shape)\n",
    "        #optimizer.zero_grad()\n",
    "\n",
    "        # Forward pass\n",
    "        logits, embeddings = model(batch, labels, get_embeddings=True)\n",
    "\n",
    "        logits = logits.squeeze()\n",
    "\n",
    "        # Calculate loss\n",
    "        classification_loss = F.cross_entropy(logits, labels.squeeze())\n",
    "        #hard_triplet_loss = batch_hard_triplet_loss(labels, embeddings, 100.0, squared=True)\n",
    "        train_loss['cls'] = train_loss['cls'] + classification_loss.detach().item()\n",
    "        if batch_idx % 40 == 0:\n",
    "          print(f'after {batch_idx} step: cls_loss {classification_loss}')\n",
    "\n",
    "\n",
    "\n",
    "        # Backward pass and optimization\n",
    "        loss = classification_loss \n",
    "        loss.backward()\n",
    "        torch.nn.utils.clip_grad_norm_(model.parameters(), 1.0)\n",
    "        optimizer.step()\n",
    "        optimizer.zero_grad()\n",
    "\n",
    "    scheduler.step()\n",
    "    # Calculate epoch statistics\n",
    "    train_loss['cls'] = train_loss['cls'] / len(data_loader)\n",
    "\n",
    "    return train_loss\n",
    "\n",
    "\n",
    "def validation_step(model, data_loader):\n",
    "    model.eval()  # Set the model to evaluation mode\n",
    "    dev_loss = 0.0\n",
    "    dev_correct = 0\n",
    "    dev_total = 0\n",
    "    all_labels = []\n",
    "    all_predicted = []\n",
    "\n",
    "\n",
    "    for batch in data_loader:\n",
    "        # handle an empty batch --> error in data preparation\n",
    "        with torch.no_grad():\n",
    "            batch = batch_to_tensor(batch)\n",
    "            if batch[\"input_ids\"].shape[1] == 0:\n",
    "              continue\n",
    "            for key, tensor in batch.items():\n",
    "               batch[key] = tensor.to(device)\n",
    "            labels = batch['label_ids']\n",
    "            # Forward pass\n",
    "            logits = model(batch)\n",
    "\n",
    "\n",
    "            # Calculate loss\n",
    "            #print(logits.shape, labels.shape)\n",
    "            dev_loss += F.cross_entropy(logits.squeeze(), labels.squeeze()).item()\n",
    "            logits = logits.transpose(1, 2)\n",
    "            predicted_label = torch.argmax(logits, dim=1)\n",
    "\n",
    "\n",
    "\n",
    "            # save all epoch labels and predicted labels\n",
    "            all_labels.extend(labels.cpu().numpy())\n",
    "            all_predicted.extend(predicted_label.cpu().numpy())\n",
    "\n",
    "    # Calculate epoch statistics\n",
    "    all_predicted = functools.reduce(operator.iconcat, all_predicted, [])\n",
    "    all_labels = functools.reduce(operator.iconcat, all_labels, [])\n",
    "    f1 = f1_score(all_labels, all_predicted, average='weighted')\n",
    "    dev_loss /= len(data_loader)\n",
    "    return f1, dev_loss\n"
   ]
  },
  {
   "cell_type": "code",
   "execution_count": 2,
   "id": "IAdQDEv4q_mT",
   "metadata": {
    "id": "IAdQDEv4q_mT"
   },
   "outputs": [],
   "source": [
    "train_epoch_losses = {'cls':[]}\n",
    "train_epoch_acc = []\n",
    "train_epoch_f1 = []\n",
    "\n",
    "dev_epoch_losses = []\n",
    "dev_epoch_acc = []\n",
    "dev_epoch_f1 = []\n",
    "\n",
    "\n",
    "best_dev_f1 = 0\n",
    "best_model = None\n",
    "\n",
    "epochs = 20"
   ]
  },
  {
   "cell_type": "code",
   "execution_count": 103,
   "id": "21f98b2a",
   "metadata": {
    "colab": {
     "base_uri": "https://localhost:8080/",
     "height": 1000
    },
    "id": "21f98b2a",
    "outputId": "624a1fbb-41f5-4b5c-dac6-ca8657efc434"
   },
   "outputs": [
    {
     "name": "stdout",
     "output_type": "stream",
     "text": [
      "======== Epoch 1 / 30 ========\n"
     ]
    },
    {
     "name": "stderr",
     "output_type": "stream",
     "text": [
      "<ipython-input-95-29c5818d2fa6>:21: UserWarning: To copy construct from a tensor, it is recommended to use sourceTensor.clone().detach() or sourceTensor.clone().detach().requires_grad_(True), rather than torch.tensor(sourceTensor).\n",
      "  result[k] = torch.tensor(v)\n"
     ]
    },
    {
     "name": "stdout",
     "output_type": "stream",
     "text": [
      "after 0 step: cls_loss 2.575805425643921, cluster_loss 0.7362509965896606\n",
      "after 40 step: cls_loss 2.194828748703003, cluster_loss 0.423495888710022\n",
      "after 80 step: cls_loss 1.4960018396377563, cluster_loss 0.5416814684867859\n",
      "after 120 step: cls_loss 1.2352075576782227, cluster_loss 0.3569697141647339\n",
      "after 160 step: cls_loss 1.5712149143218994, cluster_loss 0.2127150148153305\n",
      "after 200 step: cls_loss 1.090552568435669, cluster_loss 0.4448174834251404\n",
      "after 240 step: cls_loss 0.99507737159729, cluster_loss 0.25372856855392456\n",
      "Epoch 1/30 - Training CLS Loss: 1.5192 - Train triplet Loss: 0.3834\n",
      "Epoch 1/30 - dev loss 0.9470468352238337 - F1 0.65986210414555\n",
      "saving the checkpoint with dev f1 - 0.65986210414555\n",
      "======== Epoch 2 / 30 ========\n"
     ]
    },
    {
     "name": "stderr",
     "output_type": "stream",
     "text": [
      "<ipython-input-95-29c5818d2fa6>:21: UserWarning: To copy construct from a tensor, it is recommended to use sourceTensor.clone().detach() or sourceTensor.clone().detach().requires_grad_(True), rather than torch.tensor(sourceTensor).\n",
      "  result[k] = torch.tensor(v)\n"
     ]
    },
    {
     "name": "stdout",
     "output_type": "stream",
     "text": [
      "after 0 step: cls_loss 0.5627673268318176, cluster_loss 0.2797877788543701\n",
      "after 40 step: cls_loss 0.7718698978424072, cluster_loss 0.35696956515312195\n",
      "after 80 step: cls_loss 1.9864656925201416, cluster_loss 0.16326361894607544\n",
      "after 120 step: cls_loss 0.9112324118614197, cluster_loss 0.3497343063354492\n",
      "after 160 step: cls_loss 1.0686008930206299, cluster_loss 0.22025823593139648\n",
      "after 200 step: cls_loss 1.5987244844436646, cluster_loss 0.35585469007492065\n",
      "after 240 step: cls_loss 0.4909449815750122, cluster_loss 0.5176059007644653\n",
      "Epoch 2/30 - Training CLS Loss: 0.9936 - Train triplet Loss: 0.3834\n",
      "Epoch 2/30 - dev loss 0.875423076748848 - F1 0.6930833498268336\n",
      "saving the checkpoint with dev f1 - 0.6930833498268336\n",
      "======== Epoch 3 / 30 ========\n"
     ]
    },
    {
     "name": "stderr",
     "output_type": "stream",
     "text": [
      "<ipython-input-95-29c5818d2fa6>:21: UserWarning: To copy construct from a tensor, it is recommended to use sourceTensor.clone().detach() or sourceTensor.clone().detach().requires_grad_(True), rather than torch.tensor(sourceTensor).\n",
      "  result[k] = torch.tensor(v)\n"
     ]
    },
    {
     "name": "stdout",
     "output_type": "stream",
     "text": [
      "after 0 step: cls_loss 1.3106334209442139, cluster_loss 0.5448470711708069\n",
      "after 40 step: cls_loss 0.8121282458305359, cluster_loss 0.3362399637699127\n",
      "after 80 step: cls_loss 1.0694724321365356, cluster_loss 0.1437797099351883\n",
      "after 120 step: cls_loss 0.294351190328598, cluster_loss 0.13284611701965332\n",
      "after 160 step: cls_loss 0.915627121925354, cluster_loss 0.7058228254318237\n",
      "after 200 step: cls_loss 0.49468162655830383, cluster_loss 0.3827377259731293\n",
      "after 240 step: cls_loss 0.5651968121528625, cluster_loss 0.2817617654800415\n",
      "Epoch 3/30 - Training CLS Loss: 0.8648 - Train triplet Loss: 0.3834\n",
      "Epoch 3/30 - dev loss 0.7693065032362938 - F1 0.738748859405698\n",
      "saving the checkpoint with dev f1 - 0.738748859405698\n",
      "======== Epoch 4 / 30 ========\n"
     ]
    },
    {
     "name": "stderr",
     "output_type": "stream",
     "text": [
      "<ipython-input-95-29c5818d2fa6>:21: UserWarning: To copy construct from a tensor, it is recommended to use sourceTensor.clone().detach() or sourceTensor.clone().detach().requires_grad_(True), rather than torch.tensor(sourceTensor).\n",
      "  result[k] = torch.tensor(v)\n"
     ]
    },
    {
     "name": "stdout",
     "output_type": "stream",
     "text": [
      "after 0 step: cls_loss 1.315476894378662, cluster_loss 0.3147614300251007\n",
      "after 40 step: cls_loss 0.9926228523254395, cluster_loss 0.22025835514068604\n",
      "after 80 step: cls_loss 0.4724441468715668, cluster_loss 0.32960864901542664\n",
      "after 120 step: cls_loss 0.5743687748908997, cluster_loss 0.47342097759246826\n",
      "after 160 step: cls_loss 0.6372541189193726, cluster_loss 0.3296078145503998\n",
      "after 200 step: cls_loss 0.71249920129776, cluster_loss 0.2531777024269104\n",
      "after 240 step: cls_loss 0.8728533387184143, cluster_loss 0.8626800179481506\n",
      "Epoch 4/30 - Training CLS Loss: 0.7520 - Train triplet Loss: 0.3834\n",
      "Epoch 4/30 - dev loss 0.7693607494235039 - F1 0.7463125518216648\n",
      "saving the checkpoint with dev f1 - 0.7463125518216648\n",
      "======== Epoch 5 / 30 ========\n"
     ]
    },
    {
     "name": "stderr",
     "output_type": "stream",
     "text": [
      "<ipython-input-95-29c5818d2fa6>:21: UserWarning: To copy construct from a tensor, it is recommended to use sourceTensor.clone().detach() or sourceTensor.clone().detach().requires_grad_(True), rather than torch.tensor(sourceTensor).\n",
      "  result[k] = torch.tensor(v)\n"
     ]
    },
    {
     "name": "stdout",
     "output_type": "stream",
     "text": [
      "after 0 step: cls_loss 0.3170487582683563, cluster_loss 0.2797880470752716\n",
      "after 40 step: cls_loss 0.5767911076545715, cluster_loss 0.3123481869697571\n",
      "after 80 step: cls_loss 0.5066511034965515, cluster_loss 0.5434851050376892\n",
      "after 120 step: cls_loss 0.41960057616233826, cluster_loss 0.3827369213104248\n",
      "after 160 step: cls_loss 1.3889082670211792, cluster_loss 0.3925681412220001\n",
      "after 200 step: cls_loss 1.1052119731903076, cluster_loss 0.3375701308250427\n",
      "after 240 step: cls_loss 0.2496417760848999, cluster_loss 0.3623242676258087\n",
      "Epoch 5/30 - Training CLS Loss: 0.6912 - Train triplet Loss: 0.3834\n",
      "Epoch 5/30 - dev loss 0.749446073671182 - F1 0.7604583340824783\n",
      "saving the checkpoint with dev f1 - 0.7604583340824783\n",
      "======== Epoch 6 / 30 ========\n"
     ]
    },
    {
     "name": "stderr",
     "output_type": "stream",
     "text": [
      "<ipython-input-95-29c5818d2fa6>:21: UserWarning: To copy construct from a tensor, it is recommended to use sourceTensor.clone().detach() or sourceTensor.clone().detach().requires_grad_(True), rather than torch.tensor(sourceTensor).\n",
      "  result[k] = torch.tensor(v)\n"
     ]
    },
    {
     "name": "stdout",
     "output_type": "stream",
     "text": [
      "after 0 step: cls_loss 0.6084133982658386, cluster_loss 0.3588455319404602\n",
      "after 40 step: cls_loss 0.8877578973770142, cluster_loss 0.5448471307754517\n",
      "after 80 step: cls_loss 0.2576451897621155, cluster_loss 0.36971962451934814\n",
      "after 120 step: cls_loss 1.0580968856811523, cluster_loss 0.31561484932899475\n",
      "after 160 step: cls_loss 0.6822133660316467, cluster_loss 0.21717751026153564\n",
      "after 200 step: cls_loss 0.661014199256897, cluster_loss 0.7362509965896606\n",
      "after 240 step: cls_loss 0.937033474445343, cluster_loss 0.14580440521240234\n",
      "Epoch 6/30 - Training CLS Loss: 0.6311 - Train triplet Loss: 0.3834\n",
      "Epoch 6/30 - dev loss 0.7513756766915322 - F1 0.7620565285674341\n",
      "saving the checkpoint with dev f1 - 0.7620565285674341\n",
      "======== Epoch 7 / 30 ========\n"
     ]
    },
    {
     "name": "stderr",
     "output_type": "stream",
     "text": [
      "<ipython-input-95-29c5818d2fa6>:21: UserWarning: To copy construct from a tensor, it is recommended to use sourceTensor.clone().detach() or sourceTensor.clone().detach().requires_grad_(True), rather than torch.tensor(sourceTensor).\n",
      "  result[k] = torch.tensor(v)\n"
     ]
    },
    {
     "name": "stdout",
     "output_type": "stream",
     "text": [
      "after 0 step: cls_loss 0.8110432028770447, cluster_loss 0.4234980046749115\n",
      "after 40 step: cls_loss 1.1227961778640747, cluster_loss 0.4852564334869385\n",
      "after 80 step: cls_loss 0.6090878248214722, cluster_loss 0.13621222972869873\n",
      "after 120 step: cls_loss 0.9326808452606201, cluster_loss 0.41173234581947327\n",
      "after 160 step: cls_loss 0.49592331051826477, cluster_loss 0.4265997111797333\n",
      "after 200 step: cls_loss 0.542133092880249, cluster_loss 0.5176064968109131\n",
      "after 240 step: cls_loss 0.11026528477668762, cluster_loss 0.3722503185272217\n",
      "Epoch 7/30 - Training CLS Loss: 0.5848 - Train triplet Loss: 0.3834\n",
      "Epoch 7/30 - dev loss 0.71331285238266 - F1 0.7729668106773231\n",
      "saving the checkpoint with dev f1 - 0.7729668106773231\n",
      "======== Epoch 8 / 30 ========\n"
     ]
    },
    {
     "name": "stderr",
     "output_type": "stream",
     "text": [
      "<ipython-input-95-29c5818d2fa6>:21: UserWarning: To copy construct from a tensor, it is recommended to use sourceTensor.clone().detach() or sourceTensor.clone().detach().requires_grad_(True), rather than torch.tensor(sourceTensor).\n",
      "  result[k] = torch.tensor(v)\n"
     ]
    },
    {
     "name": "stdout",
     "output_type": "stream",
     "text": [
      "after 0 step: cls_loss 0.4512545168399811, cluster_loss 0.18988333642482758\n",
      "after 40 step: cls_loss 0.4327753186225891, cluster_loss 0.4692583680152893\n",
      "after 80 step: cls_loss 1.209503412246704, cluster_loss 0.16326333582401276\n",
      "after 120 step: cls_loss 0.8277854323387146, cluster_loss 0.17501123249530792\n",
      "after 160 step: cls_loss 0.2928120493888855, cluster_loss 0.1432485580444336\n",
      "after 200 step: cls_loss 0.5791659951210022, cluster_loss 0.21271522343158722\n",
      "after 240 step: cls_loss 0.6932029128074646, cluster_loss 0.4117315709590912\n",
      "Epoch 8/30 - Training CLS Loss: 0.5590 - Train triplet Loss: 0.3834\n",
      "Epoch 8/30 - dev loss 0.6886063491304716 - F1 0.7826738365914457\n",
      "saving the checkpoint with dev f1 - 0.7826738365914457\n",
      "======== Epoch 9 / 30 ========\n"
     ]
    },
    {
     "name": "stderr",
     "output_type": "stream",
     "text": [
      "<ipython-input-95-29c5818d2fa6>:21: UserWarning: To copy construct from a tensor, it is recommended to use sourceTensor.clone().detach() or sourceTensor.clone().detach().requires_grad_(True), rather than torch.tensor(sourceTensor).\n",
      "  result[k] = torch.tensor(v)\n"
     ]
    },
    {
     "name": "stdout",
     "output_type": "stream",
     "text": [
      "after 0 step: cls_loss 0.46515020728111267, cluster_loss 0.514488935470581\n",
      "after 40 step: cls_loss 0.8055882453918457, cluster_loss 0.34717515110969543\n",
      "after 80 step: cls_loss 1.0880755186080933, cluster_loss 0.5391720533370972\n",
      "after 120 step: cls_loss 0.6400801539421082, cluster_loss 0.876589834690094\n",
      "after 160 step: cls_loss 0.4702274799346924, cluster_loss 0.31476134061813354\n",
      "after 200 step: cls_loss 0.16883538663387299, cluster_loss 0.36232444643974304\n",
      "after 240 step: cls_loss 0.32252582907676697, cluster_loss 0.44481831789016724\n",
      "Epoch 9/30 - Training CLS Loss: 0.5280 - Train triplet Loss: 0.3834\n",
      "Epoch 9/30 - dev loss 0.7147142867247264 - F1 0.7776611158175336\n",
      "======== Epoch 10 / 30 ========\n"
     ]
    },
    {
     "name": "stderr",
     "output_type": "stream",
     "text": [
      "<ipython-input-95-29c5818d2fa6>:21: UserWarning: To copy construct from a tensor, it is recommended to use sourceTensor.clone().detach() or sourceTensor.clone().detach().requires_grad_(True), rather than torch.tensor(sourceTensor).\n",
      "  result[k] = torch.tensor(v)\n"
     ]
    },
    {
     "name": "stdout",
     "output_type": "stream",
     "text": [
      "after 0 step: cls_loss 0.7513173222541809, cluster_loss 0.29298529028892517\n",
      "after 40 step: cls_loss 0.4214554727077484, cluster_loss 0.2840520739555359\n",
      "after 80 step: cls_loss 0.8120062351226807, cluster_loss 0.3064781129360199\n",
      "after 120 step: cls_loss 0.562789261341095, cluster_loss 0.4234977960586548\n",
      "after 160 step: cls_loss 0.1335000991821289, cluster_loss 0.2792850434780121\n",
      "after 200 step: cls_loss 0.21764449775218964, cluster_loss 0.20704330503940582\n",
      "after 240 step: cls_loss 0.1708439439535141, cluster_loss 0.3931189179420471\n",
      "Epoch 10/30 - Training CLS Loss: 0.5011 - Train triplet Loss: 0.3834\n",
      "Epoch 10/30 - dev loss 0.6915260511140029 - F1 0.7911833450753429\n",
      "saving the checkpoint with dev f1 - 0.7911833450753429\n",
      "======== Epoch 11 / 30 ========\n"
     ]
    },
    {
     "name": "stderr",
     "output_type": "stream",
     "text": [
      "<ipython-input-95-29c5818d2fa6>:21: UserWarning: To copy construct from a tensor, it is recommended to use sourceTensor.clone().detach() or sourceTensor.clone().detach().requires_grad_(True), rather than torch.tensor(sourceTensor).\n",
      "  result[k] = torch.tensor(v)\n"
     ]
    },
    {
     "name": "stdout",
     "output_type": "stream",
     "text": [
      "after 0 step: cls_loss 0.5654523372650146, cluster_loss 0.7237741351127625\n",
      "after 40 step: cls_loss 0.5370109677314758, cluster_loss 0.3176225423812866\n",
      "after 80 step: cls_loss 0.23958779871463776, cluster_loss 0.39612796902656555\n",
      "after 120 step: cls_loss 0.07287862151861191, cluster_loss 0.41806691884994507\n",
      "after 160 step: cls_loss 0.27939632534980774, cluster_loss 0.2772899270057678\n",
      "after 200 step: cls_loss 0.2846701145172119, cluster_loss 0.2360706627368927\n",
      "after 240 step: cls_loss 0.8485090732574463, cluster_loss 0.20036360621452332\n",
      "Epoch 11/30 - Training CLS Loss: 0.4846 - Train triplet Loss: 0.3834\n",
      "Epoch 11/30 - dev loss 0.7246609931190808 - F1 0.7779551219463214\n",
      "======== Epoch 12 / 30 ========\n"
     ]
    },
    {
     "name": "stderr",
     "output_type": "stream",
     "text": [
      "<ipython-input-95-29c5818d2fa6>:21: UserWarning: To copy construct from a tensor, it is recommended to use sourceTensor.clone().detach() or sourceTensor.clone().detach().requires_grad_(True), rather than torch.tensor(sourceTensor).\n",
      "  result[k] = torch.tensor(v)\n"
     ]
    },
    {
     "name": "stdout",
     "output_type": "stream",
     "text": [
      "after 0 step: cls_loss 0.10419705510139465, cluster_loss 0.2890898585319519\n",
      "after 40 step: cls_loss 0.44954782724380493, cluster_loss 0.6718926429748535\n",
      "after 80 step: cls_loss 0.6947851777076721, cluster_loss 0.3471754491329193\n",
      "after 120 step: cls_loss 0.3848472833633423, cluster_loss 0.2254094034433365\n",
      "after 160 step: cls_loss 0.13779973983764648, cluster_loss 0.38820475339889526\n",
      "after 200 step: cls_loss 0.1739346981048584, cluster_loss 0.6607751846313477\n",
      "after 240 step: cls_loss 0.14651216566562653, cluster_loss 0.29115456342697144\n",
      "Epoch 12/30 - Training CLS Loss: 0.4596 - Train triplet Loss: 0.3834\n",
      "Epoch 12/30 - dev loss 0.6851259631415209 - F1 0.8008609381862778\n",
      "saving the checkpoint with dev f1 - 0.8008609381862778\n",
      "======== Epoch 13 / 30 ========\n"
     ]
    },
    {
     "name": "stderr",
     "output_type": "stream",
     "text": [
      "<ipython-input-95-29c5818d2fa6>:21: UserWarning: To copy construct from a tensor, it is recommended to use sourceTensor.clone().detach() or sourceTensor.clone().detach().requires_grad_(True), rather than torch.tensor(sourceTensor).\n",
      "  result[k] = torch.tensor(v)\n"
     ]
    },
    {
     "name": "stdout",
     "output_type": "stream",
     "text": [
      "after 0 step: cls_loss 0.17670674622058868, cluster_loss 0.13926665484905243\n",
      "after 40 step: cls_loss 0.9273927211761475, cluster_loss 0.27242496609687805\n",
      "after 80 step: cls_loss 0.6295353770256042, cluster_loss 0.2064920961856842\n",
      "after 120 step: cls_loss 0.3178302049636841, cluster_loss 0.5794088840484619\n",
      "after 160 step: cls_loss 0.19628509879112244, cluster_loss 0.39612799882888794\n",
      "after 200 step: cls_loss 0.5243524312973022, cluster_loss 0.4196820855140686\n",
      "after 240 step: cls_loss 0.08890202641487122, cluster_loss 0.5127219557762146\n",
      "Epoch 13/30 - Training CLS Loss: 0.4394 - Train triplet Loss: 0.3834\n",
      "Epoch 13/30 - dev loss 0.7337185353040695 - F1 0.7872652936878525\n",
      "======== Epoch 14 / 30 ========\n"
     ]
    },
    {
     "name": "stderr",
     "output_type": "stream",
     "text": [
      "<ipython-input-95-29c5818d2fa6>:21: UserWarning: To copy construct from a tensor, it is recommended to use sourceTensor.clone().detach() or sourceTensor.clone().detach().requires_grad_(True), rather than torch.tensor(sourceTensor).\n",
      "  result[k] = torch.tensor(v)\n"
     ]
    },
    {
     "name": "stdout",
     "output_type": "stream",
     "text": [
      "after 0 step: cls_loss 0.7284616231918335, cluster_loss 0.5375152826309204\n",
      "after 40 step: cls_loss 0.8973067402839661, cluster_loss 0.2605400085449219\n",
      "after 80 step: cls_loss 0.17904295027256012, cluster_loss 0.13926656544208527\n",
      "after 120 step: cls_loss 0.21446432173252106, cluster_loss 0.23607058823108673\n",
      "after 160 step: cls_loss 0.6016647219657898, cluster_loss 0.7237734794616699\n",
      "after 200 step: cls_loss 0.7112023234367371, cluster_loss 0.43133851885795593\n",
      "after 240 step: cls_loss 0.6546207070350647, cluster_loss 0.8958576917648315\n",
      "Epoch 14/30 - Training CLS Loss: 0.4211 - Train triplet Loss: 0.3834\n",
      "Epoch 14/30 - dev loss 0.66724757005771 - F1 0.7955986634703588\n",
      "======== Epoch 15 / 30 ========\n"
     ]
    },
    {
     "name": "stderr",
     "output_type": "stream",
     "text": [
      "<ipython-input-95-29c5818d2fa6>:21: UserWarning: To copy construct from a tensor, it is recommended to use sourceTensor.clone().detach() or sourceTensor.clone().detach().requires_grad_(True), rather than torch.tensor(sourceTensor).\n",
      "  result[k] = torch.tensor(v)\n"
     ]
    },
    {
     "name": "stdout",
     "output_type": "stream",
     "text": [
      "after 0 step: cls_loss 0.19093471765518188, cluster_loss 0.24262838065624237\n",
      "after 40 step: cls_loss 0.6125449538230896, cluster_loss 0.723772406578064\n",
      "after 80 step: cls_loss 0.3788456320762634, cluster_loss 0.33756881952285767\n",
      "after 120 step: cls_loss 0.5515217781066895, cluster_loss 0.31820106506347656\n",
      "after 160 step: cls_loss 0.26583170890808105, cluster_loss 0.18936753273010254\n",
      "after 200 step: cls_loss 0.8683164715766907, cluster_loss 0.260540246963501\n",
      "after 240 step: cls_loss 0.43160679936408997, cluster_loss 0.27199167013168335\n",
      "Epoch 15/30 - Training CLS Loss: 0.4110 - Train triplet Loss: 0.3834\n",
      "Epoch 15/30 - dev loss 0.7141392198701699 - F1 0.7899302010993328\n",
      "======== Epoch 16 / 30 ========\n"
     ]
    },
    {
     "name": "stderr",
     "output_type": "stream",
     "text": [
      "<ipython-input-95-29c5818d2fa6>:21: UserWarning: To copy construct from a tensor, it is recommended to use sourceTensor.clone().detach() or sourceTensor.clone().detach().requires_grad_(True), rather than torch.tensor(sourceTensor).\n",
      "  result[k] = torch.tensor(v)\n"
     ]
    },
    {
     "name": "stdout",
     "output_type": "stream",
     "text": [
      "after 0 step: cls_loss 0.3988753855228424, cluster_loss 0.6470111012458801\n",
      "after 40 step: cls_loss 0.5134255886077881, cluster_loss 0.7237719297409058\n",
      "after 80 step: cls_loss 0.2743499279022217, cluster_loss 0.2019563764333725\n",
      "after 120 step: cls_loss 0.47622719407081604, cluster_loss 0.1632636934518814\n",
      "after 160 step: cls_loss 0.35966500639915466, cluster_loss 0.13621164858341217\n",
      "after 200 step: cls_loss 0.4074588418006897, cluster_loss 0.7362500429153442\n",
      "after 240 step: cls_loss 0.2524092495441437, cluster_loss 0.2700566053390503\n",
      "Epoch 16/30 - Training CLS Loss: 0.4024 - Train triplet Loss: 0.3834\n",
      "Epoch 16/30 - dev loss 0.7028248374660809 - F1 0.7994780622746263\n",
      "======== Epoch 17 / 30 ========\n"
     ]
    },
    {
     "name": "stderr",
     "output_type": "stream",
     "text": [
      "<ipython-input-95-29c5818d2fa6>:21: UserWarning: To copy construct from a tensor, it is recommended to use sourceTensor.clone().detach() or sourceTensor.clone().detach().requires_grad_(True), rather than torch.tensor(sourceTensor).\n",
      "  result[k] = torch.tensor(v)\n"
     ]
    },
    {
     "name": "stdout",
     "output_type": "stream",
     "text": [
      "after 0 step: cls_loss 0.9636669754981995, cluster_loss 0.4265996515750885\n",
      "after 40 step: cls_loss 0.18865272402763367, cluster_loss 0.49295759201049805\n",
      "after 80 step: cls_loss 0.15342076122760773, cluster_loss 0.20649248361587524\n",
      "after 120 step: cls_loss 0.3765753209590912, cluster_loss 1.1502362489700317\n"
     ]
    },
    {
     "ename": "KeyboardInterrupt",
     "evalue": "ignored",
     "output_type": "error",
     "traceback": [
      "\u001b[0;31m---------------------------------------------------------------------------\u001b[0m",
      "\u001b[0;31mKeyboardInterrupt\u001b[0m                         Traceback (most recent call last)",
      "\u001b[0;32m<ipython-input-103-e7c415069ecd>\u001b[0m in \u001b[0;36m<cell line: 2>\u001b[0;34m()\u001b[0m\n\u001b[1;32m      4\u001b[0m \u001b[0;34m\u001b[0m\u001b[0m\n\u001b[1;32m      5\u001b[0m     \u001b[0;31m# Training\u001b[0m\u001b[0;34m\u001b[0m\u001b[0;34m\u001b[0m\u001b[0m\n\u001b[0;32m----> 6\u001b[0;31m     \u001b[0mtrain_loss\u001b[0m \u001b[0;34m=\u001b[0m \u001b[0mtraining_step\u001b[0m\u001b[0;34m(\u001b[0m\u001b[0mmodel\u001b[0m\u001b[0;34m,\u001b[0m \u001b[0moptimizer\u001b[0m\u001b[0;34m,\u001b[0m \u001b[0mepoch_scheduler\u001b[0m\u001b[0;34m,\u001b[0m \u001b[0mtrain_dataloader\u001b[0m\u001b[0;34m)\u001b[0m\u001b[0;34m\u001b[0m\u001b[0;34m\u001b[0m\u001b[0m\n\u001b[0m\u001b[1;32m      7\u001b[0m     \u001b[0mtrain_epoch_losses\u001b[0m\u001b[0;34m[\u001b[0m\u001b[0;34m'cls'\u001b[0m\u001b[0;34m]\u001b[0m\u001b[0;34m.\u001b[0m\u001b[0mappend\u001b[0m\u001b[0;34m(\u001b[0m\u001b[0mtrain_loss\u001b[0m\u001b[0;34m[\u001b[0m\u001b[0;34m'cls'\u001b[0m\u001b[0;34m]\u001b[0m\u001b[0;34m)\u001b[0m\u001b[0;34m\u001b[0m\u001b[0;34m\u001b[0m\u001b[0m\n\u001b[1;32m      8\u001b[0m     \u001b[0mtrain_epoch_losses\u001b[0m\u001b[0;34m[\u001b[0m\u001b[0;34m'cluster'\u001b[0m\u001b[0;34m]\u001b[0m\u001b[0;34m.\u001b[0m\u001b[0mappend\u001b[0m\u001b[0;34m(\u001b[0m\u001b[0mtrain_loss\u001b[0m\u001b[0;34m[\u001b[0m\u001b[0;34m'cluster'\u001b[0m\u001b[0;34m]\u001b[0m\u001b[0;34m)\u001b[0m\u001b[0;34m\u001b[0m\u001b[0;34m\u001b[0m\u001b[0m\n",
      "\u001b[0;32m<ipython-input-101-b784b07b8fde>\u001b[0m in \u001b[0;36mtraining_step\u001b[0;34m(model, optimizer, scheduler, data_loader)\u001b[0m\n\u001b[1;32m     24\u001b[0m \u001b[0;34m\u001b[0m\u001b[0m\n\u001b[1;32m     25\u001b[0m         \u001b[0;31m# Forward pass\u001b[0m\u001b[0;34m\u001b[0m\u001b[0;34m\u001b[0m\u001b[0m\n\u001b[0;32m---> 26\u001b[0;31m         \u001b[0mlogits\u001b[0m\u001b[0;34m,\u001b[0m \u001b[0membeddings\u001b[0m \u001b[0;34m=\u001b[0m \u001b[0mmodel\u001b[0m\u001b[0;34m(\u001b[0m\u001b[0mbatch\u001b[0m\u001b[0;34m,\u001b[0m \u001b[0mlabels\u001b[0m\u001b[0;34m,\u001b[0m \u001b[0mget_embeddings\u001b[0m\u001b[0;34m=\u001b[0m\u001b[0;32mTrue\u001b[0m\u001b[0;34m)\u001b[0m\u001b[0;34m\u001b[0m\u001b[0;34m\u001b[0m\u001b[0m\n\u001b[0m\u001b[1;32m     27\u001b[0m \u001b[0;34m\u001b[0m\u001b[0m\n\u001b[1;32m     28\u001b[0m         \u001b[0mlogits\u001b[0m \u001b[0;34m=\u001b[0m \u001b[0mlogits\u001b[0m\u001b[0;34m.\u001b[0m\u001b[0msqueeze\u001b[0m\u001b[0;34m(\u001b[0m\u001b[0;34m)\u001b[0m\u001b[0;34m\u001b[0m\u001b[0;34m\u001b[0m\u001b[0m\n",
      "\u001b[0;32m/usr/local/lib/python3.10/dist-packages/torch/nn/modules/module.py\u001b[0m in \u001b[0;36m_call_impl\u001b[0;34m(self, *input, **kwargs)\u001b[0m\n\u001b[1;32m   1128\u001b[0m         if not (self._backward_hooks or self._forward_hooks or self._forward_pre_hooks or _global_backward_hooks\n\u001b[1;32m   1129\u001b[0m                 or _global_forward_hooks or _global_forward_pre_hooks):\n\u001b[0;32m-> 1130\u001b[0;31m             \u001b[0;32mreturn\u001b[0m \u001b[0mforward_call\u001b[0m\u001b[0;34m(\u001b[0m\u001b[0;34m*\u001b[0m\u001b[0minput\u001b[0m\u001b[0;34m,\u001b[0m \u001b[0;34m**\u001b[0m\u001b[0mkwargs\u001b[0m\u001b[0;34m)\u001b[0m\u001b[0;34m\u001b[0m\u001b[0;34m\u001b[0m\u001b[0m\n\u001b[0m\u001b[1;32m   1131\u001b[0m         \u001b[0;31m# Do not call functions when jit is used\u001b[0m\u001b[0;34m\u001b[0m\u001b[0;34m\u001b[0m\u001b[0m\n\u001b[1;32m   1132\u001b[0m         \u001b[0mfull_backward_hooks\u001b[0m\u001b[0;34m,\u001b[0m \u001b[0mnon_full_backward_hooks\u001b[0m \u001b[0;34m=\u001b[0m \u001b[0;34m[\u001b[0m\u001b[0;34m]\u001b[0m\u001b[0;34m,\u001b[0m \u001b[0;34m[\u001b[0m\u001b[0;34m]\u001b[0m\u001b[0;34m\u001b[0m\u001b[0;34m\u001b[0m\u001b[0m\n",
      "\u001b[0;32m/content/models.py\u001b[0m in \u001b[0;36mforward\u001b[0;34m(self, batch, labels, get_embeddings)\u001b[0m\n\u001b[1;32m    221\u001b[0m \u001b[0;34m\u001b[0m\u001b[0m\n\u001b[1;32m    222\u001b[0m         \u001b[0;31m# shape (documents*sentences, tokens, 768)\u001b[0m\u001b[0;34m\u001b[0m\u001b[0;34m\u001b[0m\u001b[0m\n\u001b[0;32m--> 223\u001b[0;31m         \u001b[0mbert_embeddings\u001b[0m \u001b[0;34m=\u001b[0m \u001b[0mself\u001b[0m\u001b[0;34m.\u001b[0m\u001b[0mbert\u001b[0m\u001b[0;34m(\u001b[0m\u001b[0mbatch\u001b[0m\u001b[0;34m)\u001b[0m\u001b[0;34m\u001b[0m\u001b[0;34m\u001b[0m\u001b[0m\n\u001b[0m\u001b[1;32m    224\u001b[0m \u001b[0;34m\u001b[0m\u001b[0m\n\u001b[1;32m    225\u001b[0m         \u001b[0;31m# in Jin et al. only here dropout\u001b[0m\u001b[0;34m\u001b[0m\u001b[0;34m\u001b[0m\u001b[0m\n",
      "\u001b[0;32m/usr/local/lib/python3.10/dist-packages/torch/nn/modules/module.py\u001b[0m in \u001b[0;36m_call_impl\u001b[0;34m(self, *input, **kwargs)\u001b[0m\n\u001b[1;32m   1128\u001b[0m         if not (self._backward_hooks or self._forward_hooks or self._forward_pre_hooks or _global_backward_hooks\n\u001b[1;32m   1129\u001b[0m                 or _global_forward_hooks or _global_forward_pre_hooks):\n\u001b[0;32m-> 1130\u001b[0;31m             \u001b[0;32mreturn\u001b[0m \u001b[0mforward_call\u001b[0m\u001b[0;34m(\u001b[0m\u001b[0;34m*\u001b[0m\u001b[0minput\u001b[0m\u001b[0;34m,\u001b[0m \u001b[0;34m**\u001b[0m\u001b[0mkwargs\u001b[0m\u001b[0;34m)\u001b[0m\u001b[0;34m\u001b[0m\u001b[0;34m\u001b[0m\u001b[0m\n\u001b[0m\u001b[1;32m   1131\u001b[0m         \u001b[0;31m# Do not call functions when jit is used\u001b[0m\u001b[0;34m\u001b[0m\u001b[0;34m\u001b[0m\u001b[0m\n\u001b[1;32m   1132\u001b[0m         \u001b[0mfull_backward_hooks\u001b[0m\u001b[0;34m,\u001b[0m \u001b[0mnon_full_backward_hooks\u001b[0m \u001b[0;34m=\u001b[0m \u001b[0;34m[\u001b[0m\u001b[0;34m]\u001b[0m\u001b[0;34m,\u001b[0m \u001b[0;34m[\u001b[0m\u001b[0;34m]\u001b[0m\u001b[0;34m\u001b[0m\u001b[0;34m\u001b[0m\u001b[0m\n",
      "\u001b[0;32m/content/models.py\u001b[0m in \u001b[0;36mforward\u001b[0;34m(self, batch)\u001b[0m\n\u001b[1;32m    167\u001b[0m             \u001b[0;31m# cache the embeddings of BERT if it is not fine-tuned\u001b[0m\u001b[0;34m\u001b[0m\u001b[0;34m\u001b[0m\u001b[0m\n\u001b[1;32m    168\u001b[0m             \u001b[0;31m# to save GPU memory put the values on CPU\u001b[0m\u001b[0;34m\u001b[0m\u001b[0;34m\u001b[0m\u001b[0m\n\u001b[0;32m--> 169\u001b[0;31m             \u001b[0mbatch\u001b[0m\u001b[0;34m[\u001b[0m\u001b[0;34m\"bert_embeddings\"\u001b[0m\u001b[0;34m]\u001b[0m \u001b[0;34m=\u001b[0m \u001b[0mbert_embeddings\u001b[0m\u001b[0;34m.\u001b[0m\u001b[0mto\u001b[0m\u001b[0;34m(\u001b[0m\u001b[0;34m\"cpu\"\u001b[0m\u001b[0;34m)\u001b[0m\u001b[0;34m\u001b[0m\u001b[0;34m\u001b[0m\u001b[0m\n\u001b[0m\u001b[1;32m    170\u001b[0m \u001b[0;34m\u001b[0m\u001b[0m\n\u001b[1;32m    171\u001b[0m         \u001b[0;32mreturn\u001b[0m \u001b[0mbert_embeddings\u001b[0m\u001b[0;34m\u001b[0m\u001b[0;34m\u001b[0m\u001b[0m\n",
      "\u001b[0;31mKeyboardInterrupt\u001b[0m: "
     ]
    }
   ],
   "source": [
    "# Training loop\n",
    "for epoch in range(epochs):\n",
    "    print('======== Epoch {:} / {:} ========'.format(epoch + 1, epochs))\n",
    "\n",
    "    # Training\n",
    "    train_loss = training_step(model, optimizer, epoch_scheduler, train_dataloader)\n",
    "    train_epoch_losses['cls'].append(train_loss['cls'])\n",
    "    print(f\"Epoch {epoch+1}/{epochs} - Training CLS Loss: {train_loss['cls']:.4f}:.4f}\")\n",
    "\n",
    "    # Validation\n",
    "    dev_f1, dev_loss = validation_step(model, valid_dataloader)\n",
    "    dev_epoch_losses.append(dev_loss)\n",
    "    dev_epoch_f1.append(dev_f1)\n",
    "    print(f\"Epoch {epoch+1}/{epochs} - dev loss {dev_loss} - F1 {dev_f1}\")\n",
    "\n",
    "    if dev_f1 > best_dev_f1:\n",
    "        best_dev_f1 = dev_f1\n",
    "        best_model = copy.deepcopy(model)\n",
    "        print(f'saving the checkpoint with dev f1 - {best_dev_f1}')"
   ]
  },
  {
   "cell_type": "code",
   "execution_count": 104,
   "id": "11038361",
   "metadata": {
    "colab": {
     "base_uri": "https://localhost:8080/",
     "height": 927
    },
    "id": "11038361",
    "outputId": "0b8ec9ac-a09d-4a10-966e-168dbb869e05"
   },
   "outputs": [
    {
     "data": {
      "image/png": "[encoded data removed]",
      "text/plain": [
       "<Figure size 640x480 with 1 Axes>"
      ]
     },
     "metadata": {},
     "output_type": "display_data"
    },
    {
     "data": {
      "image/png": "[encoded data removed]",
      "text/plain": [
       "<Figure size 640x480 with 1 Axes>"
      ]
     },
     "metadata": {},
     "output_type": "display_data"
    }
   ],
   "source": [
    "import matplotlib.pyplot as plt\n",
    "\n",
    "# Plot the epoch loss\n",
    "plt.plot(train_epoch_losses['cls'], label='Training Loss')\n",
    "plt.plot(dev_epoch_losses, label='Validation Loss')\n",
    "plt.xlabel('Epoch')\n",
    "plt.ylabel('Loss')\n",
    "plt.legend()\n",
    "plt.title('Epoch Loss')\n",
    "plt.show()\n",
    "\n",
    "# Plot the epoch accuracies\n",
    "#plt.plot(train_epoch_acc, label='Training acc')\n",
    "plt.plot(dev_epoch_f1, label='Validation acc')\n",
    "plt.xlabel('Epoch')\n",
    "plt.ylabel('Accuracy')\n",
    "plt.legend()\n",
    "plt.title('Epoch Accuracy')\n",
    "plt.show()"
   ]
  },
  {
   "cell_type": "code",
   "execution_count": 105,
   "id": "Joffk4CRnlfM",
   "metadata": {
    "colab": {
     "base_uri": "https://localhost:8080/"
    },
    "id": "Joffk4CRnlfM",
    "outputId": "4796ab46-b723-4cf9-a3d5-f73e8c3af271"
   },
   "outputs": [
    {
     "data": {
      "text/plain": [
       "device(type='cuda')"
      ]
     },
     "execution_count": 105,
     "metadata": {},
     "output_type": "execute_result"
    }
   ],
   "source": [
    "device = torch.device('cuda' if torch.cuda.is_available() else 'cpu')\n",
    "\n",
    "device"
   ]
  },
  {
   "cell_type": "code",
   "execution_count": 106,
   "id": "95e37c02",
   "metadata": {
    "id": "95e37c02"
   },
   "outputs": [],
   "source": [
    "from sklearn.metrics import classification_report\n",
    "\n",
    "def testing_step(model, data_loader):\n",
    "    model.eval()  # Set the model to evaluation mode\n",
    "    predictions = []\n",
    "    true_labels = []\n",
    "    test_loss = 0.0\n",
    "    test_correct = 0\n",
    "    test_total = 0\n",
    "\n",
    "    model.to(device)\n",
    "\n",
    "    for batch in data_loader:\n",
    "        with torch.no_grad():\n",
    "\n",
    "            batch = batch_to_tensor(batch)\n",
    "            for key, tensor in batch.items():\n",
    "               batch[key] = tensor.to(device)\n",
    "            labels = batch['label_ids']\n",
    "            # Forward pass\n",
    "            logits = model(batch)\n",
    "            #max_sequence_length = outputs.size(1)\n",
    "            #tlengths = torch.tensor(lengths).unsqueeze(1)\n",
    "            #mask = torch.arange(max_sequence_length).unsqueeze(0).to(device) < tlengths\n",
    "            #masked_output = outputs[mask]\n",
    "            logits = logits.transpose(1, 2)\n",
    "            predicted_labels = torch.argmax(logits, dim=1)\n",
    "\n",
    "            # Calculate loss\n",
    "            #loss = criterion(masked_output, labels)\n",
    "            #test_loss += loss.item()\n",
    "\n",
    "            # Store predictions and true labels\n",
    "            #predicted_labels = masked_output.argmax(dim=-1)\n",
    "            predictions.extend(predicted_labels.cpu().numpy())\n",
    "            true_labels.extend(labels.cpu().numpy())\n",
    "\n",
    "            # Calculate accuracy\n",
    "            predicted_labels = predicted_labels.to('cpu')\n",
    "            labels = labels.to('cpu')\n",
    "\n",
    "\n",
    "            correct = (predicted_labels == labels).sum().item()\n",
    "            test_correct += correct\n",
    "            test_total += labels.shape[0]\n",
    "\n",
    "    predictions = functools.reduce(operator.iconcat, predictions, [])\n",
    "    true_labels = functools.reduce(operator.iconcat, true_labels, [])\n",
    "\n",
    "    test_loss /= len(data_loader)\n",
    "    test_accuracy = test_correct / test_total\n",
    "\n",
    "    print(f\"Testing Loss: {test_loss:.4f} - Testing Accuracy: {test_accuracy:.4f}\")\n",
    "    print(classification_report(true_labels, predictions))\n",
    "    return test_loss, test_accuracy, predictions, true_labels"
   ]
  },
  {
   "cell_type": "code",
   "execution_count": 108,
   "id": "0FED-ERjhbvY",
   "metadata": {
    "colab": {
     "base_uri": "https://localhost:8080/"
    },
    "id": "0FED-ERjhbvY",
    "outputId": "235f4373-e46c-40f9-b446-d111a6bb0b40"
   },
   "outputs": [
    {
     "name": "stderr",
     "output_type": "stream",
     "text": [
      "<ipython-input-95-29c5818d2fa6>:21: UserWarning: To copy construct from a tensor, it is recommended to use sourceTensor.clone().detach() or sourceTensor.clone().detach().requires_grad_(True), rather than torch.tensor(sourceTensor).\n",
      "  result[k] = torch.tensor(v)\n"
     ]
    },
    {
     "name": "stdout",
     "output_type": "stream",
     "text": [
      "Testing Loss: 0.0000 - Testing Accuracy: 77.1667\n",
      "              precision    recall  f1-score   support\n",
      "\n",
      "           0       0.99      0.99      0.99       508\n",
      "           1       0.75      0.90      0.82       580\n",
      "           2       0.61      0.19      0.29       116\n",
      "           3       0.79      0.76      0.78        50\n",
      "           4       0.37      0.16      0.22        70\n",
      "           5       0.81      0.34      0.48        38\n",
      "           6       0.78      0.84      0.81       984\n",
      "           7       0.41      0.75      0.53        28\n",
      "           8       0.79      0.39      0.53       142\n",
      "           9       0.00      0.00      0.00        12\n",
      "          10       0.53      0.56      0.55        70\n",
      "          11       0.85      0.93      0.89        91\n",
      "          12       0.92      0.91      0.91       190\n",
      "\n",
      "    accuracy                           0.80      2879\n",
      "   macro avg       0.66      0.59      0.60      2879\n",
      "weighted avg       0.80      0.80      0.79      2879\n",
      "\n"
     ]
    },
    {
     "name": "stderr",
     "output_type": "stream",
     "text": [
      "/usr/local/lib/python3.10/dist-packages/sklearn/metrics/_classification.py:1344: UndefinedMetricWarning: Precision and F-score are ill-defined and being set to 0.0 in labels with no predicted samples. Use `zero_division` parameter to control this behavior.\n",
      "  _warn_prf(average, modifier, msg_start, len(result))\n",
      "/usr/local/lib/python3.10/dist-packages/sklearn/metrics/_classification.py:1344: UndefinedMetricWarning: Precision and F-score are ill-defined and being set to 0.0 in labels with no predicted samples. Use `zero_division` parameter to control this behavior.\n",
      "  _warn_prf(average, modifier, msg_start, len(result))\n",
      "/usr/local/lib/python3.10/dist-packages/sklearn/metrics/_classification.py:1344: UndefinedMetricWarning: Precision and F-score are ill-defined and being set to 0.0 in labels with no predicted samples. Use `zero_division` parameter to control this behavior.\n",
      "  _warn_prf(average, modifier, msg_start, len(result))\n"
     ]
    }
   ],
   "source": [
    "test_loss, test_accuracy, predictions, true_labels = testing_step(model, valid_dataloader)"
   ]
  },
  {
   "cell_type": "code",
   "execution_count": 109,
   "id": "safFrbWucr7W",
   "metadata": {
    "colab": {
     "base_uri": "https://localhost:8080/"
    },
    "id": "safFrbWucr7W",
    "outputId": "3670144d-682e-4193-efbb-310f39272dc3"
   },
   "outputs": [
    {
     "name": "stderr",
     "output_type": "stream",
     "text": [
      "<ipython-input-95-29c5818d2fa6>:21: UserWarning: To copy construct from a tensor, it is recommended to use sourceTensor.clone().detach() or sourceTensor.clone().detach().requires_grad_(True), rather than torch.tensor(sourceTensor).\n",
      "  result[k] = torch.tensor(v)\n"
     ]
    },
    {
     "name": "stdout",
     "output_type": "stream",
     "text": [
      "Testing Loss: 0.0000 - Testing Accuracy: 78.1333\n",
      "              precision    recall  f1-score   support\n",
      "\n",
      "           0       0.99      1.00      0.99       508\n",
      "           1       0.81      0.85      0.83       580\n",
      "           2       0.62      0.34      0.44       116\n",
      "           3       0.85      0.78      0.81        50\n",
      "           4       0.46      0.27      0.34        70\n",
      "           5       0.59      0.26      0.36        38\n",
      "           6       0.77      0.89      0.82       984\n",
      "           7       0.47      0.75      0.58        28\n",
      "           8       0.81      0.36      0.50       142\n",
      "           9       0.00      0.00      0.00        12\n",
      "          10       0.58      0.56      0.57        70\n",
      "          11       0.87      0.90      0.89        91\n",
      "          12       0.93      0.89      0.91       190\n",
      "\n",
      "    accuracy                           0.81      2879\n",
      "   macro avg       0.67      0.60      0.62      2879\n",
      "weighted avg       0.81      0.81      0.80      2879\n",
      "\n"
     ]
    },
    {
     "name": "stderr",
     "output_type": "stream",
     "text": [
      "/usr/local/lib/python3.10/dist-packages/sklearn/metrics/_classification.py:1344: UndefinedMetricWarning: Precision and F-score are ill-defined and being set to 0.0 in labels with no predicted samples. Use `zero_division` parameter to control this behavior.\n",
      "  _warn_prf(average, modifier, msg_start, len(result))\n",
      "/usr/local/lib/python3.10/dist-packages/sklearn/metrics/_classification.py:1344: UndefinedMetricWarning: Precision and F-score are ill-defined and being set to 0.0 in labels with no predicted samples. Use `zero_division` parameter to control this behavior.\n",
      "  _warn_prf(average, modifier, msg_start, len(result))\n",
      "/usr/local/lib/python3.10/dist-packages/sklearn/metrics/_classification.py:1344: UndefinedMetricWarning: Precision and F-score are ill-defined and being set to 0.0 in labels with no predicted samples. Use `zero_division` parameter to control this behavior.\n",
      "  _warn_prf(average, modifier, msg_start, len(result))\n"
     ]
    }
   ],
   "source": [
    "test_loss, test_accuracy, predictions, true_labels = testing_step(best_model, valid_dataloader)"
   ]
  },
  {
   "cell_type": "code",
   "execution_count": null,
   "id": "aec7d93d",
   "metadata": {
    "colab": {
     "base_uri": "https://localhost:8080/"
    },
    "id": "aec7d93d",
    "outputId": "2035ea55-676f-411c-e157-e9a962f28ab4"
   },
   "outputs": [
    {
     "name": "stderr",
     "output_type": "stream",
     "text": [
      "<ipython-input-19-29c5818d2fa6>:21: UserWarning: To copy construct from a tensor, it is recommended to use sourceTensor.clone().detach() or sourceTensor.clone().detach().requires_grad_(True), rather than torch.tensor(sourceTensor).\n",
      "  result[k] = torch.tensor(v)\n"
     ]
    },
    {
     "name": "stdout",
     "output_type": "stream",
     "text": [
      "Testing Loss: 0.0000 - Testing Accuracy: 169.4000\n",
      "              precision    recall  f1-score   support\n",
      "\n",
      "           0       0.60      0.59      0.59       326\n",
      "           1       0.91      0.73      0.81       201\n",
      "           2       0.53      0.31      0.39       256\n",
      "           3       0.59      0.83      0.69       434\n",
      "           4       0.00      0.00      0.00        23\n",
      "           5       0.67      0.83      0.74        12\n",
      "           6       0.74      0.66      0.70        86\n",
      "\n",
      "    accuracy                           0.63      1338\n",
      "   macro avg       0.58      0.57      0.56      1338\n",
      "weighted avg       0.63      0.63      0.62      1338\n",
      "\n"
     ]
    }
   ],
   "source": [
    "# Testing loop\n",
    "#test_loss, test_accuracy, predictions, true_labels = testing_step(model, test_dataloader)"
   ]
  },
  {
   "cell_type": "code",
   "execution_count": null,
   "id": "4f13e334",
   "metadata": {
    "colab": {
     "base_uri": "https://localhost:8080/"
    },
    "id": "4f13e334",
    "outputId": "df45c69b-9de5-40c1-bb70-60a725829adf"
   },
   "outputs": [
    {
     "name": "stderr",
     "output_type": "stream",
     "text": [
      "<ipython-input-19-29c5818d2fa6>:21: UserWarning: To copy construct from a tensor, it is recommended to use sourceTensor.clone().detach() or sourceTensor.clone().detach().requires_grad_(True), rather than torch.tensor(sourceTensor).\n",
      "  result[k] = torch.tensor(v)\n"
     ]
    },
    {
     "name": "stdout",
     "output_type": "stream",
     "text": [
      "Testing Loss: 0.0000 - Testing Accuracy: 174.6000\n",
      "              precision    recall  f1-score   support\n",
      "\n",
      "           0       0.62      0.58      0.60       326\n",
      "           1       0.82      0.81      0.82       201\n",
      "           2       0.56      0.41      0.47       256\n",
      "           3       0.63      0.80      0.71       434\n",
      "           4       0.00      0.00      0.00        23\n",
      "           5       0.62      0.83      0.71        12\n",
      "           6       0.71      0.70      0.70        86\n",
      "\n",
      "    accuracy                           0.65      1338\n",
      "   macro avg       0.57      0.59      0.57      1338\n",
      "weighted avg       0.64      0.65      0.64      1338\n",
      "\n"
     ]
    },
    {
     "name": "stderr",
     "output_type": "stream",
     "text": [
      "/usr/local/lib/python3.10/dist-packages/sklearn/metrics/_classification.py:1344: UndefinedMetricWarning: Precision and F-score are ill-defined and being set to 0.0 in labels with no predicted samples. Use `zero_division` parameter to control this behavior.\n",
      "  _warn_prf(average, modifier, msg_start, len(result))\n",
      "/usr/local/lib/python3.10/dist-packages/sklearn/metrics/_classification.py:1344: UndefinedMetricWarning: Precision and F-score are ill-defined and being set to 0.0 in labels with no predicted samples. Use `zero_division` parameter to control this behavior.\n",
      "  _warn_prf(average, modifier, msg_start, len(result))\n",
      "/usr/local/lib/python3.10/dist-packages/sklearn/metrics/_classification.py:1344: UndefinedMetricWarning: Precision and F-score are ill-defined and being set to 0.0 in labels with no predicted samples. Use `zero_division` parameter to control this behavior.\n",
      "  _warn_prf(average, modifier, msg_start, len(result))\n"
     ]
    }
   ],
   "source": [
    "# Testing loop\n",
    "#test_loss, test_accuracy, predictions, true_labels = testing_step(best_model, test_dataloader)"
   ]
  },
  {
   "cell_type": "code",
   "execution_count": null,
   "id": "5cdad956",
   "metadata": {
    "id": "5cdad956"
   },
   "outputs": [],
   "source": []
  }
 ],
 "metadata": {
  "accelerator": "GPU",
  "colab": {
   "gpuType": "T4",
   "provenance": []
  },
  "kernelspec": {
   "display_name": "Lnlp",
   "language": "python",
   "name": "lnlp"
  },
  "language_info": {
   "codemirror_mode": {
    "name": "ipython",
    "version": 3
   },
   "file_extension": ".py",
   "mimetype": "text/x-python",
   "name": "python",
   "nbconvert_exporter": "python",
   "pygments_lexer": "ipython3",
   "version": "3.11.3"
  }
 },
 "nbformat": 4,
 "nbformat_minor": 5
}
