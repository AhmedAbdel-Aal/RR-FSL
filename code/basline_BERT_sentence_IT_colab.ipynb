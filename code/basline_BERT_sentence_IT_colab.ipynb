{
  "cells": [
    {
      "cell_type": "markdown",
      "id": "27d23573",
      "metadata": {
        "id": "27d23573"
      },
      "source": [
        "# Notebook for google colab\n",
        "\n",
        "- requirments:\n",
        "    - load the data csv files, for ex: (train_it.csv, dev_it.csv, test_it.csv)\n",
        "    - load the configuration file, for ex: baseline_IT.json\n",
        "    - load models.py\n",
        "    - change the data:root_path in the config value to '/content/'"
      ]
    },
    {
      "cell_type": "code",
      "execution_count": 1,
      "id": "UY3rFuQEwQUL",
      "metadata": {
        "colab": {
          "base_uri": "https://localhost:8080/"
        },
        "id": "UY3rFuQEwQUL",
        "outputId": "19c3598e-3bb5-42ca-cea2-d49db1895e11"
      },
      "outputs": [
        {
          "output_type": "stream",
          "name": "stdout",
          "text": [
            "Looking in indexes: https://pypi.org/simple, https://us-python.pkg.dev/colab-wheels/public/simple/\n",
            "Requirement already satisfied: transformers in /usr/local/lib/python3.10/dist-packages (4.29.2)\n",
            "Requirement already satisfied: filelock in /usr/local/lib/python3.10/dist-packages (from transformers) (3.12.0)\n",
            "Requirement already satisfied: huggingface-hub<1.0,>=0.14.1 in /usr/local/lib/python3.10/dist-packages (from transformers) (0.14.1)\n",
            "Requirement already satisfied: numpy>=1.17 in /usr/local/lib/python3.10/dist-packages (from transformers) (1.22.4)\n",
            "Requirement already satisfied: packaging>=20.0 in /usr/local/lib/python3.10/dist-packages (from transformers) (23.1)\n",
            "Requirement already satisfied: pyyaml>=5.1 in /usr/local/lib/python3.10/dist-packages (from transformers) (6.0)\n",
            "Requirement already satisfied: regex!=2019.12.17 in /usr/local/lib/python3.10/dist-packages (from transformers) (2022.10.31)\n",
            "Requirement already satisfied: requests in /usr/local/lib/python3.10/dist-packages (from transformers) (2.27.1)\n",
            "Requirement already satisfied: tokenizers!=0.11.3,<0.14,>=0.11.1 in /usr/local/lib/python3.10/dist-packages (from transformers) (0.13.3)\n",
            "Requirement already satisfied: tqdm>=4.27 in /usr/local/lib/python3.10/dist-packages (from transformers) (4.65.0)\n",
            "Requirement already satisfied: fsspec in /usr/local/lib/python3.10/dist-packages (from huggingface-hub<1.0,>=0.14.1->transformers) (2023.4.0)\n",
            "Requirement already satisfied: typing-extensions>=3.7.4.3 in /usr/local/lib/python3.10/dist-packages (from huggingface-hub<1.0,>=0.14.1->transformers) (4.5.0)\n",
            "Requirement already satisfied: urllib3<1.27,>=1.21.1 in /usr/local/lib/python3.10/dist-packages (from requests->transformers) (1.26.15)\n",
            "Requirement already satisfied: certifi>=2017.4.17 in /usr/local/lib/python3.10/dist-packages (from requests->transformers) (2022.12.7)\n",
            "Requirement already satisfied: charset-normalizer~=2.0.0 in /usr/local/lib/python3.10/dist-packages (from requests->transformers) (2.0.12)\n",
            "Requirement already satisfied: idna<4,>=2.5 in /usr/local/lib/python3.10/dist-packages (from requests->transformers) (3.4)\n"
          ]
        }
      ],
      "source": [
        "!pip install transformers"
      ]
    },
    {
      "cell_type": "code",
      "execution_count": 2,
      "id": "cd2d9f1e",
      "metadata": {
        "id": "cd2d9f1e"
      },
      "outputs": [],
      "source": [
        "import os\n",
        "import random\n",
        "import time\n",
        "import datetime\n",
        "import json\n",
        "import pandas as pd\n",
        "import numpy as np\n",
        "import torch\n",
        "\n",
        "from pathlib import Path\n",
        "from torch.utils.data import DataLoader, Dataset\n",
        "from transformers import BertForSequenceClassification, BertTokenizer, AdamW, BertConfig\n",
        "from transformers import get_linear_schedule_with_warmup"
      ]
    },
    {
      "cell_type": "code",
      "execution_count": 3,
      "id": "5633d432",
      "metadata": {
        "id": "5633d432"
      },
      "outputs": [],
      "source": [
        "# Load the config file\n",
        "def load_config(config_path):\n",
        "    # Load and parse the config file\n",
        "    with open(config_path, 'r') as f:\n",
        "        config = json.load(f)\n",
        "\n",
        "    return config\n",
        "\n",
        "config = load_config('/content/baseline_IT.json')"
      ]
    },
    {
      "cell_type": "code",
      "execution_count": 8,
      "id": "b9c41dc8",
      "metadata": {
        "id": "b9c41dc8"
      },
      "outputs": [],
      "source": [
        "import pandas as pd\n",
        "from torch.utils.data import Dataset, DataLoader\n",
        "from transformers import AutoTokenizer\n",
        "\n",
        "class Tokenizer:\n",
        "    def __init__(self, tokenizer_name):\n",
        "        self.tokenizer = AutoTokenizer.from_pretrained(tokenizer_name)\n",
        "\n",
        "    def tokenize(self, sentence):\n",
        "        return self.tokenizer.tokenize(sentence)\n",
        "\n",
        "    def encode(self, sentence):\n",
        "        return self.tokenizer.encode_plus(sentence, padding='max_length', truncation=True, return_tensors='pt', max_length=256)\n",
        "\n",
        "class RhetoricalRoleDataset(Dataset):\n",
        "    def __init__(self, data_path, tokenizer, mapper:str = 'compressed'):\n",
        "        self.tokenizer = tokenizer\n",
        "        self.data = pd.read_csv(data_path)\n",
        "        self.sentences = self.data['sentences'].tolist()\n",
        "        self.labels = self.data['labels'].tolist()\n",
        "        print(f'loaded data with {len(self.sentences)} sentences and {len(self.labels)} {mapper} labels')\n",
        "        # Create the label mapping dictionary\n",
        "        label_mapping = {}\n",
        "        # Assign unique integer labels to each unique string label\n",
        "        compressed_label_mapper = {\n",
        "        \"Fact\": 0,\n",
        "        \"Argument\": 1, \"Argument\": 1,\n",
        "        \"RulingP\": 2, \"RulingL\": 3, \n",
        "        \"Ratio\": 4,\n",
        "        \"None\": -1,\n",
        "        \"Statute\": 5,\n",
        "        \"Precedent\": 6,\n",
        "        \"Issue\": 0,\"Dissent\": 0\n",
        "         }\n",
        "        full_label_mapper = {\n",
        "        \"Fact\": 0,\n",
        "        \"ArgumentPetitioner\": 1,\n",
        "        \"ArgumentRespondent\": 2,\n",
        "        \"RulingByPresentCourt\": 3,\n",
        "        \"RulingByLowerCourt\": 4,\n",
        "        \"RatioOfTheDecision\": 5,\n",
        "        \"None\": 6,\n",
        "        \"Statute\": 7,\n",
        "        \"PrecedentReliedUpon\": 8,\n",
        "        \"PrecedentNotReliedUpon\": 9,\n",
        "        \"PrecedentOverruled\": 10,\n",
        "        \"Issue\": 11,\n",
        "        \"Dissent\": 12\n",
        "        }\n",
        "        if mapper == 'compressed':\n",
        "          label_mapping = compressed_label_mapper\n",
        "        else:\n",
        "          label_mapping = full_label_mapper\n",
        "        # Convert the string labels to integer labels using the mapping\n",
        "        self.integer_labels = [label_mapping[label] for label in self.labels]\n",
        "\n",
        "\n",
        "    def __len__(self):\n",
        "        return len(self.sentences)\n",
        "    \n",
        "    def num_labels(self):\n",
        "        return len(set(self.labels))\n",
        "\n",
        "    def __getitem__(self, idx):\n",
        "        sentence = self.sentences[idx]\n",
        "        label = self.integer_labels[idx]\n",
        "\n",
        "        encoded_input = self.tokenizer.encode(sentence)\n",
        "        input_ids = encoded_input['input_ids'].squeeze()\n",
        "        attention_mask = encoded_input['attention_mask'].squeeze()\n",
        "\n",
        "        return {\n",
        "            'input_ids': input_ids,\n",
        "            'attention_mask': attention_mask,\n",
        "            'labels': label\n",
        "        }"
      ]
    },
    {
      "cell_type": "code",
      "execution_count": 9,
      "id": "2c3d5267",
      "metadata": {
        "colab": {
          "base_uri": "https://localhost:8080/"
        },
        "id": "2c3d5267",
        "outputId": "f9379b27-fdeb-466e-81a5-27774f17af69"
      },
      "outputs": [
        {
          "output_type": "stream",
          "name": "stdout",
          "text": [
            "loaded tokenizer: bert-base-uncased\n",
            "device used: cuda\n"
          ]
        }
      ],
      "source": [
        "# load model name\n",
        "model_name = config['model']['name']\n",
        "model_save_name = config['model']['save_name']\n",
        "\n",
        "# Create an instance of the tokenizer\n",
        "tokenizer = Tokenizer(config['model']['name'])\n",
        "print(f\"loaded tokenizer: {model_name}\")\n",
        "\n",
        "# assign device\n",
        "device = torch.device('cuda' if torch.cuda.is_available() else 'cpu')\n",
        "print(f\"device used: {device}\")"
      ]
    },
    {
      "cell_type": "code",
      "execution_count": 6,
      "id": "551efd68",
      "metadata": {
        "colab": {
          "base_uri": "https://localhost:8080/",
          "height": 207,
          "referenced_widgets": [
            "e09b37056c1a4b33adf2441b5d4337bd",
            "3cf6ebd76c9940ad99e06afe8d96227d",
            "9d2f2ba549864733a00461afe263f191",
            "ed3fb1c2a7de48c7b1023f6ab0acd395",
            "4ca0f816a51c4b91aea1c3df4ae3a4eb",
            "e75b12ed40eb4244b056f3459a20a41b",
            "db379c7ac1b04e8aaa1e000bfe0d4109",
            "96bff2cec9ac467180ea4837e8957754",
            "8b46db01da334b5b8c0d38c21e44eef9",
            "6f8115cec3a144c0b019ef4b414664b1",
            "91c990be0f9546f380787e5a3a70a437"
          ]
        },
        "id": "551efd68",
        "outputId": "ada79166-03dd-482d-cff3-2074d97b7b93"
      },
      "outputs": [
        {
          "output_type": "display_data",
          "data": {
            "text/plain": [
              "Downloading pytorch_model.bin:   0%|          | 0.00/440M [00:00<?, ?B/s]"
            ],
            "application/vnd.jupyter.widget-view+json": {
              "version_major": 2,
              "version_minor": 0,
              "model_id": "e09b37056c1a4b33adf2441b5d4337bd"
            }
          },
          "metadata": {}
        },
        {
          "output_type": "stream",
          "name": "stderr",
          "text": [
            "Some weights of the model checkpoint at bert-base-uncased were not used when initializing BertForSequenceClassification: ['cls.predictions.decoder.weight', 'cls.seq_relationship.weight', 'cls.seq_relationship.bias', 'cls.predictions.bias', 'cls.predictions.transform.dense.bias', 'cls.predictions.transform.LayerNorm.weight', 'cls.predictions.transform.dense.weight', 'cls.predictions.transform.LayerNorm.bias']\n",
            "- This IS expected if you are initializing BertForSequenceClassification from the checkpoint of a model trained on another task or with another architecture (e.g. initializing a BertForSequenceClassification model from a BertForPreTraining model).\n",
            "- This IS NOT expected if you are initializing BertForSequenceClassification from the checkpoint of a model that you expect to be exactly identical (initializing a BertForSequenceClassification model from a BertForSequenceClassification model).\n",
            "Some weights of BertForSequenceClassification were not initialized from the model checkpoint at bert-base-uncased and are newly initialized: ['classifier.bias', 'classifier.weight']\n",
            "You should probably TRAIN this model on a down-stream task to be able to use it for predictions and inference.\n"
          ]
        },
        {
          "output_type": "stream",
          "name": "stdout",
          "text": [
            "loaded model: bert-base-uncased\n"
          ]
        }
      ],
      "source": [
        "# Define the model name for the tokenizer\n",
        "from models import get_model\n",
        "\n",
        "model = get_model(model_name, model_save_name, config['data']['num_label'])\n",
        "model.to(device)\n",
        "print(f\"loaded model: {model_name}\")"
      ]
    },
    {
      "cell_type": "code",
      "execution_count": 10,
      "id": "8f777d1b",
      "metadata": {
        "colab": {
          "base_uri": "https://localhost:8080/"
        },
        "id": "8f777d1b",
        "outputId": "9ae8c3c0-795c-477b-d915-e0540cc66b1a"
      },
      "outputs": [
        {
          "output_type": "stream",
          "name": "stdout",
          "text": [
            "loaded data with 6008 sentences and 6008 compressed labels\n",
            "loaded data with 715 sentences and 715 compressed labels\n",
            "loaded datasets and data loaders\n"
          ]
        }
      ],
      "source": [
        "# Create instances of the dataset and dataloader for (train, valid)\n",
        "batch_size = config['training']['batch_size']\n",
        "mapper = config['data']['mapper']\n",
        "\n",
        "train_data_path = Path(config['data']['root_path'], config['data']['train_data_path'])\n",
        "train_dataset = RhetoricalRoleDataset(train_data_path, tokenizer, mapper=mapper)\n",
        "train_loader = DataLoader(train_dataset, batch_size=batch_size, shuffle=True)\n",
        "\n",
        "valid_data_path = Path(config['data']['root_path'], config['data']['valid_data_path'])\n",
        "valid_dataset = RhetoricalRoleDataset(valid_data_path, tokenizer,mapper=mapper)\n",
        "valid_loader = DataLoader(valid_dataset, batch_size=batch_size, shuffle=True)\n",
        "\n",
        "print(f\"loaded datasets and data loaders\")"
      ]
    },
    {
      "cell_type": "code",
      "execution_count": 11,
      "id": "5f34cc5b",
      "metadata": {
        "colab": {
          "base_uri": "https://localhost:8080/"
        },
        "id": "5f34cc5b",
        "outputId": "fb49216f-5a95-4553-db78-43298806ade6"
      },
      "outputs": [
        {
          "output_type": "stream",
          "name": "stderr",
          "text": [
            "/usr/local/lib/python3.10/dist-packages/transformers/optimization.py:407: FutureWarning: This implementation of AdamW is deprecated and will be removed in a future version. Use the PyTorch implementation torch.optim.AdamW instead, or set `no_deprecation_warning=True` to disable this warning\n",
            "  warnings.warn(\n"
          ]
        }
      ],
      "source": [
        "lr = config['training']['learning_rate']\n",
        "max_grad_norm = config['training']['max_grad_norm']\n",
        "epochs = config['training']['epochs']\n",
        "num_total_steps = len(train_dataset)*epochs\n",
        "num_warmup_steps = config['training']['num_warmup_steps']\n",
        "warmup_proportion = float(num_warmup_steps) / float(num_total_steps)  # 0.1\n",
        "optimizer = AdamW(model.parameters(), lr=lr, correct_bias=True)\n",
        "scheduler = get_linear_schedule_with_warmup(optimizer, num_warmup_steps = num_warmup_steps, num_training_steps = num_total_steps)"
      ]
    },
    {
      "cell_type": "code",
      "execution_count": 12,
      "id": "543137a8",
      "metadata": {
        "id": "543137a8"
      },
      "outputs": [],
      "source": [
        "seed_val = config['training']['seed']\n",
        "np.random.seed(seed_val)\n",
        "torch.manual_seed(seed_val)\n",
        "torch.cuda.manual_seed_all(seed_val)"
      ]
    },
    {
      "cell_type": "code",
      "execution_count": 13,
      "id": "3bb70b8e",
      "metadata": {
        "id": "3bb70b8e"
      },
      "outputs": [],
      "source": [
        "def flat_accuracy(preds, labels):\n",
        "    pred_flat = np.argmax(preds, axis=1).flatten()\n",
        "    labels_flat = labels.flatten()\n",
        "    return np.sum(pred_flat == labels_flat) / len(labels_flat)"
      ]
    },
    {
      "cell_type": "code",
      "execution_count": 14,
      "id": "f286c35f",
      "metadata": {
        "colab": {
          "base_uri": "https://localhost:8080/"
        },
        "id": "f286c35f",
        "outputId": "99a6779d-8a6e-4b3a-dd0e-d318d888484f"
      },
      "outputs": [
        {
          "output_type": "stream",
          "name": "stdout",
          "text": [
            "======== Epoch 1 / 5 ========\n",
            "Training...\n",
            "Epoch 1/5 - Step 40/188 - Training Loss: 2.0074\n",
            "Epoch 1/5 - Step 80/188 - Training Loss: 1.9723\n",
            "Epoch 1/5 - Step 120/188 - Training Loss: 1.9483\n",
            "Epoch 1/5 - Step 160/188 - Training Loss: 1.9173\n",
            "Epoch 1/5 - Training Loss: 1.8965 - Train Accuracy: 0.2334 - Epoch Time: 233.97 seconds\n",
            "Running Validation...\n",
            "Epoch 1/5 - Validation Loss: 1.8055 - Validation Accuracy: 0.2782\n",
            "======== Epoch 2 / 5 ========\n",
            "Training...\n",
            "Epoch 2/5 - Step 40/188 - Training Loss: 1.7258\n",
            "Epoch 2/5 - Step 80/188 - Training Loss: 1.6900\n",
            "Epoch 2/5 - Step 120/188 - Training Loss: 1.6615\n",
            "Epoch 2/5 - Step 160/188 - Training Loss: 1.6150\n",
            "Epoch 2/5 - Training Loss: 1.5878 - Train Accuracy: 0.4322 - Epoch Time: 246.57 seconds\n",
            "Running Validation...\n",
            "Epoch 2/5 - Validation Loss: 1.5134 - Validation Accuracy: 0.4899\n",
            "======== Epoch 3 / 5 ========\n",
            "Training...\n",
            "Epoch 3/5 - Step 40/188 - Training Loss: 1.3581\n",
            "Epoch 3/5 - Step 80/188 - Training Loss: 1.3475\n",
            "Epoch 3/5 - Step 120/188 - Training Loss: 1.3158\n",
            "Epoch 3/5 - Step 160/188 - Training Loss: 1.2952\n",
            "Epoch 3/5 - Training Loss: 1.2811 - Train Accuracy: 0.5622 - Epoch Time: 247.18 seconds\n",
            "Running Validation...\n",
            "Epoch 3/5 - Validation Loss: 1.3470 - Validation Accuracy: 0.5438\n",
            "======== Epoch 4 / 5 ========\n",
            "Training...\n",
            "Epoch 4/5 - Step 40/188 - Training Loss: 1.1158\n",
            "Epoch 4/5 - Step 80/188 - Training Loss: 1.0840\n",
            "Epoch 4/5 - Step 120/188 - Training Loss: 1.0773\n",
            "Epoch 4/5 - Step 160/188 - Training Loss: 1.0716\n",
            "Epoch 4/5 - Training Loss: 1.0569 - Train Accuracy: 0.6437 - Epoch Time: 246.96 seconds\n",
            "Running Validation...\n",
            "Epoch 4/5 - Validation Loss: 1.3579 - Validation Accuracy: 0.5251\n",
            "======== Epoch 5 / 5 ========\n",
            "Training...\n",
            "Epoch 5/5 - Step 40/188 - Training Loss: 0.8897\n",
            "Epoch 5/5 - Step 80/188 - Training Loss: 0.8625\n",
            "Epoch 5/5 - Step 120/188 - Training Loss: 0.8540\n",
            "Epoch 5/5 - Step 160/188 - Training Loss: 0.8477\n",
            "Epoch 5/5 - Training Loss: 0.8439 - Train Accuracy: 0.7221 - Epoch Time: 246.56 seconds\n",
            "Running Validation...\n",
            "Epoch 5/5 - Validation Loss: 1.3770 - Validation Accuracy: 0.5509\n"
          ]
        }
      ],
      "source": [
        "# Define the number of training and validation steps\n",
        "num_train_steps = len(train_loader)\n",
        "num_valid_steps = len(valid_loader)\n",
        "\n",
        "# Initialize lists to store losses\n",
        "train_epoch_losses = []\n",
        "train_epoch_acc = []\n",
        "\n",
        "valid_epoch_losses = []\n",
        "valid_epoch_acc = []\n",
        "\n",
        "\n",
        "# Training loop\n",
        "for epoch in range(epochs):\n",
        "    print('======== Epoch {:} / {:} ========'.format(epoch + 1, epochs))\n",
        "    print('Training...')\n",
        "    \n",
        "    model.train()  # Set the model to train mode\n",
        "    train_loss = 0.0\n",
        "    train_accuracy = 0\n",
        "    start_time = time.time()\n",
        "\n",
        "    for step, batch in enumerate(train_loader):\n",
        "        input_ids = batch['input_ids'].to(device)\n",
        "        attention_mask = batch['attention_mask'].to(device)\n",
        "        labels = batch['labels'].to(device)\n",
        "        \n",
        "        optimizer.zero_grad()\n",
        "        \n",
        "        # Forward pass\n",
        "        outputs = model(input_ids=input_ids, attention_mask=attention_mask, labels=labels)\n",
        "        # get batch loss\n",
        "        loss = outputs[0]\n",
        "        train_loss += loss.item()\n",
        "        # Backward pass and optimization\n",
        "        loss.backward()\n",
        "        torch.nn.utils.clip_grad_norm_(model.parameters(), 1.0)\n",
        "        optimizer.step()\n",
        "        scheduler.step()\n",
        "        # get batch acc\n",
        "        logits = outputs[1]\n",
        "        logits = logits.detach().cpu().numpy()\n",
        "        label_ids = labels.to('cpu').numpy()  \n",
        "        batch_train_accuracy = flat_accuracy(logits, label_ids)\n",
        "        train_accuracy += batch_train_accuracy          \n",
        "        \n",
        "        # Print the training loss every 40 steps\n",
        "        if (step + 1) % 40 == 0:\n",
        "            train_step_loss = train_loss / (step+1)\n",
        "            print(f\"Epoch {epoch+1}/{epochs} - Step {step+1}/{num_train_steps} - Training Loss: {train_step_loss:.4f}\")\n",
        "    \n",
        "    # train epoch numbers: (loss , accuracy)\n",
        "    train_loss /= num_train_steps\n",
        "    train_accuracy /= num_train_steps\n",
        "    # storing valid epoch numbers for plots\n",
        "    train_epoch_losses.append(train_loss)\n",
        "    train_epoch_acc.append(train_accuracy)\n",
        "    # Calculate the training epoch time\n",
        "    epoch_time = time.time() - start_time\n",
        "    print(f\"Epoch {epoch+1}/{epochs} - Training Loss: {train_loss:.4f} - Train Accuracy: {train_accuracy:.4f} - Epoch Time: {epoch_time:.2f} seconds\")\n",
        "    \n",
        "    # ------------------------------------------------------------------------------------\n",
        "    \n",
        "    # Validation loop\n",
        "    print(\"Running Validation...\")\n",
        "    model.eval()  # Set the model to evaluation mode\n",
        "    valid_loss = 0.0\n",
        "    nb_eval_examples = 0\n",
        "    valid_accuracy = 0\n",
        "    \n",
        "    with torch.no_grad():\n",
        "        for batch in valid_loader:\n",
        "            input_ids = batch['input_ids'].to(device)\n",
        "            attention_mask = batch['attention_mask'].to(device)\n",
        "            labels = batch['labels'].to(device)\n",
        "            \n",
        "            # Forward pass\n",
        "            outputs = model(input_ids=input_ids, attention_mask=attention_mask, labels=labels)\n",
        "            # get batch loss\n",
        "            loss = outputs[0]\n",
        "            valid_loss += loss.item()\n",
        "            # get batch acc\n",
        "            logits = outputs[1]\n",
        "            logits = logits.detach().cpu().numpy()\n",
        "            label_ids = labels.to('cpu').numpy()  \n",
        "            batch_valid_accuracy = flat_accuracy(logits, label_ids)\n",
        "            valid_accuracy += batch_valid_accuracy          \n",
        "            \n",
        "    # valid epoch numbers: (loss , accuracy)\n",
        "    valid_loss /= num_valid_steps\n",
        "    valid_accuracy /= num_valid_steps\n",
        "    # storing valid epoch numbers for plots\n",
        "    valid_epoch_losses.append(valid_loss)\n",
        "    valid_epoch_acc.append(valid_accuracy)\n",
        "    # Print the validation loss for each epoch\n",
        "    print(f\"Epoch {epoch+1}/{epochs} - Validation Loss: {valid_loss:.4f} - Validation Accuracy: {valid_accuracy:.4f}\")\n"
      ]
    },
    {
      "cell_type": "code",
      "execution_count": 15,
      "id": "EVPtnVF7Gnvn",
      "metadata": {
        "colab": {
          "base_uri": "https://localhost:8080/",
          "height": 927
        },
        "id": "EVPtnVF7Gnvn",
        "outputId": "788d916c-5626-49a0-b8e3-e73685dd9db0"
      },
      "outputs": [
        {
          "output_type": "display_data",
          "data": {
            "text/plain": [
              "<Figure size 640x480 with 1 Axes>"
            ],
            "image/png": "[encoded data removed]"
          },
          "metadata": {}
        },
        {
          "output_type": "display_data",
          "data": {
            "text/plain": [
              "<Figure size 640x480 with 1 Axes>"
            ],
            "image/png": "[encoded data removed]"
          },
          "metadata": {}
        }
      ],
      "source": [
        "import matplotlib.pyplot as plt\n",
        "\n",
        "# Plot the epoch loss\n",
        "plt.plot(train_epoch_losses, label='Training Loss')\n",
        "plt.plot(valid_epoch_losses, label='Validation Loss')\n",
        "plt.xlabel('Epoch')\n",
        "plt.ylabel('Loss')\n",
        "plt.legend()\n",
        "plt.title('Epoch Loss')\n",
        "plt.show()\n",
        "\n",
        "# Plot the epoch accuracies\n",
        "plt.plot(train_epoch_acc, label='Training acc')\n",
        "plt.plot(valid_epoch_acc, label='Validation acc')\n",
        "plt.xlabel('Epoch')\n",
        "plt.ylabel('Accuracy')\n",
        "plt.legend()\n",
        "plt.title('Epoch Accuracy')\n",
        "plt.show()"
      ]
    },
    {
      "cell_type": "code",
      "execution_count": 16,
      "id": "a38504ab",
      "metadata": {
        "colab": {
          "base_uri": "https://localhost:8080/"
        },
        "id": "a38504ab",
        "outputId": "39ee1a6d-888b-4b8c-b117-f95609711173"
      },
      "outputs": [
        {
          "output_type": "stream",
          "name": "stdout",
          "text": [
            "loaded data with 835 sentences and 835 compressed labels\n",
            "    DONE.\n"
          ]
        }
      ],
      "source": [
        "test_data_path = Path(config['data']['root_path'], config['data']['test_data_path'])\n",
        "test_dataset = RhetoricalRoleDataset(test_data_path, tokenizer,mapper=mapper)\n",
        "test_loader = DataLoader(test_dataset, batch_size=batch_size, shuffle=True)\n",
        "\n",
        "\n",
        "# Put model in evaluation mode\n",
        "model.eval()\n",
        "\n",
        "# Tracking variables \n",
        "predictions , true_labels = [], []\n",
        "\n",
        "\n",
        "# Predict \n",
        "for (step, batch) in enumerate(test_loader):\n",
        "  # Add batch to GPU\n",
        "  input_ids = batch['input_ids'].to(device)\n",
        "  attention_mask = batch['attention_mask'].to(device)\n",
        "  labels = batch['labels'].to(device)\n",
        "\n",
        "    \n",
        "  # Telling the model not to compute or store gradients, saving memory and \n",
        "  # speeding up prediction\n",
        "  with torch.no_grad():\n",
        "      # Forward pass, calculate logit predictions\n",
        "      outputs = model(input_ids=input_ids, attention_mask=attention_mask, labels=labels)\n",
        "\n",
        "  logits = outputs[1]\n",
        "\n",
        "  # Move logits and labels to CPU\n",
        "  logits = logits.detach().cpu().numpy()\n",
        "  label_ids = labels.to('cpu').numpy()\n",
        "  \n",
        "  # Store predictions and true labels\n",
        "  predictions.append(logits)\n",
        "  true_labels.append(label_ids)\n",
        "\n",
        "print('    DONE.')"
      ]
    },
    {
      "cell_type": "code",
      "execution_count": 17,
      "id": "kcU0rELPVth2",
      "metadata": {
        "colab": {
          "base_uri": "https://localhost:8080/"
        },
        "id": "kcU0rELPVth2",
        "outputId": "8d2ea06f-9ba9-4aa8-9061-4fde49a3abea"
      },
      "outputs": [
        {
          "output_type": "execute_result",
          "data": {
            "text/plain": [
              "0.6239520958083832"
            ]
          },
          "metadata": {},
          "execution_count": 17
        }
      ],
      "source": [
        "predictions = np.concatenate(predictions, axis=0)\n",
        "true_labels = np.concatenate(true_labels, axis=0)\n",
        "pred_flat = np.argmax(predictions, axis=1).flatten()\n",
        "labels_flat = true_labels.flatten()\n",
        "\n",
        "flat_accuracy(predictions,true_labels)"
      ]
    },
    {
      "cell_type": "code",
      "execution_count": 18,
      "id": "i-d1EFnzVyJa",
      "metadata": {
        "colab": {
          "base_uri": "https://localhost:8080/"
        },
        "id": "i-d1EFnzVyJa",
        "outputId": "4f1b92d3-900c-4515-fc59-8b789929b104"
      },
      "outputs": [
        {
          "output_type": "stream",
          "name": "stdout",
          "text": [
            "              precision    recall  f1-score   support\n",
            "\n",
            "           0       0.65      0.79      0.71       145\n",
            "           1       0.62      0.57      0.59       115\n",
            "           2       0.69      0.36      0.47        25\n",
            "           3       0.69      0.27      0.39        99\n",
            "           4       0.52      0.75      0.61       191\n",
            "           5       0.78      0.72      0.75       115\n",
            "           6       0.68      0.53      0.60       145\n",
            "\n",
            "    accuracy                           0.62       835\n",
            "   macro avg       0.66      0.57      0.59       835\n",
            "weighted avg       0.64      0.62      0.61       835\n",
            "\n"
          ]
        }
      ],
      "source": [
        "from sklearn.metrics import classification_report\n",
        "print(classification_report(labels_flat, pred_flat))"
      ]
    },
    {
      "cell_type": "code",
      "source": [
        "from google.colab import drive\n",
        "drive.mount('/content/drive')"
      ],
      "metadata": {
        "colab": {
          "base_uri": "https://localhost:8080/"
        },
        "id": "yd-9CVOQbR_9",
        "outputId": "b45ac3cc-200b-42af-9c18-35e2dde54e59"
      },
      "id": "yd-9CVOQbR_9",
      "execution_count": 20,
      "outputs": [
        {
          "output_type": "stream",
          "name": "stdout",
          "text": [
            "Mounted at /content/drive\n"
          ]
        }
      ]
    },
    {
      "cell_type": "code",
      "execution_count": 21,
      "id": "b7fe32f3",
      "metadata": {
        "id": "b7fe32f3"
      },
      "outputs": [],
      "source": [
        "output_model = '/content/drive/MyDrive/OS/model_bert_sentence_IT.pth'\n",
        "\n",
        "# save\n",
        "def save(model, optimizer):\n",
        "    # save\n",
        "    torch.save({\n",
        "        'model_state_dict': model.state_dict(),\n",
        "        'optimizer_state_dict': optimizer.state_dict()\n",
        "    }, output_model)\n",
        "\n",
        "save(model, optimizer)\n",
        "\n",
        "# load\n",
        "#checkpoint = torch.load(output_model, map_location='cpu')\n",
        "#model.load_state_dict(checkpoint['model_state_dict'])\n",
        "#optimizer.load_state_dict(checkpoint['optimizer_state_dict'])"
      ]
    },
    {
      "cell_type": "code",
      "execution_count": null,
      "id": "2a37193a",
      "metadata": {
        "id": "2a37193a"
      },
      "outputs": [],
      "source": []
    },
    {
      "cell_type": "code",
      "execution_count": null,
      "id": "38b14610",
      "metadata": {
        "id": "38b14610"
      },
      "outputs": [],
      "source": []
    }
  ],
  "metadata": {
    "accelerator": "GPU",
    "colab": {
      "gpuType": "T4",
      "provenance": []
    },
    "gpuClass": "standard",
    "kernelspec": {
      "display_name": "Lnlp",
      "language": "python",
      "name": "lnlp"
    },
    "language_info": {
      "codemirror_mode": {
        "name": "ipython",
        "version": 3
      },
      "file_extension": ".py",
      "mimetype": "text/x-python",
      "name": "python",
      "nbconvert_exporter": "python",
      "pygments_lexer": "ipython3",
      "version": "3.11.3"
    },
    "widgets": {
      "application/vnd.jupyter.widget-state+json": {
        "e09b37056c1a4b33adf2441b5d4337bd": {
          "model_module": "@jupyter-widgets/controls",
          "model_name": "HBoxModel",
          "model_module_version": "1.5.0",
          "state": {
            "_dom_classes": [],
            "_model_module": "@jupyter-widgets/controls",
            "_model_module_version": "1.5.0",
            "_model_name": "HBoxModel",
            "_view_count": null,
            "_view_module": "@jupyter-widgets/controls",
            "_view_module_version": "1.5.0",
            "_view_name": "HBoxView",
            "box_style": "",
            "children": [
              "IPY_MODEL_3cf6ebd76c9940ad99e06afe8d96227d",
              "IPY_MODEL_9d2f2ba549864733a00461afe263f191",
              "IPY_MODEL_ed3fb1c2a7de48c7b1023f6ab0acd395"
            ],
            "layout": "IPY_MODEL_4ca0f816a51c4b91aea1c3df4ae3a4eb"
          }
        },
        "3cf6ebd76c9940ad99e06afe8d96227d": {
          "model_module": "@jupyter-widgets/controls",
          "model_name": "HTMLModel",
          "model_module_version": "1.5.0",
          "state": {
            "_dom_classes": [],
            "_model_module": "@jupyter-widgets/controls",
            "_model_module_version": "1.5.0",
            "_model_name": "HTMLModel",
            "_view_count": null,
            "_view_module": "@jupyter-widgets/controls",
            "_view_module_version": "1.5.0",
            "_view_name": "HTMLView",
            "description": "",
            "description_tooltip": null,
            "layout": "IPY_MODEL_e75b12ed40eb4244b056f3459a20a41b",
            "placeholder": "​",
            "style": "IPY_MODEL_db379c7ac1b04e8aaa1e000bfe0d4109",
            "value": "Downloading pytorch_model.bin: 100%"
          }
        },
        "9d2f2ba549864733a00461afe263f191": {
          "model_module": "@jupyter-widgets/controls",
          "model_name": "FloatProgressModel",
          "model_module_version": "1.5.0",
          "state": {
            "_dom_classes": [],
            "_model_module": "@jupyter-widgets/controls",
            "_model_module_version": "1.5.0",
            "_model_name": "FloatProgressModel",
            "_view_count": null,
            "_view_module": "@jupyter-widgets/controls",
            "_view_module_version": "1.5.0",
            "_view_name": "ProgressView",
            "bar_style": "success",
            "description": "",
            "description_tooltip": null,
            "layout": "IPY_MODEL_96bff2cec9ac467180ea4837e8957754",
            "max": 440473133,
            "min": 0,
            "orientation": "horizontal",
            "style": "IPY_MODEL_8b46db01da334b5b8c0d38c21e44eef9",
            "value": 440473133
          }
        },
        "ed3fb1c2a7de48c7b1023f6ab0acd395": {
          "model_module": "@jupyter-widgets/controls",
          "model_name": "HTMLModel",
          "model_module_version": "1.5.0",
          "state": {
            "_dom_classes": [],
            "_model_module": "@jupyter-widgets/controls",
            "_model_module_version": "1.5.0",
            "_model_name": "HTMLModel",
            "_view_count": null,
            "_view_module": "@jupyter-widgets/controls",
            "_view_module_version": "1.5.0",
            "_view_name": "HTMLView",
            "description": "",
            "description_tooltip": null,
            "layout": "IPY_MODEL_6f8115cec3a144c0b019ef4b414664b1",
            "placeholder": "​",
            "style": "IPY_MODEL_91c990be0f9546f380787e5a3a70a437",
            "value": " 440M/440M [00:01&lt;00:00, 288MB/s]"
          }
        },
        "4ca0f816a51c4b91aea1c3df4ae3a4eb": {
          "model_module": "@jupyter-widgets/base",
          "model_name": "LayoutModel",
          "model_module_version": "1.2.0",
          "state": {
            "_model_module": "@jupyter-widgets/base",
            "_model_module_version": "1.2.0",
            "_model_name": "LayoutModel",
            "_view_count": null,
            "_view_module": "@jupyter-widgets/base",
            "_view_module_version": "1.2.0",
            "_view_name": "LayoutView",
            "align_content": null,
            "align_items": null,
            "align_self": null,
            "border": null,
            "bottom": null,
            "display": null,
            "flex": null,
            "flex_flow": null,
            "grid_area": null,
            "grid_auto_columns": null,
            "grid_auto_flow": null,
            "grid_auto_rows": null,
            "grid_column": null,
            "grid_gap": null,
            "grid_row": null,
            "grid_template_areas": null,
            "grid_template_columns": null,
            "grid_template_rows": null,
            "height": null,
            "justify_content": null,
            "justify_items": null,
            "left": null,
            "margin": null,
            "max_height": null,
            "max_width": null,
            "min_height": null,
            "min_width": null,
            "object_fit": null,
            "object_position": null,
            "order": null,
            "overflow": null,
            "overflow_x": null,
            "overflow_y": null,
            "padding": null,
            "right": null,
            "top": null,
            "visibility": null,
            "width": null
          }
        },
        "e75b12ed40eb4244b056f3459a20a41b": {
          "model_module": "@jupyter-widgets/base",
          "model_name": "LayoutModel",
          "model_module_version": "1.2.0",
          "state": {
            "_model_module": "@jupyter-widgets/base",
            "_model_module_version": "1.2.0",
            "_model_name": "LayoutModel",
            "_view_count": null,
            "_view_module": "@jupyter-widgets/base",
            "_view_module_version": "1.2.0",
            "_view_name": "LayoutView",
            "align_content": null,
            "align_items": null,
            "align_self": null,
            "border": null,
            "bottom": null,
            "display": null,
            "flex": null,
            "flex_flow": null,
            "grid_area": null,
            "grid_auto_columns": null,
            "grid_auto_flow": null,
            "grid_auto_rows": null,
            "grid_column": null,
            "grid_gap": null,
            "grid_row": null,
            "grid_template_areas": null,
            "grid_template_columns": null,
            "grid_template_rows": null,
            "height": null,
            "justify_content": null,
            "justify_items": null,
            "left": null,
            "margin": null,
            "max_height": null,
            "max_width": null,
            "min_height": null,
            "min_width": null,
            "object_fit": null,
            "object_position": null,
            "order": null,
            "overflow": null,
            "overflow_x": null,
            "overflow_y": null,
            "padding": null,
            "right": null,
            "top": null,
            "visibility": null,
            "width": null
          }
        },
        "db379c7ac1b04e8aaa1e000bfe0d4109": {
          "model_module": "@jupyter-widgets/controls",
          "model_name": "DescriptionStyleModel",
          "model_module_version": "1.5.0",
          "state": {
            "_model_module": "@jupyter-widgets/controls",
            "_model_module_version": "1.5.0",
            "_model_name": "DescriptionStyleModel",
            "_view_count": null,
            "_view_module": "@jupyter-widgets/base",
            "_view_module_version": "1.2.0",
            "_view_name": "StyleView",
            "description_width": ""
          }
        },
        "96bff2cec9ac467180ea4837e8957754": {
          "model_module": "@jupyter-widgets/base",
          "model_name": "LayoutModel",
          "model_module_version": "1.2.0",
          "state": {
            "_model_module": "@jupyter-widgets/base",
            "_model_module_version": "1.2.0",
            "_model_name": "LayoutModel",
            "_view_count": null,
            "_view_module": "@jupyter-widgets/base",
            "_view_module_version": "1.2.0",
            "_view_name": "LayoutView",
            "align_content": null,
            "align_items": null,
            "align_self": null,
            "border": null,
            "bottom": null,
            "display": null,
            "flex": null,
            "flex_flow": null,
            "grid_area": null,
            "grid_auto_columns": null,
            "grid_auto_flow": null,
            "grid_auto_rows": null,
            "grid_column": null,
            "grid_gap": null,
            "grid_row": null,
            "grid_template_areas": null,
            "grid_template_columns": null,
            "grid_template_rows": null,
            "height": null,
            "justify_content": null,
            "justify_items": null,
            "left": null,
            "margin": null,
            "max_height": null,
            "max_width": null,
            "min_height": null,
            "min_width": null,
            "object_fit": null,
            "object_position": null,
            "order": null,
            "overflow": null,
            "overflow_x": null,
            "overflow_y": null,
            "padding": null,
            "right": null,
            "top": null,
            "visibility": null,
            "width": null
          }
        },
        "8b46db01da334b5b8c0d38c21e44eef9": {
          "model_module": "@jupyter-widgets/controls",
          "model_name": "ProgressStyleModel",
          "model_module_version": "1.5.0",
          "state": {
            "_model_module": "@jupyter-widgets/controls",
            "_model_module_version": "1.5.0",
            "_model_name": "ProgressStyleModel",
            "_view_count": null,
            "_view_module": "@jupyter-widgets/base",
            "_view_module_version": "1.2.0",
            "_view_name": "StyleView",
            "bar_color": null,
            "description_width": ""
          }
        },
        "6f8115cec3a144c0b019ef4b414664b1": {
          "model_module": "@jupyter-widgets/base",
          "model_name": "LayoutModel",
          "model_module_version": "1.2.0",
          "state": {
            "_model_module": "@jupyter-widgets/base",
            "_model_module_version": "1.2.0",
            "_model_name": "LayoutModel",
            "_view_count": null,
            "_view_module": "@jupyter-widgets/base",
            "_view_module_version": "1.2.0",
            "_view_name": "LayoutView",
            "align_content": null,
            "align_items": null,
            "align_self": null,
            "border": null,
            "bottom": null,
            "display": null,
            "flex": null,
            "flex_flow": null,
            "grid_area": null,
            "grid_auto_columns": null,
            "grid_auto_flow": null,
            "grid_auto_rows": null,
            "grid_column": null,
            "grid_gap": null,
            "grid_row": null,
            "grid_template_areas": null,
            "grid_template_columns": null,
            "grid_template_rows": null,
            "height": null,
            "justify_content": null,
            "justify_items": null,
            "left": null,
            "margin": null,
            "max_height": null,
            "max_width": null,
            "min_height": null,
            "min_width": null,
            "object_fit": null,
            "object_position": null,
            "order": null,
            "overflow": null,
            "overflow_x": null,
            "overflow_y": null,
            "padding": null,
            "right": null,
            "top": null,
            "visibility": null,
            "width": null
          }
        },
        "91c990be0f9546f380787e5a3a70a437": {
          "model_module": "@jupyter-widgets/controls",
          "model_name": "DescriptionStyleModel",
          "model_module_version": "1.5.0",
          "state": {
            "_model_module": "@jupyter-widgets/controls",
            "_model_module_version": "1.5.0",
            "_model_name": "DescriptionStyleModel",
            "_view_count": null,
            "_view_module": "@jupyter-widgets/base",
            "_view_module_version": "1.2.0",
            "_view_name": "StyleView",
            "description_width": ""
          }
        }
      }
    }
  },
  "nbformat": 4,
  "nbformat_minor": 5
}