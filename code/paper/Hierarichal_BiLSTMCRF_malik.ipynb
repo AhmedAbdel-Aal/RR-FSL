{
  "cells": [
    {
      "cell_type": "code",
      "execution_count": 1,
      "metadata": {
        "id": "d5pmIqXGJ1QM"
      },
      "outputs": [],
      "source": [
        "%load_ext autoreload\n",
        "%autoreload 2"
      ],
      "id": "d5pmIqXGJ1QM"
    },
    {
      "cell_type": "code",
      "execution_count": 2,
      "metadata": {
        "colab": {
          "base_uri": "https://localhost:8080/"
        },
        "id": "Iip3RtlSNswV",
        "outputId": "aca21e57-584f-46d3-bc2d-efa4cf0044a4"
      },
      "outputs": [
        {
          "output_type": "stream",
          "name": "stdout",
          "text": [
            "Requirement already satisfied: allennlp in /usr/local/lib/python3.10/dist-packages (2.10.1)\n",
            "Requirement already satisfied: torch<1.13.0,>=1.10.0 in /usr/local/lib/python3.10/dist-packages (from allennlp) (1.12.1)\n",
            "Requirement already satisfied: torchvision<0.14.0,>=0.8.1 in /usr/local/lib/python3.10/dist-packages (from allennlp) (0.13.1)\n",
            "Requirement already satisfied: cached-path<1.2.0,>=1.1.3 in /usr/local/lib/python3.10/dist-packages (from allennlp) (1.1.6)\n",
            "Requirement already satisfied: fairscale==0.4.6 in /usr/local/lib/python3.10/dist-packages (from allennlp) (0.4.6)\n",
            "Requirement already satisfied: nltk>=3.6.5 in /usr/local/lib/python3.10/dist-packages (from allennlp) (3.8.1)\n",
            "Requirement already satisfied: spacy<3.4,>=2.1.0 in /usr/local/lib/python3.10/dist-packages (from allennlp) (3.3.3)\n",
            "Requirement already satisfied: numpy>=1.21.4 in /usr/local/lib/python3.10/dist-packages (from allennlp) (1.23.5)\n",
            "Requirement already satisfied: tensorboardX>=1.2 in /usr/local/lib/python3.10/dist-packages (from allennlp) (2.6.2.2)\n",
            "Requirement already satisfied: requests>=2.28 in /usr/local/lib/python3.10/dist-packages (from allennlp) (2.31.0)\n",
            "Requirement already satisfied: tqdm>=4.62 in /usr/local/lib/python3.10/dist-packages (from allennlp) (4.66.1)\n",
            "Requirement already satisfied: h5py>=3.6.0 in /usr/local/lib/python3.10/dist-packages (from allennlp) (3.9.0)\n",
            "Requirement already satisfied: scikit-learn>=1.0.1 in /usr/local/lib/python3.10/dist-packages (from allennlp) (1.2.2)\n",
            "Requirement already satisfied: scipy>=1.7.3 in /usr/local/lib/python3.10/dist-packages (from allennlp) (1.10.1)\n",
            "Requirement already satisfied: pytest>=6.2.5 in /usr/local/lib/python3.10/dist-packages (from allennlp) (7.4.0)\n",
            "Requirement already satisfied: transformers<4.21,>=4.1 in /usr/local/lib/python3.10/dist-packages (from allennlp) (4.20.1)\n",
            "Requirement already satisfied: sentencepiece>=0.1.96 in /usr/local/lib/python3.10/dist-packages (from allennlp) (0.1.99)\n",
            "Requirement already satisfied: filelock<3.8,>=3.3 in /usr/local/lib/python3.10/dist-packages (from allennlp) (3.7.1)\n",
            "Requirement already satisfied: lmdb>=1.2.1 in /usr/local/lib/python3.10/dist-packages (from allennlp) (1.4.1)\n",
            "Requirement already satisfied: more-itertools>=8.12.0 in /usr/local/lib/python3.10/dist-packages (from allennlp) (10.1.0)\n",
            "Requirement already satisfied: termcolor==1.1.0 in /usr/local/lib/python3.10/dist-packages (from allennlp) (1.1.0)\n",
            "Requirement already satisfied: wandb<0.13.0,>=0.10.0 in /usr/local/lib/python3.10/dist-packages (from allennlp) (0.12.21)\n",
            "Requirement already satisfied: huggingface-hub>=0.0.16 in /usr/local/lib/python3.10/dist-packages (from allennlp) (0.10.1)\n",
            "Requirement already satisfied: dill>=0.3.4 in /usr/local/lib/python3.10/dist-packages (from allennlp) (0.3.7)\n",
            "Requirement already satisfied: base58>=2.1.1 in /usr/local/lib/python3.10/dist-packages (from allennlp) (2.1.1)\n",
            "Requirement already satisfied: sacremoses in /usr/local/lib/python3.10/dist-packages (from allennlp) (0.0.53)\n",
            "Requirement already satisfied: typer>=0.4.1 in /usr/local/lib/python3.10/dist-packages (from allennlp) (0.4.2)\n",
            "Requirement already satisfied: protobuf<4.0.0,>=3.12.0 in /usr/local/lib/python3.10/dist-packages (from allennlp) (3.20.3)\n",
            "Requirement already satisfied: traitlets>5.1.1 in /usr/local/lib/python3.10/dist-packages (from allennlp) (5.7.1)\n",
            "Requirement already satisfied: jsonnet>=0.10.0 in /usr/local/lib/python3.10/dist-packages (from allennlp) (0.20.0)\n",
            "Requirement already satisfied: rich<13.0,>=12.1 in /usr/local/lib/python3.10/dist-packages (from cached-path<1.2.0,>=1.1.3->allennlp) (12.6.0)\n",
            "Requirement already satisfied: boto3<2.0,>=1.0 in /usr/local/lib/python3.10/dist-packages (from cached-path<1.2.0,>=1.1.3->allennlp) (1.28.40)\n",
            "Requirement already satisfied: google-cloud-storage<3.0,>=1.32.0 in /usr/local/lib/python3.10/dist-packages (from cached-path<1.2.0,>=1.1.3->allennlp) (2.8.0)\n",
            "Requirement already satisfied: pyyaml>=5.1 in /usr/local/lib/python3.10/dist-packages (from huggingface-hub>=0.0.16->allennlp) (6.0.1)\n",
            "Requirement already satisfied: typing-extensions>=3.7.4.3 in /usr/local/lib/python3.10/dist-packages (from huggingface-hub>=0.0.16->allennlp) (4.5.0)\n",
            "Requirement already satisfied: packaging>=20.9 in /usr/local/lib/python3.10/dist-packages (from huggingface-hub>=0.0.16->allennlp) (23.1)\n",
            "Requirement already satisfied: click in /usr/local/lib/python3.10/dist-packages (from nltk>=3.6.5->allennlp) (8.1.7)\n",
            "Requirement already satisfied: joblib in /usr/local/lib/python3.10/dist-packages (from nltk>=3.6.5->allennlp) (1.3.2)\n",
            "Requirement already satisfied: regex>=2021.8.3 in /usr/local/lib/python3.10/dist-packages (from nltk>=3.6.5->allennlp) (2023.6.3)\n",
            "Requirement already satisfied: iniconfig in /usr/local/lib/python3.10/dist-packages (from pytest>=6.2.5->allennlp) (2.0.0)\n",
            "Requirement already satisfied: pluggy<2.0,>=0.12 in /usr/local/lib/python3.10/dist-packages (from pytest>=6.2.5->allennlp) (1.2.0)\n",
            "Requirement already satisfied: exceptiongroup>=1.0.0rc8 in /usr/local/lib/python3.10/dist-packages (from pytest>=6.2.5->allennlp) (1.1.3)\n",
            "Requirement already satisfied: tomli>=1.0.0 in /usr/local/lib/python3.10/dist-packages (from pytest>=6.2.5->allennlp) (2.0.1)\n",
            "Requirement already satisfied: charset-normalizer<4,>=2 in /usr/local/lib/python3.10/dist-packages (from requests>=2.28->allennlp) (3.2.0)\n",
            "Requirement already satisfied: idna<4,>=2.5 in /usr/local/lib/python3.10/dist-packages (from requests>=2.28->allennlp) (3.4)\n",
            "Requirement already satisfied: urllib3<3,>=1.21.1 in /usr/local/lib/python3.10/dist-packages (from requests>=2.28->allennlp) (1.26.16)\n",
            "Requirement already satisfied: certifi>=2017.4.17 in /usr/local/lib/python3.10/dist-packages (from requests>=2.28->allennlp) (2023.7.22)\n",
            "Requirement already satisfied: threadpoolctl>=2.0.0 in /usr/local/lib/python3.10/dist-packages (from scikit-learn>=1.0.1->allennlp) (3.2.0)\n",
            "Requirement already satisfied: spacy-legacy<3.1.0,>=3.0.9 in /usr/local/lib/python3.10/dist-packages (from spacy<3.4,>=2.1.0->allennlp) (3.0.12)\n",
            "Requirement already satisfied: spacy-loggers<2.0.0,>=1.0.0 in /usr/local/lib/python3.10/dist-packages (from spacy<3.4,>=2.1.0->allennlp) (1.0.4)\n",
            "Requirement already satisfied: murmurhash<1.1.0,>=0.28.0 in /usr/local/lib/python3.10/dist-packages (from spacy<3.4,>=2.1.0->allennlp) (1.0.9)\n",
            "Requirement already satisfied: cymem<2.1.0,>=2.0.2 in /usr/local/lib/python3.10/dist-packages (from spacy<3.4,>=2.1.0->allennlp) (2.0.7)\n",
            "Requirement already satisfied: preshed<3.1.0,>=3.0.2 in /usr/local/lib/python3.10/dist-packages (from spacy<3.4,>=2.1.0->allennlp) (3.0.8)\n",
            "Requirement already satisfied: thinc<8.1.0,>=8.0.14 in /usr/local/lib/python3.10/dist-packages (from spacy<3.4,>=2.1.0->allennlp) (8.0.17)\n",
            "Requirement already satisfied: blis<0.8.0,>=0.4.0 in /usr/local/lib/python3.10/dist-packages (from spacy<3.4,>=2.1.0->allennlp) (0.7.10)\n",
            "Requirement already satisfied: wasabi<1.1.0,>=0.9.1 in /usr/local/lib/python3.10/dist-packages (from spacy<3.4,>=2.1.0->allennlp) (0.10.1)\n",
            "Requirement already satisfied: srsly<3.0.0,>=2.4.3 in /usr/local/lib/python3.10/dist-packages (from spacy<3.4,>=2.1.0->allennlp) (2.4.7)\n",
            "Requirement already satisfied: catalogue<2.1.0,>=2.0.6 in /usr/local/lib/python3.10/dist-packages (from spacy<3.4,>=2.1.0->allennlp) (2.0.9)\n",
            "Requirement already satisfied: pathy>=0.3.5 in /usr/local/lib/python3.10/dist-packages (from spacy<3.4,>=2.1.0->allennlp) (0.10.2)\n",
            "Requirement already satisfied: smart-open<7.0.0,>=5.2.1 in /usr/local/lib/python3.10/dist-packages (from spacy<3.4,>=2.1.0->allennlp) (6.3.0)\n",
            "Requirement already satisfied: pydantic!=1.8,!=1.8.1,<1.9.0,>=1.7.4 in /usr/local/lib/python3.10/dist-packages (from spacy<3.4,>=2.1.0->allennlp) (1.8.2)\n",
            "Requirement already satisfied: jinja2 in /usr/local/lib/python3.10/dist-packages (from spacy<3.4,>=2.1.0->allennlp) (3.1.2)\n",
            "Requirement already satisfied: setuptools in /usr/local/lib/python3.10/dist-packages (from spacy<3.4,>=2.1.0->allennlp) (67.7.2)\n",
            "Requirement already satisfied: langcodes<4.0.0,>=3.2.0 in /usr/local/lib/python3.10/dist-packages (from spacy<3.4,>=2.1.0->allennlp) (3.3.0)\n",
            "Requirement already satisfied: pillow!=8.3.*,>=5.3.0 in /usr/local/lib/python3.10/dist-packages (from torchvision<0.14.0,>=0.8.1->allennlp) (9.4.0)\n",
            "Requirement already satisfied: tokenizers!=0.11.3,<0.13,>=0.11.1 in /usr/local/lib/python3.10/dist-packages (from transformers<4.21,>=4.1->allennlp) (0.12.1)\n",
            "Requirement already satisfied: GitPython>=1.0.0 in /usr/local/lib/python3.10/dist-packages (from wandb<0.13.0,>=0.10.0->allennlp) (3.1.34)\n",
            "Requirement already satisfied: promise<3,>=2.0 in /usr/local/lib/python3.10/dist-packages (from wandb<0.13.0,>=0.10.0->allennlp) (2.3)\n",
            "Requirement already satisfied: shortuuid>=0.5.0 in /usr/local/lib/python3.10/dist-packages (from wandb<0.13.0,>=0.10.0->allennlp) (1.0.11)\n",
            "Requirement already satisfied: psutil>=5.0.0 in /usr/local/lib/python3.10/dist-packages (from wandb<0.13.0,>=0.10.0->allennlp) (5.9.5)\n",
            "Requirement already satisfied: sentry-sdk>=1.0.0 in /usr/local/lib/python3.10/dist-packages (from wandb<0.13.0,>=0.10.0->allennlp) (1.30.0)\n",
            "Requirement already satisfied: six>=1.13.0 in /usr/local/lib/python3.10/dist-packages (from wandb<0.13.0,>=0.10.0->allennlp) (1.16.0)\n",
            "Requirement already satisfied: docker-pycreds>=0.4.0 in /usr/local/lib/python3.10/dist-packages (from wandb<0.13.0,>=0.10.0->allennlp) (0.4.0)\n",
            "Requirement already satisfied: pathtools in /usr/local/lib/python3.10/dist-packages (from wandb<0.13.0,>=0.10.0->allennlp) (0.1.2)\n",
            "Requirement already satisfied: setproctitle in /usr/local/lib/python3.10/dist-packages (from wandb<0.13.0,>=0.10.0->allennlp) (1.3.2)\n",
            "Requirement already satisfied: botocore<1.32.0,>=1.31.40 in /usr/local/lib/python3.10/dist-packages (from boto3<2.0,>=1.0->cached-path<1.2.0,>=1.1.3->allennlp) (1.31.40)\n",
            "Requirement already satisfied: jmespath<2.0.0,>=0.7.1 in /usr/local/lib/python3.10/dist-packages (from boto3<2.0,>=1.0->cached-path<1.2.0,>=1.1.3->allennlp) (1.0.1)\n",
            "Requirement already satisfied: s3transfer<0.7.0,>=0.6.0 in /usr/local/lib/python3.10/dist-packages (from boto3<2.0,>=1.0->cached-path<1.2.0,>=1.1.3->allennlp) (0.6.2)\n",
            "Requirement already satisfied: gitdb<5,>=4.0.1 in /usr/local/lib/python3.10/dist-packages (from GitPython>=1.0.0->wandb<0.13.0,>=0.10.0->allennlp) (4.0.10)\n",
            "Requirement already satisfied: google-auth<3.0dev,>=1.25.0 in /usr/local/lib/python3.10/dist-packages (from google-cloud-storage<3.0,>=1.32.0->cached-path<1.2.0,>=1.1.3->allennlp) (2.17.3)\n",
            "Requirement already satisfied: google-api-core!=2.0.*,!=2.1.*,!=2.2.*,!=2.3.0,<3.0.0dev,>=1.31.5 in /usr/local/lib/python3.10/dist-packages (from google-cloud-storage<3.0,>=1.32.0->cached-path<1.2.0,>=1.1.3->allennlp) (2.11.1)\n",
            "Requirement already satisfied: google-cloud-core<3.0dev,>=2.3.0 in /usr/local/lib/python3.10/dist-packages (from google-cloud-storage<3.0,>=1.32.0->cached-path<1.2.0,>=1.1.3->allennlp) (2.3.3)\n",
            "Requirement already satisfied: google-resumable-media>=2.3.2 in /usr/local/lib/python3.10/dist-packages (from google-cloud-storage<3.0,>=1.32.0->cached-path<1.2.0,>=1.1.3->allennlp) (2.5.0)\n",
            "Requirement already satisfied: commonmark<0.10.0,>=0.9.0 in /usr/local/lib/python3.10/dist-packages (from rich<13.0,>=12.1->cached-path<1.2.0,>=1.1.3->allennlp) (0.9.1)\n",
            "Requirement already satisfied: pygments<3.0.0,>=2.6.0 in /usr/local/lib/python3.10/dist-packages (from rich<13.0,>=12.1->cached-path<1.2.0,>=1.1.3->allennlp) (2.16.1)\n",
            "Requirement already satisfied: MarkupSafe>=2.0 in /usr/local/lib/python3.10/dist-packages (from jinja2->spacy<3.4,>=2.1.0->allennlp) (2.1.3)\n",
            "Requirement already satisfied: python-dateutil<3.0.0,>=2.1 in /usr/local/lib/python3.10/dist-packages (from botocore<1.32.0,>=1.31.40->boto3<2.0,>=1.0->cached-path<1.2.0,>=1.1.3->allennlp) (2.8.2)\n",
            "Requirement already satisfied: smmap<6,>=3.0.1 in /usr/local/lib/python3.10/dist-packages (from gitdb<5,>=4.0.1->GitPython>=1.0.0->wandb<0.13.0,>=0.10.0->allennlp) (5.0.0)\n",
            "Requirement already satisfied: googleapis-common-protos<2.0.dev0,>=1.56.2 in /usr/local/lib/python3.10/dist-packages (from google-api-core!=2.0.*,!=2.1.*,!=2.2.*,!=2.3.0,<3.0.0dev,>=1.31.5->google-cloud-storage<3.0,>=1.32.0->cached-path<1.2.0,>=1.1.3->allennlp) (1.60.0)\n",
            "Requirement already satisfied: cachetools<6.0,>=2.0.0 in /usr/local/lib/python3.10/dist-packages (from google-auth<3.0dev,>=1.25.0->google-cloud-storage<3.0,>=1.32.0->cached-path<1.2.0,>=1.1.3->allennlp) (5.3.1)\n",
            "Requirement already satisfied: pyasn1-modules>=0.2.1 in /usr/local/lib/python3.10/dist-packages (from google-auth<3.0dev,>=1.25.0->google-cloud-storage<3.0,>=1.32.0->cached-path<1.2.0,>=1.1.3->allennlp) (0.3.0)\n",
            "Requirement already satisfied: rsa<5,>=3.1.4 in /usr/local/lib/python3.10/dist-packages (from google-auth<3.0dev,>=1.25.0->google-cloud-storage<3.0,>=1.32.0->cached-path<1.2.0,>=1.1.3->allennlp) (4.9)\n",
            "Requirement already satisfied: google-crc32c<2.0dev,>=1.0 in /usr/local/lib/python3.10/dist-packages (from google-resumable-media>=2.3.2->google-cloud-storage<3.0,>=1.32.0->cached-path<1.2.0,>=1.1.3->allennlp) (1.5.0)\n",
            "Requirement already satisfied: pyasn1<0.6.0,>=0.4.6 in /usr/local/lib/python3.10/dist-packages (from pyasn1-modules>=0.2.1->google-auth<3.0dev,>=1.25.0->google-cloud-storage<3.0,>=1.32.0->cached-path<1.2.0,>=1.1.3->allennlp) (0.5.0)\n"
          ]
        }
      ],
      "source": [
        "!pip install allennlp"
      ],
      "id": "Iip3RtlSNswV"
    },
    {
      "cell_type": "code",
      "execution_count": 3,
      "metadata": {
        "id": "2a756f4a"
      },
      "outputs": [],
      "source": [
        "import os\n",
        "import random\n",
        "import time\n",
        "import datetime\n",
        "import json\n",
        "import pandas as pd\n",
        "import numpy as np\n",
        "import torch\n",
        "import pickle\n",
        "from pathlib import Path\n",
        "from torch.utils.data import DataLoader, Dataset\n",
        "from transformers import BertForSequenceClassification, BertTokenizer, AdamW, BertConfig\n",
        "from transformers import get_linear_schedule_with_warmup\n",
        "import torch\n",
        "from torch import nn\n",
        "import torch.nn.functional as F\n",
        "from torch.nn.utils.rnn import pack_padded_sequence, pad_packed_sequence\n",
        "from sklearn.metrics import f1_score\n",
        "import copy"
      ],
      "id": "2a756f4a"
    },
    {
      "cell_type": "code",
      "execution_count": 4,
      "metadata": {
        "id": "60469712"
      },
      "outputs": [],
      "source": [
        "# Load the config file\n",
        "def load_config(config_path):\n",
        "    # Load and parse the config file\n",
        "    with open(config_path, 'r') as f:\n",
        "        config = json.load(f)\n",
        "\n",
        "    return config\n",
        "\n",
        "#config = load_config('./HBiLSTM_CL.json')"
      ],
      "id": "60469712"
    },
    {
      "cell_type": "code",
      "execution_count": 5,
      "metadata": {
        "id": "c2522271"
      },
      "outputs": [],
      "source": [
        "from data import SequenceClassificationDataset"
      ],
      "id": "c2522271"
    },
    {
      "cell_type": "code",
      "execution_count": 6,
      "metadata": {
        "id": "40bba0b3"
      },
      "outputs": [],
      "source": [
        "root = '/content/'\n",
        "it_train_dataset = SequenceClassificationDataset(Path(root,'train_transformerd_IT.json'))\n",
        "it_dev_dataset = SequenceClassificationDataset(Path(root, 'dev_transformerd_IT.json'))\n",
        "it_test_dataset = SequenceClassificationDataset(Path(root, 'test_transformerd_IT.json'))"
      ],
      "id": "40bba0b3"
    },
    {
      "cell_type": "code",
      "source": [
        "len(it_train_dataset), len(it_dev_dataset), len(it_test_dataset)"
      ],
      "metadata": {
        "colab": {
          "base_uri": "https://localhost:8080/"
        },
        "id": "GU5cFnuMNPXi",
        "outputId": "2d90c51c-b6e3-4983-e8a9-baee81c78fbc"
      },
      "id": "GU5cFnuMNPXi",
      "execution_count": 7,
      "outputs": [
        {
          "output_type": "execute_result",
          "data": {
            "text/plain": [
              "(40, 5, 5)"
            ]
          },
          "metadata": {},
          "execution_count": 7
        }
      ]
    },
    {
      "cell_type": "code",
      "execution_count": 8,
      "metadata": {
        "id": "6348ec30"
      },
      "outputs": [],
      "source": [
        "batch_size=1\n",
        "train_dataloader = DataLoader(it_train_dataset, batch_size=batch_size, shuffle=True)\n",
        "valid_dataloader = DataLoader(it_dev_dataset, batch_size=batch_size, shuffle=True)\n",
        "test_dataloader = DataLoader(it_test_dataset, batch_size=batch_size, shuffle=True)"
      ],
      "id": "6348ec30"
    },
    {
      "cell_type": "code",
      "execution_count": 9,
      "metadata": {
        "id": "a3119f7e"
      },
      "outputs": [],
      "source": [
        "from models import BertHSLN"
      ],
      "id": "a3119f7e"
    },
    {
      "cell_type": "code",
      "execution_count": 10,
      "metadata": {
        "id": "SbDyRT2XPb7F"
      },
      "outputs": [],
      "source": [
        "BERT_MODEL = \"bert-base-uncased\"\n",
        "mconfig = {\n",
        "    \"bert_model\": BERT_MODEL,\n",
        "    \"bert_trainable\": False,\n",
        "    \"model\": BertHSLN.__name__,\n",
        "    \"cacheable_tasks\": [],\n",
        "\n",
        "    \"dropout\": 0.5,\n",
        "    \"word_lstm_hs\": 384,\n",
        "    \"att_pooling_dim_ctx\": 50,\n",
        "    \"att_pooling_num_ctx\": 7,\n",
        "\n",
        "    \"lr\": 3e-05,\n",
        "    \"lr_epoch_decay\": 0.9,\n",
        "    \"batch_size\":  32,\n",
        "    \"max_seq_length\": 120,\n",
        "    \"max_epochs\": 20,\n",
        "    \"early_stopping\": 20,\n",
        "\n",
        "}"
      ],
      "id": "SbDyRT2XPb7F"
    },
    {
      "cell_type": "code",
      "execution_count": 11,
      "metadata": {
        "colab": {
          "base_uri": "https://localhost:8080/"
        },
        "id": "fTEms-tMhBEb",
        "outputId": "6297e635-8821-4432-eb8c-0455fd96483a"
      },
      "outputs": [
        {
          "output_type": "execute_result",
          "data": {
            "text/plain": [
              "True"
            ]
          },
          "metadata": {},
          "execution_count": 11
        }
      ],
      "source": [
        "torch.cuda.is_available()"
      ],
      "id": "fTEms-tMhBEb"
    },
    {
      "cell_type": "code",
      "execution_count": 12,
      "metadata": {
        "colab": {
          "base_uri": "https://localhost:8080/"
        },
        "id": "e1eae0a5",
        "outputId": "033305d7-f31e-43ac-893f-6dbefddf0273"
      },
      "outputs": [
        {
          "output_type": "stream",
          "name": "stdout",
          "text": [
            "device used: cuda\n"
          ]
        }
      ],
      "source": [
        "# assign device\n",
        "device = torch.device('cuda' if torch.cuda.is_available() else 'cpu')\n",
        "print(f\"device used: {device}\")"
      ],
      "id": "e1eae0a5"
    },
    {
      "cell_type": "code",
      "execution_count": 13,
      "metadata": {
        "colab": {
          "base_uri": "https://localhost:8080/"
        },
        "id": "2aKTXeEnR7wL",
        "outputId": "22678662-bd48-4c31-99db-af72e71573cf"
      },
      "outputs": [
        {
          "output_type": "stream",
          "name": "stderr",
          "text": [
            "Some weights of the model checkpoint at bert-base-uncased were not used when initializing BertModel: ['cls.predictions.bias', 'cls.seq_relationship.bias', 'cls.predictions.transform.dense.bias', 'cls.predictions.transform.LayerNorm.weight', 'cls.seq_relationship.weight', 'cls.predictions.transform.dense.weight', 'cls.predictions.transform.LayerNorm.bias', 'cls.predictions.decoder.weight']\n",
            "- This IS expected if you are initializing BertModel from the checkpoint of a model trained on another task or with another architecture (e.g. initializing a BertForSequenceClassification model from a BertForPreTraining model).\n",
            "- This IS NOT expected if you are initializing BertModel from the checkpoint of a model that you expect to be exactly identical (initializing a BertForSequenceClassification model from a BertForSequenceClassification model).\n"
          ]
        },
        {
          "output_type": "stream",
          "name": "stdout",
          "text": [
            "Attention pooling dim: 5376\n"
          ]
        }
      ],
      "source": [
        "model = BertHSLN(mconfig, num_labels = 7)"
      ],
      "id": "2aKTXeEnR7wL"
    },
    {
      "cell_type": "code",
      "execution_count": 14,
      "metadata": {
        "id": "6e9f688a"
      },
      "outputs": [],
      "source": [
        "seed_val = 42\n",
        "np.random.seed(seed_val)\n",
        "torch.manual_seed(seed_val)\n",
        "torch.cuda.manual_seed_all(seed_val)"
      ],
      "id": "6e9f688a"
    },
    {
      "cell_type": "code",
      "execution_count": 15,
      "metadata": {
        "colab": {
          "base_uri": "https://localhost:8080/"
        },
        "id": "a5005f1b",
        "outputId": "2f95fd44-22ba-4e3f-edc4-96eec84e99c6"
      },
      "outputs": [
        {
          "output_type": "stream",
          "name": "stdout",
          "text": [
            "device used: cuda\n"
          ]
        },
        {
          "output_type": "execute_result",
          "data": {
            "text/plain": [
              "BertHSLN(\n",
              "  (bert): BertTokenEmbedder(\n",
              "    (bert): BertModel(\n",
              "      (embeddings): BertEmbeddings(\n",
              "        (word_embeddings): Embedding(30522, 768, padding_idx=0)\n",
              "        (position_embeddings): Embedding(512, 768)\n",
              "        (token_type_embeddings): Embedding(2, 768)\n",
              "        (LayerNorm): LayerNorm((768,), eps=1e-12, elementwise_affine=True)\n",
              "        (dropout): Dropout(p=0.1, inplace=False)\n",
              "      )\n",
              "      (encoder): BertEncoder(\n",
              "        (layer): ModuleList(\n",
              "          (0): BertLayer(\n",
              "            (attention): BertAttention(\n",
              "              (self): BertSelfAttention(\n",
              "                (query): Linear(in_features=768, out_features=768, bias=True)\n",
              "                (key): Linear(in_features=768, out_features=768, bias=True)\n",
              "                (value): Linear(in_features=768, out_features=768, bias=True)\n",
              "                (dropout): Dropout(p=0.1, inplace=False)\n",
              "              )\n",
              "              (output): BertSelfOutput(\n",
              "                (dense): Linear(in_features=768, out_features=768, bias=True)\n",
              "                (LayerNorm): LayerNorm((768,), eps=1e-12, elementwise_affine=True)\n",
              "                (dropout): Dropout(p=0.1, inplace=False)\n",
              "              )\n",
              "            )\n",
              "            (intermediate): BertIntermediate(\n",
              "              (dense): Linear(in_features=768, out_features=3072, bias=True)\n",
              "              (intermediate_act_fn): GELUActivation()\n",
              "            )\n",
              "            (output): BertOutput(\n",
              "              (dense): Linear(in_features=3072, out_features=768, bias=True)\n",
              "              (LayerNorm): LayerNorm((768,), eps=1e-12, elementwise_affine=True)\n",
              "              (dropout): Dropout(p=0.1, inplace=False)\n",
              "            )\n",
              "          )\n",
              "          (1): BertLayer(\n",
              "            (attention): BertAttention(\n",
              "              (self): BertSelfAttention(\n",
              "                (query): Linear(in_features=768, out_features=768, bias=True)\n",
              "                (key): Linear(in_features=768, out_features=768, bias=True)\n",
              "                (value): Linear(in_features=768, out_features=768, bias=True)\n",
              "                (dropout): Dropout(p=0.1, inplace=False)\n",
              "              )\n",
              "              (output): BertSelfOutput(\n",
              "                (dense): Linear(in_features=768, out_features=768, bias=True)\n",
              "                (LayerNorm): LayerNorm((768,), eps=1e-12, elementwise_affine=True)\n",
              "                (dropout): Dropout(p=0.1, inplace=False)\n",
              "              )\n",
              "            )\n",
              "            (intermediate): BertIntermediate(\n",
              "              (dense): Linear(in_features=768, out_features=3072, bias=True)\n",
              "              (intermediate_act_fn): GELUActivation()\n",
              "            )\n",
              "            (output): BertOutput(\n",
              "              (dense): Linear(in_features=3072, out_features=768, bias=True)\n",
              "              (LayerNorm): LayerNorm((768,), eps=1e-12, elementwise_affine=True)\n",
              "              (dropout): Dropout(p=0.1, inplace=False)\n",
              "            )\n",
              "          )\n",
              "          (2): BertLayer(\n",
              "            (attention): BertAttention(\n",
              "              (self): BertSelfAttention(\n",
              "                (query): Linear(in_features=768, out_features=768, bias=True)\n",
              "                (key): Linear(in_features=768, out_features=768, bias=True)\n",
              "                (value): Linear(in_features=768, out_features=768, bias=True)\n",
              "                (dropout): Dropout(p=0.1, inplace=False)\n",
              "              )\n",
              "              (output): BertSelfOutput(\n",
              "                (dense): Linear(in_features=768, out_features=768, bias=True)\n",
              "                (LayerNorm): LayerNorm((768,), eps=1e-12, elementwise_affine=True)\n",
              "                (dropout): Dropout(p=0.1, inplace=False)\n",
              "              )\n",
              "            )\n",
              "            (intermediate): BertIntermediate(\n",
              "              (dense): Linear(in_features=768, out_features=3072, bias=True)\n",
              "              (intermediate_act_fn): GELUActivation()\n",
              "            )\n",
              "            (output): BertOutput(\n",
              "              (dense): Linear(in_features=3072, out_features=768, bias=True)\n",
              "              (LayerNorm): LayerNorm((768,), eps=1e-12, elementwise_affine=True)\n",
              "              (dropout): Dropout(p=0.1, inplace=False)\n",
              "            )\n",
              "          )\n",
              "          (3): BertLayer(\n",
              "            (attention): BertAttention(\n",
              "              (self): BertSelfAttention(\n",
              "                (query): Linear(in_features=768, out_features=768, bias=True)\n",
              "                (key): Linear(in_features=768, out_features=768, bias=True)\n",
              "                (value): Linear(in_features=768, out_features=768, bias=True)\n",
              "                (dropout): Dropout(p=0.1, inplace=False)\n",
              "              )\n",
              "              (output): BertSelfOutput(\n",
              "                (dense): Linear(in_features=768, out_features=768, bias=True)\n",
              "                (LayerNorm): LayerNorm((768,), eps=1e-12, elementwise_affine=True)\n",
              "                (dropout): Dropout(p=0.1, inplace=False)\n",
              "              )\n",
              "            )\n",
              "            (intermediate): BertIntermediate(\n",
              "              (dense): Linear(in_features=768, out_features=3072, bias=True)\n",
              "              (intermediate_act_fn): GELUActivation()\n",
              "            )\n",
              "            (output): BertOutput(\n",
              "              (dense): Linear(in_features=3072, out_features=768, bias=True)\n",
              "              (LayerNorm): LayerNorm((768,), eps=1e-12, elementwise_affine=True)\n",
              "              (dropout): Dropout(p=0.1, inplace=False)\n",
              "            )\n",
              "          )\n",
              "          (4): BertLayer(\n",
              "            (attention): BertAttention(\n",
              "              (self): BertSelfAttention(\n",
              "                (query): Linear(in_features=768, out_features=768, bias=True)\n",
              "                (key): Linear(in_features=768, out_features=768, bias=True)\n",
              "                (value): Linear(in_features=768, out_features=768, bias=True)\n",
              "                (dropout): Dropout(p=0.1, inplace=False)\n",
              "              )\n",
              "              (output): BertSelfOutput(\n",
              "                (dense): Linear(in_features=768, out_features=768, bias=True)\n",
              "                (LayerNorm): LayerNorm((768,), eps=1e-12, elementwise_affine=True)\n",
              "                (dropout): Dropout(p=0.1, inplace=False)\n",
              "              )\n",
              "            )\n",
              "            (intermediate): BertIntermediate(\n",
              "              (dense): Linear(in_features=768, out_features=3072, bias=True)\n",
              "              (intermediate_act_fn): GELUActivation()\n",
              "            )\n",
              "            (output): BertOutput(\n",
              "              (dense): Linear(in_features=3072, out_features=768, bias=True)\n",
              "              (LayerNorm): LayerNorm((768,), eps=1e-12, elementwise_affine=True)\n",
              "              (dropout): Dropout(p=0.1, inplace=False)\n",
              "            )\n",
              "          )\n",
              "          (5): BertLayer(\n",
              "            (attention): BertAttention(\n",
              "              (self): BertSelfAttention(\n",
              "                (query): Linear(in_features=768, out_features=768, bias=True)\n",
              "                (key): Linear(in_features=768, out_features=768, bias=True)\n",
              "                (value): Linear(in_features=768, out_features=768, bias=True)\n",
              "                (dropout): Dropout(p=0.1, inplace=False)\n",
              "              )\n",
              "              (output): BertSelfOutput(\n",
              "                (dense): Linear(in_features=768, out_features=768, bias=True)\n",
              "                (LayerNorm): LayerNorm((768,), eps=1e-12, elementwise_affine=True)\n",
              "                (dropout): Dropout(p=0.1, inplace=False)\n",
              "              )\n",
              "            )\n",
              "            (intermediate): BertIntermediate(\n",
              "              (dense): Linear(in_features=768, out_features=3072, bias=True)\n",
              "              (intermediate_act_fn): GELUActivation()\n",
              "            )\n",
              "            (output): BertOutput(\n",
              "              (dense): Linear(in_features=3072, out_features=768, bias=True)\n",
              "              (LayerNorm): LayerNorm((768,), eps=1e-12, elementwise_affine=True)\n",
              "              (dropout): Dropout(p=0.1, inplace=False)\n",
              "            )\n",
              "          )\n",
              "          (6): BertLayer(\n",
              "            (attention): BertAttention(\n",
              "              (self): BertSelfAttention(\n",
              "                (query): Linear(in_features=768, out_features=768, bias=True)\n",
              "                (key): Linear(in_features=768, out_features=768, bias=True)\n",
              "                (value): Linear(in_features=768, out_features=768, bias=True)\n",
              "                (dropout): Dropout(p=0.1, inplace=False)\n",
              "              )\n",
              "              (output): BertSelfOutput(\n",
              "                (dense): Linear(in_features=768, out_features=768, bias=True)\n",
              "                (LayerNorm): LayerNorm((768,), eps=1e-12, elementwise_affine=True)\n",
              "                (dropout): Dropout(p=0.1, inplace=False)\n",
              "              )\n",
              "            )\n",
              "            (intermediate): BertIntermediate(\n",
              "              (dense): Linear(in_features=768, out_features=3072, bias=True)\n",
              "              (intermediate_act_fn): GELUActivation()\n",
              "            )\n",
              "            (output): BertOutput(\n",
              "              (dense): Linear(in_features=3072, out_features=768, bias=True)\n",
              "              (LayerNorm): LayerNorm((768,), eps=1e-12, elementwise_affine=True)\n",
              "              (dropout): Dropout(p=0.1, inplace=False)\n",
              "            )\n",
              "          )\n",
              "          (7): BertLayer(\n",
              "            (attention): BertAttention(\n",
              "              (self): BertSelfAttention(\n",
              "                (query): Linear(in_features=768, out_features=768, bias=True)\n",
              "                (key): Linear(in_features=768, out_features=768, bias=True)\n",
              "                (value): Linear(in_features=768, out_features=768, bias=True)\n",
              "                (dropout): Dropout(p=0.1, inplace=False)\n",
              "              )\n",
              "              (output): BertSelfOutput(\n",
              "                (dense): Linear(in_features=768, out_features=768, bias=True)\n",
              "                (LayerNorm): LayerNorm((768,), eps=1e-12, elementwise_affine=True)\n",
              "                (dropout): Dropout(p=0.1, inplace=False)\n",
              "              )\n",
              "            )\n",
              "            (intermediate): BertIntermediate(\n",
              "              (dense): Linear(in_features=768, out_features=3072, bias=True)\n",
              "              (intermediate_act_fn): GELUActivation()\n",
              "            )\n",
              "            (output): BertOutput(\n",
              "              (dense): Linear(in_features=3072, out_features=768, bias=True)\n",
              "              (LayerNorm): LayerNorm((768,), eps=1e-12, elementwise_affine=True)\n",
              "              (dropout): Dropout(p=0.1, inplace=False)\n",
              "            )\n",
              "          )\n",
              "          (8): BertLayer(\n",
              "            (attention): BertAttention(\n",
              "              (self): BertSelfAttention(\n",
              "                (query): Linear(in_features=768, out_features=768, bias=True)\n",
              "                (key): Linear(in_features=768, out_features=768, bias=True)\n",
              "                (value): Linear(in_features=768, out_features=768, bias=True)\n",
              "                (dropout): Dropout(p=0.1, inplace=False)\n",
              "              )\n",
              "              (output): BertSelfOutput(\n",
              "                (dense): Linear(in_features=768, out_features=768, bias=True)\n",
              "                (LayerNorm): LayerNorm((768,), eps=1e-12, elementwise_affine=True)\n",
              "                (dropout): Dropout(p=0.1, inplace=False)\n",
              "              )\n",
              "            )\n",
              "            (intermediate): BertIntermediate(\n",
              "              (dense): Linear(in_features=768, out_features=3072, bias=True)\n",
              "              (intermediate_act_fn): GELUActivation()\n",
              "            )\n",
              "            (output): BertOutput(\n",
              "              (dense): Linear(in_features=3072, out_features=768, bias=True)\n",
              "              (LayerNorm): LayerNorm((768,), eps=1e-12, elementwise_affine=True)\n",
              "              (dropout): Dropout(p=0.1, inplace=False)\n",
              "            )\n",
              "          )\n",
              "          (9): BertLayer(\n",
              "            (attention): BertAttention(\n",
              "              (self): BertSelfAttention(\n",
              "                (query): Linear(in_features=768, out_features=768, bias=True)\n",
              "                (key): Linear(in_features=768, out_features=768, bias=True)\n",
              "                (value): Linear(in_features=768, out_features=768, bias=True)\n",
              "                (dropout): Dropout(p=0.1, inplace=False)\n",
              "              )\n",
              "              (output): BertSelfOutput(\n",
              "                (dense): Linear(in_features=768, out_features=768, bias=True)\n",
              "                (LayerNorm): LayerNorm((768,), eps=1e-12, elementwise_affine=True)\n",
              "                (dropout): Dropout(p=0.1, inplace=False)\n",
              "              )\n",
              "            )\n",
              "            (intermediate): BertIntermediate(\n",
              "              (dense): Linear(in_features=768, out_features=3072, bias=True)\n",
              "              (intermediate_act_fn): GELUActivation()\n",
              "            )\n",
              "            (output): BertOutput(\n",
              "              (dense): Linear(in_features=3072, out_features=768, bias=True)\n",
              "              (LayerNorm): LayerNorm((768,), eps=1e-12, elementwise_affine=True)\n",
              "              (dropout): Dropout(p=0.1, inplace=False)\n",
              "            )\n",
              "          )\n",
              "          (10): BertLayer(\n",
              "            (attention): BertAttention(\n",
              "              (self): BertSelfAttention(\n",
              "                (query): Linear(in_features=768, out_features=768, bias=True)\n",
              "                (key): Linear(in_features=768, out_features=768, bias=True)\n",
              "                (value): Linear(in_features=768, out_features=768, bias=True)\n",
              "                (dropout): Dropout(p=0.1, inplace=False)\n",
              "              )\n",
              "              (output): BertSelfOutput(\n",
              "                (dense): Linear(in_features=768, out_features=768, bias=True)\n",
              "                (LayerNorm): LayerNorm((768,), eps=1e-12, elementwise_affine=True)\n",
              "                (dropout): Dropout(p=0.1, inplace=False)\n",
              "              )\n",
              "            )\n",
              "            (intermediate): BertIntermediate(\n",
              "              (dense): Linear(in_features=768, out_features=3072, bias=True)\n",
              "              (intermediate_act_fn): GELUActivation()\n",
              "            )\n",
              "            (output): BertOutput(\n",
              "              (dense): Linear(in_features=3072, out_features=768, bias=True)\n",
              "              (LayerNorm): LayerNorm((768,), eps=1e-12, elementwise_affine=True)\n",
              "              (dropout): Dropout(p=0.1, inplace=False)\n",
              "            )\n",
              "          )\n",
              "          (11): BertLayer(\n",
              "            (attention): BertAttention(\n",
              "              (self): BertSelfAttention(\n",
              "                (query): Linear(in_features=768, out_features=768, bias=True)\n",
              "                (key): Linear(in_features=768, out_features=768, bias=True)\n",
              "                (value): Linear(in_features=768, out_features=768, bias=True)\n",
              "                (dropout): Dropout(p=0.1, inplace=False)\n",
              "              )\n",
              "              (output): BertSelfOutput(\n",
              "                (dense): Linear(in_features=768, out_features=768, bias=True)\n",
              "                (LayerNorm): LayerNorm((768,), eps=1e-12, elementwise_affine=True)\n",
              "                (dropout): Dropout(p=0.1, inplace=False)\n",
              "              )\n",
              "            )\n",
              "            (intermediate): BertIntermediate(\n",
              "              (dense): Linear(in_features=768, out_features=3072, bias=True)\n",
              "              (intermediate_act_fn): GELUActivation()\n",
              "            )\n",
              "            (output): BertOutput(\n",
              "              (dense): Linear(in_features=3072, out_features=768, bias=True)\n",
              "              (LayerNorm): LayerNorm((768,), eps=1e-12, elementwise_affine=True)\n",
              "              (dropout): Dropout(p=0.1, inplace=False)\n",
              "            )\n",
              "          )\n",
              "        )\n",
              "      )\n",
              "      (pooler): BertPooler(\n",
              "        (dense): Linear(in_features=768, out_features=768, bias=True)\n",
              "        (activation): Tanh()\n",
              "      )\n",
              "    )\n",
              "  )\n",
              "  (dropout): Dropout(p=0.5, inplace=False)\n",
              "  (classifier): Linear(in_features=768, out_features=7, bias=True)\n",
              "  (word_lstm): PytorchSeq2SeqWrapper(\n",
              "    (_module): LSTM(768, 384, batch_first=True, bidirectional=True)\n",
              "  )\n",
              "  (attention_pooling): AttentionPooling(\n",
              "    (linear1): Linear(in_features=768, out_features=50, bias=True)\n",
              "    (linear2): Linear(in_features=50, out_features=7, bias=False)\n",
              "  )\n",
              "  (sentence_lstm): PytorchSeq2SeqWrapper(\n",
              "    (_module): LSTM(5376, 384, batch_first=True, bidirectional=True)\n",
              "  )\n",
              ")"
            ]
          },
          "metadata": {},
          "execution_count": 15
        }
      ],
      "source": [
        "# assign device\n",
        "device = torch.device('cuda' if torch.cuda.is_available() else 'cpu')\n",
        "print(f\"device used: {device}\")\n",
        "model.to(device)"
      ],
      "id": "a5005f1b"
    },
    {
      "cell_type": "code",
      "execution_count": 16,
      "metadata": {
        "id": "864b9de3"
      },
      "outputs": [],
      "source": [
        "import functools\n",
        "import operator"
      ],
      "id": "864b9de3"
    },
    {
      "cell_type": "code",
      "source": [
        "sum(p.numel() for p in model.parameters() if p.requires_grad)"
      ],
      "metadata": {
        "colab": {
          "base_uri": "https://localhost:8080/"
        },
        "id": "rR9FZM-eQCrB",
        "outputId": "defcdb9e-e362-42cb-f623-716b5d4f91ce"
      },
      "id": "rR9FZM-eQCrB",
      "execution_count": 17,
      "outputs": [
        {
          "output_type": "execute_result",
          "data": {
            "text/plain": [
              "21290135"
            ]
          },
          "metadata": {},
          "execution_count": 17
        }
      ]
    },
    {
      "cell_type": "code",
      "execution_count": 18,
      "metadata": {
        "colab": {
          "base_uri": "https://localhost:8080/"
        },
        "id": "PudgU89SdvYZ",
        "outputId": "2b1522d8-d2ea-4435-a787-94446ad1f492"
      },
      "outputs": [
        {
          "output_type": "execute_result",
          "data": {
            "text/plain": [
              "1.7962188693578394"
            ]
          },
          "metadata": {},
          "execution_count": 18
        }
      ],
      "source": [
        "sum(p.numel() for p in model.parameters() if p.requires_grad) / 11852751"
      ],
      "id": "PudgU89SdvYZ"
    },
    {
      "cell_type": "code",
      "execution_count": 19,
      "metadata": {
        "id": "5r0No4MVdaMf"
      },
      "outputs": [],
      "source": [
        "from torch.optim.lr_scheduler import StepLR\n",
        "from torch.optim import Adam\n",
        "\n",
        "optimizer = Adam(model.parameters(), lr=mconfig['lr'])\n",
        "epoch_scheduler = StepLR(optimizer, step_size=1, gamma=mconfig[\"lr_epoch_decay\"])\n"
      ],
      "id": "5r0No4MVdaMf"
    },
    {
      "cell_type": "code",
      "execution_count": 20,
      "metadata": {
        "id": "IAdQDEv4q_mT"
      },
      "outputs": [],
      "source": [
        "from train import training_step, validation_step\n",
        "train_epoch_losses = {'cls':[]}\n",
        "train_epoch_acc = []\n",
        "train_epoch_f1 = []\n",
        "\n",
        "dev_epoch_losses = []\n",
        "dev_epoch_acc = []\n",
        "dev_epoch_f1 = []\n",
        "\n",
        "\n",
        "best_dev_f1 = 0\n",
        "best_model = None\n",
        "\n",
        "epochs = 40"
      ],
      "id": "IAdQDEv4q_mT"
    },
    {
      "cell_type": "code",
      "execution_count": 21,
      "metadata": {
        "colab": {
          "base_uri": "https://localhost:8080/"
        },
        "id": "21f98b2a",
        "outputId": "c200dae8-dd94-439c-ea02-d431181c49d6"
      },
      "outputs": [
        {
          "output_type": "stream",
          "name": "stdout",
          "text": [
            "======== Epoch 1 / 40 ========\n"
          ]
        },
        {
          "output_type": "stream",
          "name": "stderr",
          "text": [
            "/content/train.py:42: UserWarning: To copy construct from a tensor, it is recommended to use sourceTensor.clone().detach() or sourceTensor.clone().detach().requires_grad_(True), rather than torch.tensor(sourceTensor).\n",
            "  result[k] = torch.tensor(v)\n"
          ]
        },
        {
          "output_type": "stream",
          "name": "stdout",
          "text": [
            "after 0 step: cls_loss 1.959177851676941\n",
            "after 10 step: cls_loss 1.8233356475830078\n",
            "after 20 step: cls_loss 1.6303014755249023\n",
            "after 30 step: cls_loss 1.9918243885040283\n",
            "Epoch 1/40 - Training CLS Loss: 1.8439\n",
            "Epoch 1/40 - dev loss 1.7126857042312622 - F1 0.13890881808163935\n",
            "saving the checkpoint with dev f1 - 0.13890881808163935\n",
            "======== Epoch 2 / 40 ========\n"
          ]
        },
        {
          "output_type": "stream",
          "name": "stderr",
          "text": [
            "/content/train.py:42: UserWarning: To copy construct from a tensor, it is recommended to use sourceTensor.clone().detach() or sourceTensor.clone().detach().requires_grad_(True), rather than torch.tensor(sourceTensor).\n",
            "  result[k] = torch.tensor(v)\n"
          ]
        },
        {
          "output_type": "stream",
          "name": "stdout",
          "text": [
            "after 0 step: cls_loss 1.6138449907302856\n",
            "after 10 step: cls_loss 2.0823512077331543\n",
            "after 20 step: cls_loss 2.0021283626556396\n",
            "after 30 step: cls_loss 1.7324342727661133\n",
            "Epoch 2/40 - Training CLS Loss: 1.7430\n",
            "Epoch 2/40 - dev loss 1.600532865524292 - F1 0.15809663249272762\n",
            "saving the checkpoint with dev f1 - 0.15809663249272762\n",
            "======== Epoch 3 / 40 ========\n"
          ]
        },
        {
          "output_type": "stream",
          "name": "stderr",
          "text": [
            "/content/train.py:42: UserWarning: To copy construct from a tensor, it is recommended to use sourceTensor.clone().detach() or sourceTensor.clone().detach().requires_grad_(True), rather than torch.tensor(sourceTensor).\n",
            "  result[k] = torch.tensor(v)\n"
          ]
        },
        {
          "output_type": "stream",
          "name": "stdout",
          "text": [
            "after 0 step: cls_loss 1.6866647005081177\n",
            "after 10 step: cls_loss 1.7813323736190796\n",
            "after 20 step: cls_loss 1.765267252922058\n",
            "after 30 step: cls_loss 1.2972681522369385\n",
            "Epoch 3/40 - Training CLS Loss: 1.6467\n",
            "Epoch 3/40 - dev loss 1.47918701171875 - F1 0.1865161785104456\n",
            "saving the checkpoint with dev f1 - 0.1865161785104456\n",
            "======== Epoch 4 / 40 ========\n"
          ]
        },
        {
          "output_type": "stream",
          "name": "stderr",
          "text": [
            "/content/train.py:42: UserWarning: To copy construct from a tensor, it is recommended to use sourceTensor.clone().detach() or sourceTensor.clone().detach().requires_grad_(True), rather than torch.tensor(sourceTensor).\n",
            "  result[k] = torch.tensor(v)\n"
          ]
        },
        {
          "output_type": "stream",
          "name": "stdout",
          "text": [
            "after 0 step: cls_loss 1.531301736831665\n",
            "after 10 step: cls_loss 1.6313730478286743\n",
            "after 20 step: cls_loss 1.5100995302200317\n",
            "after 30 step: cls_loss 1.6201496124267578\n",
            "Epoch 4/40 - Training CLS Loss: 1.5132\n",
            "Epoch 4/40 - dev loss 1.3752891302108765 - F1 0.24642050453082984\n",
            "saving the checkpoint with dev f1 - 0.24642050453082984\n",
            "======== Epoch 5 / 40 ========\n"
          ]
        },
        {
          "output_type": "stream",
          "name": "stderr",
          "text": [
            "/content/train.py:42: UserWarning: To copy construct from a tensor, it is recommended to use sourceTensor.clone().detach() or sourceTensor.clone().detach().requires_grad_(True), rather than torch.tensor(sourceTensor).\n",
            "  result[k] = torch.tensor(v)\n"
          ]
        },
        {
          "output_type": "stream",
          "name": "stdout",
          "text": [
            "after 0 step: cls_loss 1.613555908203125\n",
            "after 10 step: cls_loss 1.4404388666152954\n",
            "after 20 step: cls_loss 1.372452974319458\n",
            "after 30 step: cls_loss 1.3123960494995117\n",
            "Epoch 5/40 - Training CLS Loss: 1.4060\n",
            "Epoch 5/40 - dev loss 1.3741862297058105 - F1 0.2360472548841858\n",
            "======== Epoch 6 / 40 ========\n"
          ]
        },
        {
          "output_type": "stream",
          "name": "stderr",
          "text": [
            "/content/train.py:42: UserWarning: To copy construct from a tensor, it is recommended to use sourceTensor.clone().detach() or sourceTensor.clone().detach().requires_grad_(True), rather than torch.tensor(sourceTensor).\n",
            "  result[k] = torch.tensor(v)\n"
          ]
        },
        {
          "output_type": "stream",
          "name": "stdout",
          "text": [
            "after 0 step: cls_loss 1.3612481355667114\n",
            "after 10 step: cls_loss 1.4109246730804443\n",
            "after 20 step: cls_loss 1.1577593088150024\n",
            "after 30 step: cls_loss 1.2562392950057983\n",
            "Epoch 6/40 - Training CLS Loss: 1.3468\n",
            "Epoch 6/40 - dev loss 1.3496888875961304 - F1 0.3215803163320222\n",
            "saving the checkpoint with dev f1 - 0.3215803163320222\n",
            "======== Epoch 7 / 40 ========\n"
          ]
        },
        {
          "output_type": "stream",
          "name": "stderr",
          "text": [
            "/content/train.py:42: UserWarning: To copy construct from a tensor, it is recommended to use sourceTensor.clone().detach() or sourceTensor.clone().detach().requires_grad_(True), rather than torch.tensor(sourceTensor).\n",
            "  result[k] = torch.tensor(v)\n"
          ]
        },
        {
          "output_type": "stream",
          "name": "stdout",
          "text": [
            "after 0 step: cls_loss 1.3297821283340454\n",
            "after 10 step: cls_loss 1.3994159698486328\n",
            "after 20 step: cls_loss 1.131261944770813\n",
            "after 30 step: cls_loss 1.1802927255630493\n",
            "Epoch 7/40 - Training CLS Loss: 1.2928\n",
            "Epoch 7/40 - dev loss 1.2557225346565246 - F1 0.3533723958594697\n",
            "saving the checkpoint with dev f1 - 0.3533723958594697\n",
            "======== Epoch 8 / 40 ========\n"
          ]
        },
        {
          "output_type": "stream",
          "name": "stderr",
          "text": [
            "/content/train.py:42: UserWarning: To copy construct from a tensor, it is recommended to use sourceTensor.clone().detach() or sourceTensor.clone().detach().requires_grad_(True), rather than torch.tensor(sourceTensor).\n",
            "  result[k] = torch.tensor(v)\n"
          ]
        },
        {
          "output_type": "stream",
          "name": "stdout",
          "text": [
            "after 0 step: cls_loss 1.2527905702590942\n",
            "after 10 step: cls_loss 1.4631152153015137\n",
            "after 20 step: cls_loss 0.9949104189872742\n",
            "after 30 step: cls_loss 1.533362627029419\n",
            "Epoch 8/40 - Training CLS Loss: 1.2633\n",
            "Epoch 8/40 - dev loss 1.2696234226226806 - F1 0.33525049462702683\n",
            "======== Epoch 9 / 40 ========\n",
            "after 0 step: cls_loss 1.2961887121200562\n"
          ]
        },
        {
          "output_type": "stream",
          "name": "stderr",
          "text": [
            "/content/train.py:42: UserWarning: To copy construct from a tensor, it is recommended to use sourceTensor.clone().detach() or sourceTensor.clone().detach().requires_grad_(True), rather than torch.tensor(sourceTensor).\n",
            "  result[k] = torch.tensor(v)\n"
          ]
        },
        {
          "output_type": "stream",
          "name": "stdout",
          "text": [
            "after 10 step: cls_loss 1.1361531019210815\n",
            "after 20 step: cls_loss 1.3936686515808105\n",
            "after 30 step: cls_loss 0.9463837742805481\n",
            "Epoch 9/40 - Training CLS Loss: 1.2342\n",
            "Epoch 9/40 - dev loss 1.2410402178764344 - F1 0.35731559318852685\n",
            "saving the checkpoint with dev f1 - 0.35731559318852685\n",
            "======== Epoch 10 / 40 ========\n"
          ]
        },
        {
          "output_type": "stream",
          "name": "stderr",
          "text": [
            "/content/train.py:42: UserWarning: To copy construct from a tensor, it is recommended to use sourceTensor.clone().detach() or sourceTensor.clone().detach().requires_grad_(True), rather than torch.tensor(sourceTensor).\n",
            "  result[k] = torch.tensor(v)\n"
          ]
        },
        {
          "output_type": "stream",
          "name": "stdout",
          "text": [
            "after 0 step: cls_loss 1.1746176481246948\n",
            "after 10 step: cls_loss 0.8266977667808533\n",
            "after 20 step: cls_loss 1.442262887954712\n",
            "after 30 step: cls_loss 1.4380954504013062\n",
            "Epoch 10/40 - Training CLS Loss: 1.2019\n",
            "Epoch 10/40 - dev loss 1.23963862657547 - F1 0.35269838768420836\n",
            "======== Epoch 11 / 40 ========\n"
          ]
        },
        {
          "output_type": "stream",
          "name": "stderr",
          "text": [
            "/content/train.py:42: UserWarning: To copy construct from a tensor, it is recommended to use sourceTensor.clone().detach() or sourceTensor.clone().detach().requires_grad_(True), rather than torch.tensor(sourceTensor).\n",
            "  result[k] = torch.tensor(v)\n"
          ]
        },
        {
          "output_type": "stream",
          "name": "stdout",
          "text": [
            "after 0 step: cls_loss 1.0248209238052368\n",
            "after 10 step: cls_loss 0.7126891613006592\n",
            "after 20 step: cls_loss 1.3149784803390503\n",
            "after 30 step: cls_loss 1.3347361087799072\n",
            "Epoch 11/40 - Training CLS Loss: 1.1855\n",
            "Epoch 11/40 - dev loss 1.2872453212738038 - F1 0.37203683232837587\n",
            "saving the checkpoint with dev f1 - 0.37203683232837587\n",
            "======== Epoch 12 / 40 ========\n"
          ]
        },
        {
          "output_type": "stream",
          "name": "stderr",
          "text": [
            "/content/train.py:42: UserWarning: To copy construct from a tensor, it is recommended to use sourceTensor.clone().detach() or sourceTensor.clone().detach().requires_grad_(True), rather than torch.tensor(sourceTensor).\n",
            "  result[k] = torch.tensor(v)\n"
          ]
        },
        {
          "output_type": "stream",
          "name": "stdout",
          "text": [
            "after 0 step: cls_loss 2.0584664344787598\n",
            "after 10 step: cls_loss 0.8097988963127136\n",
            "after 20 step: cls_loss 1.3836246728897095\n",
            "after 30 step: cls_loss 1.1801913976669312\n",
            "Epoch 12/40 - Training CLS Loss: 1.1774\n",
            "Epoch 12/40 - dev loss 1.2561786770820618 - F1 0.3653588691086402\n",
            "======== Epoch 13 / 40 ========\n"
          ]
        },
        {
          "output_type": "stream",
          "name": "stderr",
          "text": [
            "/content/train.py:42: UserWarning: To copy construct from a tensor, it is recommended to use sourceTensor.clone().detach() or sourceTensor.clone().detach().requires_grad_(True), rather than torch.tensor(sourceTensor).\n",
            "  result[k] = torch.tensor(v)\n"
          ]
        },
        {
          "output_type": "stream",
          "name": "stdout",
          "text": [
            "after 0 step: cls_loss 0.9576095342636108\n",
            "after 10 step: cls_loss 1.1180603504180908\n",
            "after 20 step: cls_loss 1.2703273296356201\n",
            "after 30 step: cls_loss 0.9914875030517578\n",
            "Epoch 13/40 - Training CLS Loss: 1.1617\n",
            "Epoch 13/40 - dev loss 1.2765909552574157 - F1 0.3427468038751786\n",
            "======== Epoch 14 / 40 ========\n"
          ]
        },
        {
          "output_type": "stream",
          "name": "stderr",
          "text": [
            "/content/train.py:42: UserWarning: To copy construct from a tensor, it is recommended to use sourceTensor.clone().detach() or sourceTensor.clone().detach().requires_grad_(True), rather than torch.tensor(sourceTensor).\n",
            "  result[k] = torch.tensor(v)\n"
          ]
        },
        {
          "output_type": "stream",
          "name": "stdout",
          "text": [
            "after 0 step: cls_loss 0.8311924934387207\n",
            "after 10 step: cls_loss 1.435662865638733\n",
            "after 20 step: cls_loss 1.064104437828064\n",
            "after 30 step: cls_loss 1.2734216451644897\n",
            "Epoch 14/40 - Training CLS Loss: 1.1420\n",
            "Epoch 14/40 - dev loss 1.2618952512741088 - F1 0.36684588706630666\n",
            "======== Epoch 15 / 40 ========\n"
          ]
        },
        {
          "output_type": "stream",
          "name": "stderr",
          "text": [
            "/content/train.py:42: UserWarning: To copy construct from a tensor, it is recommended to use sourceTensor.clone().detach() or sourceTensor.clone().detach().requires_grad_(True), rather than torch.tensor(sourceTensor).\n",
            "  result[k] = torch.tensor(v)\n"
          ]
        },
        {
          "output_type": "stream",
          "name": "stdout",
          "text": [
            "after 0 step: cls_loss 1.3329418897628784\n",
            "after 10 step: cls_loss 1.3422701358795166\n",
            "after 20 step: cls_loss 0.987680971622467\n",
            "after 30 step: cls_loss 0.8091616034507751\n",
            "Epoch 15/40 - Training CLS Loss: 1.1308\n",
            "Epoch 15/40 - dev loss 1.2599404335021973 - F1 0.37604853491796597\n",
            "saving the checkpoint with dev f1 - 0.37604853491796597\n",
            "======== Epoch 16 / 40 ========\n"
          ]
        },
        {
          "output_type": "stream",
          "name": "stderr",
          "text": [
            "/content/train.py:42: UserWarning: To copy construct from a tensor, it is recommended to use sourceTensor.clone().detach() or sourceTensor.clone().detach().requires_grad_(True), rather than torch.tensor(sourceTensor).\n",
            "  result[k] = torch.tensor(v)\n"
          ]
        },
        {
          "output_type": "stream",
          "name": "stdout",
          "text": [
            "after 0 step: cls_loss 0.790114164352417\n",
            "after 10 step: cls_loss 0.939027726650238\n",
            "after 20 step: cls_loss 0.5997663140296936\n",
            "after 30 step: cls_loss 1.1360262632369995\n",
            "Epoch 16/40 - Training CLS Loss: 1.1297\n",
            "Epoch 16/40 - dev loss 1.277845823764801 - F1 0.3811911594895557\n",
            "saving the checkpoint with dev f1 - 0.3811911594895557\n",
            "======== Epoch 17 / 40 ========\n"
          ]
        },
        {
          "output_type": "stream",
          "name": "stderr",
          "text": [
            "/content/train.py:42: UserWarning: To copy construct from a tensor, it is recommended to use sourceTensor.clone().detach() or sourceTensor.clone().detach().requires_grad_(True), rather than torch.tensor(sourceTensor).\n",
            "  result[k] = torch.tensor(v)\n"
          ]
        },
        {
          "output_type": "stream",
          "name": "stdout",
          "text": [
            "after 0 step: cls_loss 1.33818781375885\n",
            "after 10 step: cls_loss 1.0560917854309082\n",
            "after 20 step: cls_loss 0.9930168986320496\n",
            "after 30 step: cls_loss 0.8011596202850342\n",
            "Epoch 17/40 - Training CLS Loss: 1.1173\n",
            "Epoch 17/40 - dev loss 1.2865774512290955 - F1 0.3749155526639121\n",
            "======== Epoch 18 / 40 ========\n",
            "after 0 step: cls_loss 0.9408887028694153\n"
          ]
        },
        {
          "output_type": "stream",
          "name": "stderr",
          "text": [
            "/content/train.py:42: UserWarning: To copy construct from a tensor, it is recommended to use sourceTensor.clone().detach() or sourceTensor.clone().detach().requires_grad_(True), rather than torch.tensor(sourceTensor).\n",
            "  result[k] = torch.tensor(v)\n"
          ]
        },
        {
          "output_type": "stream",
          "name": "stdout",
          "text": [
            "after 10 step: cls_loss 0.7396976351737976\n",
            "after 20 step: cls_loss 1.1093424558639526\n",
            "after 30 step: cls_loss 1.3581820726394653\n",
            "Epoch 18/40 - Training CLS Loss: 1.1034\n",
            "Epoch 18/40 - dev loss 1.2978059649467468 - F1 0.3739222849613238\n",
            "======== Epoch 19 / 40 ========\n"
          ]
        },
        {
          "output_type": "stream",
          "name": "stderr",
          "text": [
            "/content/train.py:42: UserWarning: To copy construct from a tensor, it is recommended to use sourceTensor.clone().detach() or sourceTensor.clone().detach().requires_grad_(True), rather than torch.tensor(sourceTensor).\n",
            "  result[k] = torch.tensor(v)\n"
          ]
        },
        {
          "output_type": "stream",
          "name": "stdout",
          "text": [
            "after 0 step: cls_loss 1.3198779821395874\n",
            "after 10 step: cls_loss 1.1389899253845215\n",
            "after 20 step: cls_loss 1.2955915927886963\n",
            "after 30 step: cls_loss 1.0747957229614258\n",
            "Epoch 19/40 - Training CLS Loss: 1.0978\n",
            "Epoch 19/40 - dev loss 1.2896689295768737 - F1 0.38160422079563233\n",
            "saving the checkpoint with dev f1 - 0.38160422079563233\n",
            "======== Epoch 20 / 40 ========\n"
          ]
        },
        {
          "output_type": "stream",
          "name": "stderr",
          "text": [
            "/content/train.py:42: UserWarning: To copy construct from a tensor, it is recommended to use sourceTensor.clone().detach() or sourceTensor.clone().detach().requires_grad_(True), rather than torch.tensor(sourceTensor).\n",
            "  result[k] = torch.tensor(v)\n"
          ]
        },
        {
          "output_type": "stream",
          "name": "stdout",
          "text": [
            "after 0 step: cls_loss 1.237067461013794\n",
            "after 10 step: cls_loss 1.0218069553375244\n",
            "after 20 step: cls_loss 0.8412553071975708\n",
            "after 30 step: cls_loss 1.4468168020248413\n",
            "Epoch 20/40 - Training CLS Loss: 1.0927\n",
            "Epoch 20/40 - dev loss 1.2967119097709656 - F1 0.3813643031912755\n",
            "======== Epoch 21 / 40 ========\n"
          ]
        },
        {
          "output_type": "stream",
          "name": "stderr",
          "text": [
            "/content/train.py:42: UserWarning: To copy construct from a tensor, it is recommended to use sourceTensor.clone().detach() or sourceTensor.clone().detach().requires_grad_(True), rather than torch.tensor(sourceTensor).\n",
            "  result[k] = torch.tensor(v)\n"
          ]
        },
        {
          "output_type": "stream",
          "name": "stdout",
          "text": [
            "after 0 step: cls_loss 1.451048493385315\n",
            "after 10 step: cls_loss 1.8137266635894775\n",
            "after 20 step: cls_loss 1.1813069581985474\n",
            "after 30 step: cls_loss 1.1047539710998535\n",
            "Epoch 21/40 - Training CLS Loss: 1.0839\n",
            "Epoch 21/40 - dev loss 1.2980111241340637 - F1 0.3795632757122926\n",
            "======== Epoch 22 / 40 ========\n"
          ]
        },
        {
          "output_type": "stream",
          "name": "stderr",
          "text": [
            "/content/train.py:42: UserWarning: To copy construct from a tensor, it is recommended to use sourceTensor.clone().detach() or sourceTensor.clone().detach().requires_grad_(True), rather than torch.tensor(sourceTensor).\n",
            "  result[k] = torch.tensor(v)\n"
          ]
        },
        {
          "output_type": "stream",
          "name": "stdout",
          "text": [
            "after 0 step: cls_loss 1.2429693937301636\n",
            "after 10 step: cls_loss 1.3598686456680298\n",
            "after 20 step: cls_loss 0.8170491456985474\n",
            "after 30 step: cls_loss 0.866319477558136\n",
            "Epoch 22/40 - Training CLS Loss: 1.0730\n",
            "Epoch 22/40 - dev loss 1.3110720276832581 - F1 0.3866743059525421\n",
            "saving the checkpoint with dev f1 - 0.3866743059525421\n",
            "======== Epoch 23 / 40 ========\n"
          ]
        },
        {
          "output_type": "stream",
          "name": "stderr",
          "text": [
            "/content/train.py:42: UserWarning: To copy construct from a tensor, it is recommended to use sourceTensor.clone().detach() or sourceTensor.clone().detach().requires_grad_(True), rather than torch.tensor(sourceTensor).\n",
            "  result[k] = torch.tensor(v)\n"
          ]
        },
        {
          "output_type": "stream",
          "name": "stdout",
          "text": [
            "after 0 step: cls_loss 0.7670164704322815\n",
            "after 10 step: cls_loss 1.0314472913742065\n",
            "after 20 step: cls_loss 1.2542273998260498\n",
            "after 30 step: cls_loss 1.021437406539917\n",
            "Epoch 23/40 - Training CLS Loss: 1.0747\n",
            "Epoch 23/40 - dev loss 1.3113529920578002 - F1 0.39183823633118425\n",
            "saving the checkpoint with dev f1 - 0.39183823633118425\n",
            "======== Epoch 24 / 40 ========\n",
            "after 0 step: cls_loss 1.1325554847717285\n"
          ]
        },
        {
          "output_type": "stream",
          "name": "stderr",
          "text": [
            "/content/train.py:42: UserWarning: To copy construct from a tensor, it is recommended to use sourceTensor.clone().detach() or sourceTensor.clone().detach().requires_grad_(True), rather than torch.tensor(sourceTensor).\n",
            "  result[k] = torch.tensor(v)\n"
          ]
        },
        {
          "output_type": "stream",
          "name": "stdout",
          "text": [
            "after 10 step: cls_loss 1.3830013275146484\n",
            "after 20 step: cls_loss 1.3901152610778809\n",
            "after 30 step: cls_loss 0.7613413333892822\n",
            "Epoch 24/40 - Training CLS Loss: 1.0652\n",
            "Epoch 24/40 - dev loss 1.3084349632263184 - F1 0.378569827654891\n",
            "======== Epoch 25 / 40 ========\n"
          ]
        },
        {
          "output_type": "stream",
          "name": "stderr",
          "text": [
            "/content/train.py:42: UserWarning: To copy construct from a tensor, it is recommended to use sourceTensor.clone().detach() or sourceTensor.clone().detach().requires_grad_(True), rather than torch.tensor(sourceTensor).\n",
            "  result[k] = torch.tensor(v)\n"
          ]
        },
        {
          "output_type": "stream",
          "name": "stdout",
          "text": [
            "after 0 step: cls_loss 1.060971736907959\n",
            "after 10 step: cls_loss 1.7007993459701538\n",
            "after 20 step: cls_loss 0.9215572476387024\n",
            "after 30 step: cls_loss 0.7518432140350342\n",
            "Epoch 25/40 - Training CLS Loss: 1.0728\n",
            "Epoch 25/40 - dev loss 1.3117478132247924 - F1 0.40065764110350505\n",
            "saving the checkpoint with dev f1 - 0.40065764110350505\n",
            "======== Epoch 26 / 40 ========\n"
          ]
        },
        {
          "output_type": "stream",
          "name": "stderr",
          "text": [
            "/content/train.py:42: UserWarning: To copy construct from a tensor, it is recommended to use sourceTensor.clone().detach() or sourceTensor.clone().detach().requires_grad_(True), rather than torch.tensor(sourceTensor).\n",
            "  result[k] = torch.tensor(v)\n"
          ]
        },
        {
          "output_type": "stream",
          "name": "stdout",
          "text": [
            "after 0 step: cls_loss 1.0256242752075195\n",
            "after 10 step: cls_loss 0.7378301024436951\n",
            "after 20 step: cls_loss 1.0436275005340576\n",
            "after 30 step: cls_loss 0.6720881462097168\n",
            "Epoch 26/40 - Training CLS Loss: 1.0587\n",
            "Epoch 26/40 - dev loss 1.3156281113624573 - F1 0.4071713454763361\n",
            "saving the checkpoint with dev f1 - 0.4071713454763361\n",
            "======== Epoch 27 / 40 ========\n"
          ]
        },
        {
          "output_type": "stream",
          "name": "stderr",
          "text": [
            "/content/train.py:42: UserWarning: To copy construct from a tensor, it is recommended to use sourceTensor.clone().detach() or sourceTensor.clone().detach().requires_grad_(True), rather than torch.tensor(sourceTensor).\n",
            "  result[k] = torch.tensor(v)\n"
          ]
        },
        {
          "output_type": "stream",
          "name": "stdout",
          "text": [
            "after 0 step: cls_loss 1.1889219284057617\n",
            "after 10 step: cls_loss 1.028610110282898\n",
            "after 20 step: cls_loss 0.6851491332054138\n",
            "after 30 step: cls_loss 0.7860613465309143\n",
            "Epoch 27/40 - Training CLS Loss: 1.0576\n",
            "Epoch 27/40 - dev loss 1.313954734802246 - F1 0.3924677832590282\n",
            "======== Epoch 28 / 40 ========\n"
          ]
        },
        {
          "output_type": "stream",
          "name": "stderr",
          "text": [
            "/content/train.py:42: UserWarning: To copy construct from a tensor, it is recommended to use sourceTensor.clone().detach() or sourceTensor.clone().detach().requires_grad_(True), rather than torch.tensor(sourceTensor).\n",
            "  result[k] = torch.tensor(v)\n"
          ]
        },
        {
          "output_type": "stream",
          "name": "stdout",
          "text": [
            "after 0 step: cls_loss 1.1032718420028687\n",
            "after 10 step: cls_loss 0.8086445927619934\n",
            "after 20 step: cls_loss 0.860958993434906\n",
            "after 30 step: cls_loss 1.0718001127243042\n",
            "Epoch 28/40 - Training CLS Loss: 1.0626\n",
            "Epoch 28/40 - dev loss 1.3136675238609314 - F1 0.4064597330986405\n",
            "======== Epoch 29 / 40 ========\n"
          ]
        },
        {
          "output_type": "stream",
          "name": "stderr",
          "text": [
            "/content/train.py:42: UserWarning: To copy construct from a tensor, it is recommended to use sourceTensor.clone().detach() or sourceTensor.clone().detach().requires_grad_(True), rather than torch.tensor(sourceTensor).\n",
            "  result[k] = torch.tensor(v)\n"
          ]
        },
        {
          "output_type": "stream",
          "name": "stdout",
          "text": [
            "after 0 step: cls_loss 1.2764452695846558\n",
            "after 10 step: cls_loss 0.8837822079658508\n",
            "after 20 step: cls_loss 1.2615032196044922\n",
            "after 30 step: cls_loss 0.9324096441268921\n",
            "Epoch 29/40 - Training CLS Loss: 1.0546\n",
            "Epoch 29/40 - dev loss 1.320417845249176 - F1 0.3994227607218991\n",
            "======== Epoch 30 / 40 ========\n"
          ]
        },
        {
          "output_type": "stream",
          "name": "stderr",
          "text": [
            "/content/train.py:42: UserWarning: To copy construct from a tensor, it is recommended to use sourceTensor.clone().detach() or sourceTensor.clone().detach().requires_grad_(True), rather than torch.tensor(sourceTensor).\n",
            "  result[k] = torch.tensor(v)\n"
          ]
        },
        {
          "output_type": "stream",
          "name": "stdout",
          "text": [
            "after 0 step: cls_loss 0.5743796825408936\n",
            "after 10 step: cls_loss 2.1031556129455566\n",
            "after 20 step: cls_loss 1.0792959928512573\n",
            "after 30 step: cls_loss 0.9199250936508179\n",
            "Epoch 30/40 - Training CLS Loss: 1.0522\n",
            "Epoch 30/40 - dev loss 1.3164301872253419 - F1 0.4014947666444072\n",
            "======== Epoch 31 / 40 ========\n"
          ]
        },
        {
          "output_type": "stream",
          "name": "stderr",
          "text": [
            "/content/train.py:42: UserWarning: To copy construct from a tensor, it is recommended to use sourceTensor.clone().detach() or sourceTensor.clone().detach().requires_grad_(True), rather than torch.tensor(sourceTensor).\n",
            "  result[k] = torch.tensor(v)\n"
          ]
        },
        {
          "output_type": "stream",
          "name": "stdout",
          "text": [
            "after 0 step: cls_loss 0.7838211059570312\n",
            "after 10 step: cls_loss 0.5858607292175293\n",
            "after 20 step: cls_loss 1.1453744173049927\n",
            "after 30 step: cls_loss 1.2301687002182007\n",
            "Epoch 31/40 - Training CLS Loss: 1.0545\n",
            "Epoch 31/40 - dev loss 1.3221969604492188 - F1 0.40403952345126687\n",
            "======== Epoch 32 / 40 ========\n"
          ]
        },
        {
          "output_type": "stream",
          "name": "stderr",
          "text": [
            "/content/train.py:42: UserWarning: To copy construct from a tensor, it is recommended to use sourceTensor.clone().detach() or sourceTensor.clone().detach().requires_grad_(True), rather than torch.tensor(sourceTensor).\n",
            "  result[k] = torch.tensor(v)\n"
          ]
        },
        {
          "output_type": "stream",
          "name": "stdout",
          "text": [
            "after 0 step: cls_loss 0.5915434956550598\n",
            "after 10 step: cls_loss 0.7083399295806885\n",
            "after 20 step: cls_loss 0.8932314515113831\n",
            "after 30 step: cls_loss 0.9084610939025879\n",
            "Epoch 32/40 - Training CLS Loss: 1.0460\n",
            "Epoch 32/40 - dev loss 1.3181996822357178 - F1 0.4043321351649069\n",
            "======== Epoch 33 / 40 ========\n"
          ]
        },
        {
          "output_type": "stream",
          "name": "stderr",
          "text": [
            "/content/train.py:42: UserWarning: To copy construct from a tensor, it is recommended to use sourceTensor.clone().detach() or sourceTensor.clone().detach().requires_grad_(True), rather than torch.tensor(sourceTensor).\n",
            "  result[k] = torch.tensor(v)\n"
          ]
        },
        {
          "output_type": "stream",
          "name": "stdout",
          "text": [
            "after 0 step: cls_loss 1.2126444578170776\n",
            "after 10 step: cls_loss 0.984039306640625\n",
            "after 20 step: cls_loss 0.6998288631439209\n",
            "after 30 step: cls_loss 2.0896828174591064\n",
            "Epoch 33/40 - Training CLS Loss: 1.0469\n",
            "Epoch 33/40 - dev loss 1.3169042229652406 - F1 0.40056393671952134\n",
            "======== Epoch 34 / 40 ========\n"
          ]
        },
        {
          "output_type": "stream",
          "name": "stderr",
          "text": [
            "/content/train.py:42: UserWarning: To copy construct from a tensor, it is recommended to use sourceTensor.clone().detach() or sourceTensor.clone().detach().requires_grad_(True), rather than torch.tensor(sourceTensor).\n",
            "  result[k] = torch.tensor(v)\n"
          ]
        },
        {
          "output_type": "stream",
          "name": "stdout",
          "text": [
            "after 0 step: cls_loss 1.2488590478897095\n",
            "after 10 step: cls_loss 1.2209782600402832\n",
            "after 20 step: cls_loss 0.7274805903434753\n",
            "after 30 step: cls_loss 1.2027721405029297\n",
            "Epoch 34/40 - Training CLS Loss: 1.0503\n",
            "Epoch 34/40 - dev loss 1.321855628490448 - F1 0.40482518564448544\n",
            "======== Epoch 35 / 40 ========\n"
          ]
        },
        {
          "output_type": "stream",
          "name": "stderr",
          "text": [
            "/content/train.py:42: UserWarning: To copy construct from a tensor, it is recommended to use sourceTensor.clone().detach() or sourceTensor.clone().detach().requires_grad_(True), rather than torch.tensor(sourceTensor).\n",
            "  result[k] = torch.tensor(v)\n"
          ]
        },
        {
          "output_type": "stream",
          "name": "stdout",
          "text": [
            "after 0 step: cls_loss 1.4020733833312988\n",
            "after 10 step: cls_loss 1.1051768064498901\n",
            "after 20 step: cls_loss 0.7850099205970764\n",
            "after 30 step: cls_loss 1.4600111246109009\n",
            "Epoch 35/40 - Training CLS Loss: 1.0471\n",
            "Epoch 35/40 - dev loss 1.3217366099357606 - F1 0.3999152505657671\n",
            "======== Epoch 36 / 40 ========\n"
          ]
        },
        {
          "output_type": "stream",
          "name": "stderr",
          "text": [
            "/content/train.py:42: UserWarning: To copy construct from a tensor, it is recommended to use sourceTensor.clone().detach() or sourceTensor.clone().detach().requires_grad_(True), rather than torch.tensor(sourceTensor).\n",
            "  result[k] = torch.tensor(v)\n"
          ]
        },
        {
          "output_type": "stream",
          "name": "stdout",
          "text": [
            "after 0 step: cls_loss 1.2677687406539917\n",
            "after 10 step: cls_loss 0.9957228899002075\n",
            "after 20 step: cls_loss 1.4109020233154297\n",
            "after 30 step: cls_loss 1.413102626800537\n",
            "Epoch 36/40 - Training CLS Loss: 1.0486\n",
            "Epoch 36/40 - dev loss 1.3222641587257384 - F1 0.4036292104685475\n",
            "======== Epoch 37 / 40 ========\n"
          ]
        },
        {
          "output_type": "stream",
          "name": "stderr",
          "text": [
            "/content/train.py:42: UserWarning: To copy construct from a tensor, it is recommended to use sourceTensor.clone().detach() or sourceTensor.clone().detach().requires_grad_(True), rather than torch.tensor(sourceTensor).\n",
            "  result[k] = torch.tensor(v)\n"
          ]
        },
        {
          "output_type": "stream",
          "name": "stdout",
          "text": [
            "after 0 step: cls_loss 1.064442753791809\n",
            "after 10 step: cls_loss 1.2353538274765015\n",
            "after 20 step: cls_loss 1.1898268461227417\n",
            "after 30 step: cls_loss 0.8936604261398315\n",
            "Epoch 37/40 - Training CLS Loss: 1.0445\n",
            "Epoch 37/40 - dev loss 1.3207677721977233 - F1 0.4028472066317862\n",
            "======== Epoch 38 / 40 ========\n"
          ]
        },
        {
          "output_type": "stream",
          "name": "stderr",
          "text": [
            "/content/train.py:42: UserWarning: To copy construct from a tensor, it is recommended to use sourceTensor.clone().detach() or sourceTensor.clone().detach().requires_grad_(True), rather than torch.tensor(sourceTensor).\n",
            "  result[k] = torch.tensor(v)\n"
          ]
        },
        {
          "output_type": "stream",
          "name": "stdout",
          "text": [
            "after 0 step: cls_loss 0.564639687538147\n",
            "after 10 step: cls_loss 0.8503987789154053\n",
            "after 20 step: cls_loss 1.6735516786575317\n",
            "after 30 step: cls_loss 0.9411623477935791\n",
            "Epoch 38/40 - Training CLS Loss: 1.0414\n",
            "Epoch 38/40 - dev loss 1.3198723912239074 - F1 0.41263395307181605\n",
            "saving the checkpoint with dev f1 - 0.41263395307181605\n",
            "======== Epoch 39 / 40 ========\n"
          ]
        },
        {
          "output_type": "stream",
          "name": "stderr",
          "text": [
            "/content/train.py:42: UserWarning: To copy construct from a tensor, it is recommended to use sourceTensor.clone().detach() or sourceTensor.clone().detach().requires_grad_(True), rather than torch.tensor(sourceTensor).\n",
            "  result[k] = torch.tensor(v)\n"
          ]
        },
        {
          "output_type": "stream",
          "name": "stdout",
          "text": [
            "after 0 step: cls_loss 0.9478142857551575\n",
            "after 10 step: cls_loss 0.8778303265571594\n",
            "after 20 step: cls_loss 1.2235527038574219\n",
            "after 30 step: cls_loss 0.9208464026451111\n",
            "Epoch 39/40 - Training CLS Loss: 1.0462\n",
            "Epoch 39/40 - dev loss 1.3213935852050782 - F1 0.405608983510826\n",
            "======== Epoch 40 / 40 ========\n"
          ]
        },
        {
          "output_type": "stream",
          "name": "stderr",
          "text": [
            "/content/train.py:42: UserWarning: To copy construct from a tensor, it is recommended to use sourceTensor.clone().detach() or sourceTensor.clone().detach().requires_grad_(True), rather than torch.tensor(sourceTensor).\n",
            "  result[k] = torch.tensor(v)\n"
          ]
        },
        {
          "output_type": "stream",
          "name": "stdout",
          "text": [
            "after 0 step: cls_loss 0.9427142143249512\n",
            "after 10 step: cls_loss 1.36911940574646\n",
            "after 20 step: cls_loss 0.9697318077087402\n",
            "after 30 step: cls_loss 0.8914898037910461\n",
            "Epoch 40/40 - Training CLS Loss: 1.0411\n",
            "Epoch 40/40 - dev loss 1.3213535308837892 - F1 0.4126592818123978\n",
            "saving the checkpoint with dev f1 - 0.4126592818123978\n"
          ]
        }
      ],
      "source": [
        "# Training loop\n",
        "for epoch in range(epochs):\n",
        "    print('======== Epoch {:} / {:} ========'.format(epoch + 1, epochs))\n",
        "\n",
        "    # Training\n",
        "    train_loss = training_step(model, optimizer, epoch_scheduler, train_dataloader, device)\n",
        "    train_epoch_losses['cls'].append(train_loss['cls'])\n",
        "    print(f\"Epoch {epoch+1}/{epochs} - Training CLS Loss: {train_loss['cls']:.4f}\")\n",
        "\n",
        "    # Validation\n",
        "    dev_f1, dev_loss = validation_step(model, valid_dataloader, device)\n",
        "    dev_epoch_losses.append(dev_loss)\n",
        "    dev_epoch_f1.append(dev_f1)\n",
        "    print(f\"Epoch {epoch+1}/{epochs} - dev loss {dev_loss} - F1 {dev_f1}\")\n",
        "\n",
        "    if dev_f1 > best_dev_f1:\n",
        "        best_dev_f1 = dev_f1\n",
        "        best_model = copy.deepcopy(model)\n",
        "        print(f'saving the checkpoint with dev f1 - {best_dev_f1}')"
      ],
      "id": "21f98b2a"
    },
    {
      "cell_type": "code",
      "source": [
        "dev_epoch_f1"
      ],
      "metadata": {
        "colab": {
          "base_uri": "https://localhost:8080/"
        },
        "id": "mOOxi4VYcuED",
        "outputId": "f78e0e78-7041-4421-ae78-25fb49e08299"
      },
      "id": "mOOxi4VYcuED",
      "execution_count": 23,
      "outputs": [
        {
          "output_type": "execute_result",
          "data": {
            "text/plain": [
              "[0.13890881808163935,\n",
              " 0.15809663249272762,\n",
              " 0.1865161785104456,\n",
              " 0.24642050453082984,\n",
              " 0.2360472548841858,\n",
              " 0.3215803163320222,\n",
              " 0.3533723958594697,\n",
              " 0.33525049462702683,\n",
              " 0.35731559318852685,\n",
              " 0.35269838768420836,\n",
              " 0.37203683232837587,\n",
              " 0.3653588691086402,\n",
              " 0.3427468038751786,\n",
              " 0.36684588706630666,\n",
              " 0.37604853491796597,\n",
              " 0.3811911594895557,\n",
              " 0.3749155526639121,\n",
              " 0.3739222849613238,\n",
              " 0.38160422079563233,\n",
              " 0.3813643031912755,\n",
              " 0.3795632757122926,\n",
              " 0.3866743059525421,\n",
              " 0.39183823633118425,\n",
              " 0.378569827654891,\n",
              " 0.40065764110350505,\n",
              " 0.4071713454763361,\n",
              " 0.3924677832590282,\n",
              " 0.4064597330986405,\n",
              " 0.3994227607218991,\n",
              " 0.4014947666444072,\n",
              " 0.40403952345126687,\n",
              " 0.4043321351649069,\n",
              " 0.40056393671952134,\n",
              " 0.40482518564448544,\n",
              " 0.3999152505657671,\n",
              " 0.4036292104685475,\n",
              " 0.4028472066317862,\n",
              " 0.41263395307181605,\n",
              " 0.405608983510826,\n",
              " 0.4126592818123978]"
            ]
          },
          "metadata": {},
          "execution_count": 22
        },
        {
          "output_type": "execute_result",
          "data": {
            "text/plain": [
              "[0.13890881808163935,\n",
              " 0.15809663249272762,\n",
              " 0.1865161785104456,\n",
              " 0.24642050453082984,\n",
              " 0.2360472548841858,\n",
              " 0.3215803163320222,\n",
              " 0.3533723958594697,\n",
              " 0.33525049462702683,\n",
              " 0.35731559318852685,\n",
              " 0.35269838768420836,\n",
              " 0.37203683232837587,\n",
              " 0.3653588691086402,\n",
              " 0.3427468038751786,\n",
              " 0.36684588706630666,\n",
              " 0.37604853491796597,\n",
              " 0.3811911594895557,\n",
              " 0.3749155526639121,\n",
              " 0.3739222849613238,\n",
              " 0.38160422079563233,\n",
              " 0.3813643031912755,\n",
              " 0.3795632757122926,\n",
              " 0.3866743059525421,\n",
              " 0.39183823633118425,\n",
              " 0.378569827654891,\n",
              " 0.40065764110350505,\n",
              " 0.4071713454763361,\n",
              " 0.3924677832590282,\n",
              " 0.4064597330986405,\n",
              " 0.3994227607218991,\n",
              " 0.4014947666444072,\n",
              " 0.40403952345126687,\n",
              " 0.4043321351649069,\n",
              " 0.40056393671952134,\n",
              " 0.40482518564448544,\n",
              " 0.3999152505657671,\n",
              " 0.4036292104685475,\n",
              " 0.4028472066317862,\n",
              " 0.41263395307181605,\n",
              " 0.405608983510826,\n",
              " 0.4126592818123978]"
            ]
          },
          "metadata": {},
          "execution_count": 23
        }
      ]
    },
    {
      "cell_type": "code",
      "execution_count": 25,
      "metadata": {
        "colab": {
          "base_uri": "https://localhost:8080/",
          "height": 927
        },
        "id": "11038361",
        "outputId": "72670710-17cc-43b0-dfa3-ccac47489f77"
      },
      "outputs": [
        {
          "output_type": "display_data",
          "data": {
            "text/plain": [
              "<Figure size 640x480 with 1 Axes>"
            ],
            "image/png": "[encoded data removed]"
          },
          "metadata": {}
        },
        {
          "output_type": "display_data",
          "data": {
            "text/plain": [
              "<Figure size 640x480 with 1 Axes>"
            ],
            "image/png": "[encoded data removed]"
          },
          "metadata": {}
        }
      ],
      "source": [
        "import matplotlib.pyplot as plt\n",
        "\n",
        "# Plot the epoch loss\n",
        "plt.plot(train_epoch_losses['cls'], label='Training Loss')\n",
        "plt.plot(dev_epoch_losses, label='Validation Loss')\n",
        "plt.xlabel('Epoch')\n",
        "plt.ylabel('Loss')\n",
        "plt.legend()\n",
        "plt.title('Epoch Loss')\n",
        "plt.show()\n",
        "\n",
        "# Plot the epoch accuracies\n",
        "#plt.plot(train_epoch_acc, label='Training acc')\n",
        "plt.plot(dev_epoch_f1, label='MACRO-F1')\n",
        "plt.xlabel('Epoch')\n",
        "plt.ylabel('Accuracy')\n",
        "plt.legend()\n",
        "plt.title('Epoch Accuracy')\n",
        "plt.show()"
      ],
      "id": "11038361"
    },
    {
      "cell_type": "code",
      "execution_count": 26,
      "metadata": {
        "colab": {
          "base_uri": "https://localhost:8080/"
        },
        "id": "Joffk4CRnlfM",
        "outputId": "2cb3e91a-5233-4609-8d47-c56ae697634f"
      },
      "outputs": [
        {
          "output_type": "execute_result",
          "data": {
            "text/plain": [
              "device(type='cuda')"
            ]
          },
          "metadata": {},
          "execution_count": 26
        }
      ],
      "source": [
        "device = torch.device('cuda' if torch.cuda.is_available() else 'cpu')\n",
        "\n",
        "device"
      ],
      "id": "Joffk4CRnlfM"
    },
    {
      "cell_type": "code",
      "execution_count": 29,
      "metadata": {
        "id": "95e37c02"
      },
      "outputs": [],
      "source": [
        "from train import testing_step"
      ],
      "id": "95e37c02"
    },
    {
      "cell_type": "code",
      "execution_count": 34,
      "metadata": {
        "colab": {
          "base_uri": "https://localhost:8080/"
        },
        "id": "safFrbWucr7W",
        "outputId": "a709d663-046a-499d-a1d1-77cda0a5825d"
      },
      "outputs": [
        {
          "output_type": "stream",
          "name": "stderr",
          "text": [
            "/content/train.py:42: UserWarning: To copy construct from a tensor, it is recommended to use sourceTensor.clone().detach() or sourceTensor.clone().detach().requires_grad_(True), rather than torch.tensor(sourceTensor).\n",
            "  result[k] = torch.tensor(v)\n"
          ]
        },
        {
          "output_type": "stream",
          "name": "stdout",
          "text": [
            "Testing Loss: 0.0000 - Testing Accuracy: 71.8000\n",
            "              precision    recall  f1-score   support\n",
            "\n",
            "           0       0.73      0.79      0.76       207\n",
            "           1       0.20      0.20      0.20        92\n",
            "           2       0.50      0.36      0.42       162\n",
            "           3       0.33      0.67      0.44       115\n",
            "           4       0.00      0.00      0.00        46\n",
            "           5       1.00      0.26      0.41        31\n",
            "           6       0.87      0.53      0.66        62\n",
            "\n",
            "    accuracy                           0.50       715\n",
            "   macro avg       0.52      0.40      0.41       715\n",
            "weighted avg       0.52      0.50      0.49       715\n",
            "\n"
          ]
        },
        {
          "output_type": "stream",
          "name": "stderr",
          "text": [
            "/usr/local/lib/python3.10/dist-packages/sklearn/metrics/_classification.py:1344: UndefinedMetricWarning: Precision and F-score are ill-defined and being set to 0.0 in labels with no predicted samples. Use `zero_division` parameter to control this behavior.\n",
            "  _warn_prf(average, modifier, msg_start, len(result))\n",
            "/usr/local/lib/python3.10/dist-packages/sklearn/metrics/_classification.py:1344: UndefinedMetricWarning: Precision and F-score are ill-defined and being set to 0.0 in labels with no predicted samples. Use `zero_division` parameter to control this behavior.\n",
            "  _warn_prf(average, modifier, msg_start, len(result))\n",
            "/usr/local/lib/python3.10/dist-packages/sklearn/metrics/_classification.py:1344: UndefinedMetricWarning: Precision and F-score are ill-defined and being set to 0.0 in labels with no predicted samples. Use `zero_division` parameter to control this behavior.\n",
            "  _warn_prf(average, modifier, msg_start, len(result))\n"
          ]
        }
      ],
      "source": [
        "test_loss, test_accuracy, predictions, true_labels = testing_step(best_model, valid_dataloader, device)"
      ],
      "id": "safFrbWucr7W"
    },
    {
      "cell_type": "code",
      "execution_count": 39,
      "metadata": {
        "colab": {
          "base_uri": "https://localhost:8080/"
        },
        "id": "4f13e334",
        "outputId": "93c3d881-1377-4bfb-eb08-30950061ec6f"
      },
      "outputs": [
        {
          "output_type": "stream",
          "name": "stderr",
          "text": [
            "/content/train.py:42: UserWarning: To copy construct from a tensor, it is recommended to use sourceTensor.clone().detach() or sourceTensor.clone().detach().requires_grad_(True), rather than torch.tensor(sourceTensor).\n",
            "  result[k] = torch.tensor(v)\n"
          ]
        },
        {
          "output_type": "stream",
          "name": "stdout",
          "text": [
            "Testing Loss: 0.0000 - Testing Accuracy: 91.2000\n",
            "              precision    recall  f1-score   support\n",
            "\n",
            "           0       0.65      0.84      0.73       145\n",
            "           1       0.53      0.37      0.43       115\n",
            "           2       0.71      0.41      0.52       145\n",
            "           3       0.45      0.76      0.57       191\n",
            "           4       1.00      0.01      0.02        99\n",
            "           5       1.00      0.12      0.21        25\n",
            "           6       0.54      0.71      0.61       115\n",
            "\n",
            "    accuracy                           0.55       835\n",
            "   macro avg       0.70      0.46      0.44       835\n",
            "weighted avg       0.63      0.55      0.50       835\n",
            "\n",
            "Macro F1-score: 44.25\n",
            "Micro F1-score: 54.61\n",
            "Weighted F1-score: 49.96\n"
          ]
        }
      ],
      "source": [
        "# Testing loop\n",
        "test_loss, test_accuracy, predictions, true_labels = testing_step(best_model, test_dataloader, device)"
      ],
      "id": "4f13e334"
    },
    {
      "cell_type": "code",
      "source": [
        "from google.colab import drive\n",
        "drive.mount('/content/drive')"
      ],
      "metadata": {
        "colab": {
          "base_uri": "https://localhost:8080/"
        },
        "id": "VF1mqtPBePU_",
        "outputId": "a4f8b8a3-933c-4eb2-89c1-bcda1c05865f"
      },
      "id": "VF1mqtPBePU_",
      "execution_count": 42,
      "outputs": [
        {
          "output_type": "stream",
          "name": "stdout",
          "text": [
            "Mounted at /content/drive\n"
          ]
        }
      ]
    },
    {
      "cell_type": "code",
      "execution_count": 40,
      "metadata": {
        "id": "5cdad956"
      },
      "outputs": [],
      "source": [
        "import torch\n",
        "\n",
        "def save_model_state_dict(model, filepath):\n",
        "    \"\"\"\n",
        "    Save the model's state dictionary to a file.\n",
        "\n",
        "    Parameters:\n",
        "        model (torch.nn.Module): The PyTorch model to save.\n",
        "        filepath (str): The file path where the model will be saved.\n",
        "    \"\"\"\n",
        "    torch.save(model.state_dict(), filepath)\n",
        "    print(f\"Model state_dict saved to {filepath}\")\n"
      ],
      "id": "5cdad956"
    },
    {
      "cell_type": "code",
      "execution_count": 43,
      "metadata": {
        "colab": {
          "base_uri": "https://localhost:8080/"
        },
        "id": "_j1pzvPx1K2J",
        "outputId": "592dec85-5947-4dad-864c-e901934fc0b9"
      },
      "outputs": [
        {
          "output_type": "stream",
          "name": "stdout",
          "text": [
            "Model state_dict saved to /content/drive/MyDrive/OS/baseline_malik_it.pth\n"
          ]
        }
      ],
      "source": [
        "save_model_state_dict(best_model, \"/content/drive/MyDrive/OS/baseline_malik_it.pth\")"
      ],
      "id": "_j1pzvPx1K2J"
    },
    {
      "cell_type": "code",
      "source": [],
      "metadata": {
        "id": "mxmUEnSdePyJ"
      },
      "id": "mxmUEnSdePyJ",
      "execution_count": null,
      "outputs": []
    },
    {
      "cell_type": "code",
      "execution_count": null,
      "metadata": {
        "id": "BUogs_On1zyt"
      },
      "outputs": [],
      "source": [],
      "id": "BUogs_On1zyt"
    }
  ],
  "metadata": {
    "accelerator": "GPU",
    "colab": {
      "provenance": []
    },
    "kernelspec": {
      "display_name": "Lnlp",
      "language": "python",
      "name": "lnlp"
    },
    "language_info": {
      "codemirror_mode": {
        "name": "ipython",
        "version": 3
      },
      "file_extension": ".py",
      "mimetype": "text/x-python",
      "name": "python",
      "nbconvert_exporter": "python",
      "pygments_lexer": "ipython3",
      "version": "3.11.3"
    }
  },
  "nbformat": 4,
  "nbformat_minor": 5
}