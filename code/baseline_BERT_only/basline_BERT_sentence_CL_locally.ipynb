{
 "cells": [
  {
   "cell_type": "markdown",
   "id": "27d23573",
   "metadata": {
    "id": "27d23573"
   },
   "source": [
    "# Notebook for google colab\n",
    "\n",
    "- requirments:\n",
    "    - install requirments\n",
    "    - run notebook in same directory of config file or adjust path as you like"
   ]
  },
  {
   "cell_type": "code",
   "execution_count": 3,
   "id": "UY3rFuQEwQUL",
   "metadata": {
    "colab": {
     "base_uri": "https://localhost:8080/"
    },
    "id": "UY3rFuQEwQUL",
    "outputId": "deab0692-9339-417c-c5ce-23b142528888"
   },
   "outputs": [
    {
     "name": "stdout",
     "output_type": "stream",
     "text": [
      "Looking in indexes: https://pypi.org/simple, https://us-python.pkg.dev/colab-wheels/public/simple/\n",
      "Collecting transformers\n",
      "  Downloading transformers-4.29.2-py3-none-any.whl (7.1 MB)\n",
      "\u001b[2K     \u001b[90m━━━━━━━━━━━━━━━━━━━━━━━━━━━━━━━━━━━━━━━━\u001b[0m \u001b[32m7.1/7.1 MB\u001b[0m \u001b[31m47.1 MB/s\u001b[0m eta \u001b[36m0:00:00\u001b[0m\n",
      "\u001b[?25hRequirement already satisfied: filelock in /usr/local/lib/python3.10/dist-packages (from transformers) (3.12.0)\n",
      "Collecting huggingface-hub<1.0,>=0.14.1 (from transformers)\n",
      "  Downloading huggingface_hub-0.14.1-py3-none-any.whl (224 kB)\n",
      "\u001b[2K     \u001b[90m━━━━━━━━━━━━━━━━━━━━━━━━━━━━━━━━━━━━━━\u001b[0m \u001b[32m224.5/224.5 kB\u001b[0m \u001b[31m23.4 MB/s\u001b[0m eta \u001b[36m0:00:00\u001b[0m\n",
      "\u001b[?25hRequirement already satisfied: numpy>=1.17 in /usr/local/lib/python3.10/dist-packages (from transformers) (1.22.4)\n",
      "Requirement already satisfied: packaging>=20.0 in /usr/local/lib/python3.10/dist-packages (from transformers) (23.1)\n",
      "Requirement already satisfied: pyyaml>=5.1 in /usr/local/lib/python3.10/dist-packages (from transformers) (6.0)\n",
      "Requirement already satisfied: regex!=2019.12.17 in /usr/local/lib/python3.10/dist-packages (from transformers) (2022.10.31)\n",
      "Requirement already satisfied: requests in /usr/local/lib/python3.10/dist-packages (from transformers) (2.27.1)\n",
      "Collecting tokenizers!=0.11.3,<0.14,>=0.11.1 (from transformers)\n",
      "  Downloading tokenizers-0.13.3-cp310-cp310-manylinux_2_17_x86_64.manylinux2014_x86_64.whl (7.8 MB)\n",
      "\u001b[2K     \u001b[90m━━━━━━━━━━━━━━━━━━━━━━━━━━━━━━━━━━━━━━━━\u001b[0m \u001b[32m7.8/7.8 MB\u001b[0m \u001b[31m69.7 MB/s\u001b[0m eta \u001b[36m0:00:00\u001b[0m\n",
      "\u001b[?25hRequirement already satisfied: tqdm>=4.27 in /usr/local/lib/python3.10/dist-packages (from transformers) (4.65.0)\n",
      "Requirement already satisfied: fsspec in /usr/local/lib/python3.10/dist-packages (from huggingface-hub<1.0,>=0.14.1->transformers) (2023.4.0)\n",
      "Requirement already satisfied: typing-extensions>=3.7.4.3 in /usr/local/lib/python3.10/dist-packages (from huggingface-hub<1.0,>=0.14.1->transformers) (4.5.0)\n",
      "Requirement already satisfied: urllib3<1.27,>=1.21.1 in /usr/local/lib/python3.10/dist-packages (from requests->transformers) (1.26.15)\n",
      "Requirement already satisfied: certifi>=2017.4.17 in /usr/local/lib/python3.10/dist-packages (from requests->transformers) (2022.12.7)\n",
      "Requirement already satisfied: charset-normalizer~=2.0.0 in /usr/local/lib/python3.10/dist-packages (from requests->transformers) (2.0.12)\n",
      "Requirement already satisfied: idna<4,>=2.5 in /usr/local/lib/python3.10/dist-packages (from requests->transformers) (3.4)\n",
      "Installing collected packages: tokenizers, huggingface-hub, transformers\n",
      "Successfully installed huggingface-hub-0.14.1 tokenizers-0.13.3 transformers-4.29.2\n",
      "Looking in indexes: https://pypi.org/simple, https://us-python.pkg.dev/colab-wheels/public/simple/\n",
      "Requirement already satisfied: transformers in /usr/local/lib/python3.10/dist-packages (4.29.2)\n",
      "Requirement already satisfied: filelock in /usr/local/lib/python3.10/dist-packages (from transformers) (3.12.0)\n",
      "Requirement already satisfied: huggingface-hub<1.0,>=0.14.1 in /usr/local/lib/python3.10/dist-packages (from transformers) (0.14.1)\n",
      "Requirement already satisfied: numpy>=1.17 in /usr/local/lib/python3.10/dist-packages (from transformers) (1.22.4)\n",
      "Requirement already satisfied: packaging>=20.0 in /usr/local/lib/python3.10/dist-packages (from transformers) (23.1)\n",
      "Requirement already satisfied: pyyaml>=5.1 in /usr/local/lib/python3.10/dist-packages (from transformers) (6.0)\n",
      "Requirement already satisfied: regex!=2019.12.17 in /usr/local/lib/python3.10/dist-packages (from transformers) (2022.10.31)\n",
      "Requirement already satisfied: requests in /usr/local/lib/python3.10/dist-packages (from transformers) (2.27.1)\n",
      "Requirement already satisfied: tokenizers!=0.11.3,<0.14,>=0.11.1 in /usr/local/lib/python3.10/dist-packages (from transformers) (0.13.3)\n",
      "Requirement already satisfied: tqdm>=4.27 in /usr/local/lib/python3.10/dist-packages (from transformers) (4.65.0)\n",
      "Requirement already satisfied: fsspec in /usr/local/lib/python3.10/dist-packages (from huggingface-hub<1.0,>=0.14.1->transformers) (2023.4.0)\n",
      "Requirement already satisfied: typing-extensions>=3.7.4.3 in /usr/local/lib/python3.10/dist-packages (from huggingface-hub<1.0,>=0.14.1->transformers) (4.5.0)\n",
      "Requirement already satisfied: urllib3<1.27,>=1.21.1 in /usr/local/lib/python3.10/dist-packages (from requests->transformers) (1.26.15)\n",
      "Requirement already satisfied: certifi>=2017.4.17 in /usr/local/lib/python3.10/dist-packages (from requests->transformers) (2022.12.7)\n",
      "Requirement already satisfied: charset-normalizer~=2.0.0 in /usr/local/lib/python3.10/dist-packages (from requests->transformers) (2.0.12)\n",
      "Requirement already satisfied: idna<4,>=2.5 in /usr/local/lib/python3.10/dist-packages (from requests->transformers) (3.4)\n"
     ]
    }
   ],
   "source": [
    "!pip install transformers"
   ]
  },
  {
   "cell_type": "code",
   "execution_count": 4,
   "id": "cd2d9f1e",
   "metadata": {
    "id": "cd2d9f1e"
   },
   "outputs": [],
   "source": [
    "import os\n",
    "import random\n",
    "import time\n",
    "import datetime\n",
    "import json\n",
    "import pandas as pd\n",
    "import numpy as np\n",
    "import torch\n",
    "\n",
    "from pathlib import Path\n",
    "from torch.utils.data import DataLoader, Dataset\n",
    "from transformers import BertForSequenceClassification, BertTokenizer, AdamW, BertConfig\n",
    "from transformers import get_linear_schedule_with_warmup"
   ]
  },
  {
   "cell_type": "code",
   "execution_count": 5,
   "id": "5633d432",
   "metadata": {
    "id": "5633d432"
   },
   "outputs": [],
   "source": [
    "# Load the config file\n",
    "def load_config(config_path):\n",
    "    # Load and parse the config file\n",
    "    with open(config_path, 'r') as f:\n",
    "        config = json.load(f)\n",
    "\n",
    "    return config\n",
    "\n",
    "config = load_config('./baseline_CL.json')"
   ]
  },
  {
   "cell_type": "code",
   "execution_count": 6,
   "id": "b9c41dc8",
   "metadata": {
    "id": "b9c41dc8"
   },
   "outputs": [],
   "source": [
    "import pandas as pd\n",
    "from torch.utils.data import Dataset, DataLoader\n",
    "from transformers import AutoTokenizer\n",
    "\n",
    "class Tokenizer:\n",
    "    def __init__(self, tokenizer_name):\n",
    "        self.tokenizer = AutoTokenizer.from_pretrained(tokenizer_name)\n",
    "\n",
    "    def tokenize(self, sentence):\n",
    "        return self.tokenizer.tokenize(sentence)\n",
    "\n",
    "    def encode(self, sentence):\n",
    "        return self.tokenizer.encode_plus(sentence, padding='max_length', truncation=True, return_tensors='pt', max_length=256)\n",
    "\n",
    "class RhetoricalRoleDataset(Dataset):\n",
    "    def __init__(self, data_path, tokenizer, mapper:str = 'compressed'):\n",
    "        self.tokenizer = tokenizer\n",
    "        self.data = pd.read_csv(data_path)\n",
    "        self.sentences = self.data['sentences'].tolist()\n",
    "        self.labels = self.data['labels'].tolist()\n",
    "        \n",
    "        # Create the label mapping dictionary\n",
    "        label_mapping = {}\n",
    "        # Assign unique integer labels to each unique string label\n",
    "        compressed_label_mapper = {\n",
    "        \"Fact\": 0,\n",
    "        \"Argument\": 1, \"Argument\": 1,\n",
    "        \"RulingP\": 2, \"RulingL\": 3, \n",
    "        \"Ratio\": 4,\n",
    "        \"None\": -1,\n",
    "        \"Statute\": 5,\n",
    "        \"Precedent\": 6,\n",
    "        \"Issue\": 0,\"Dissent\": 0\n",
    "         }\n",
    "        full_label_mapper = {\n",
    "        \"Fact\": 0,\n",
    "        \"ArgumentPetitioner\": 1,\n",
    "        \"ArgumentRespondent\": 2,\n",
    "        \"RulingByPresentCourt\": 3,\n",
    "        \"RulingByLowerCourt\": 4,\n",
    "        \"RatioOfTheDecision\": 5,\n",
    "        \"None\": 6,\n",
    "        \"Statute\": 7,\n",
    "        \"PrecedentReliedUpon\": 8,\n",
    "        \"PrecedentNotReliedUpon\": 9,\n",
    "        \"PrecedentOverruled\": 10,\n",
    "        \"Issue\": 11,\n",
    "        \"Dissent\": 12\n",
    "        }\n",
    "        if mapper == 'compressed':\n",
    "          label_mapping = compressed_label_mapper\n",
    "        else:\n",
    "          label_mapping = full_label_mapper\n",
    "        # Convert the string labels to integer labels using the mapping\n",
    "        self.integer_labels = [label_mapping[label] for label in self.labels]\n",
    "\n",
    "\n",
    "    def __len__(self):\n",
    "        return len(self.sentences)\n",
    "    \n",
    "    def num_labels(self):\n",
    "        return len(set(self.labels))\n",
    "\n",
    "    def __getitem__(self, idx):\n",
    "        sentence = self.sentences[idx]\n",
    "        label = self.integer_labels[idx]\n",
    "\n",
    "        encoded_input = self.tokenizer.encode(sentence)\n",
    "        input_ids = encoded_input['input_ids'].squeeze()\n",
    "        attention_mask = encoded_input['attention_mask'].squeeze()\n",
    "\n",
    "        return {\n",
    "            'input_ids': input_ids,\n",
    "            'attention_mask': attention_mask,\n",
    "            'labels': label\n",
    "        }"
   ]
  },
  {
   "cell_type": "code",
   "execution_count": 8,
   "id": "2c3d5267",
   "metadata": {
    "colab": {
     "base_uri": "https://localhost:8080/"
    },
    "id": "2c3d5267",
    "outputId": "56469a66-46fa-4c7f-9c98-684b04224d96"
   },
   "outputs": [
    {
     "name": "stdout",
     "output_type": "stream",
     "text": [
      "loaded tokenizer: bert-base-uncased\n",
      "device used: cuda\n"
     ]
    }
   ],
   "source": [
    "# load model name\n",
    "model_name = config['model']['name']\n",
    "model_save_name = config['model']['save_name']\n",
    "\n",
    "# Create an instance of the tokenizer\n",
    "tokenizer = Tokenizer(config['model']['name'])\n",
    "print(f\"loaded tokenizer: {model_name}\")\n",
    "\n",
    "# assign device\n",
    "device = torch.device('cuda' if torch.cuda.is_available() else 'cpu')\n",
    "print(f\"device used: {device}\")"
   ]
  },
  {
   "cell_type": "code",
   "execution_count": 9,
   "id": "551efd68",
   "metadata": {
    "colab": {
     "base_uri": "https://localhost:8080/",
     "height": 179,
     "referenced_widgets": [
      "ce58c9082bb3464cbca013fa9d5930e6",
      "bcca61e95cbb4e61b46a8151f4b2e183",
      "9524fb0b42384699b8676d0ecbb49cbe",
      "70b6a27ab7d34afe9e25357d9425dfeb",
      "60256fafdc4f48c3a7db266c186b2954",
      "3840618eaec5416681008b8cf326b9b6",
      "c3326924bba24b619f8e031a0f2790e1",
      "0cf3f89e381c46dca889c5bc551ea5ca",
      "ae3dbf49e5d54dceac6885360a1bbddf",
      "39fcdfffd0be4b399eb3a8f0e5b47b41",
      "bd574f6cfa33499bb28539e97eb04f63"
     ]
    },
    "id": "551efd68",
    "outputId": "d694d5bf-eea0-4071-ce93-4ba077f89043"
   },
   "outputs": [
    {
     "data": {
      "application/vnd.jupyter.widget-view+json": {
       "model_id": "ce58c9082bb3464cbca013fa9d5930e6",
       "version_major": 2,
       "version_minor": 0
      },
      "text/plain": [
       "Downloading pytorch_model.bin:   0%|          | 0.00/440M [00:00<?, ?B/s]"
      ]
     },
     "metadata": {},
     "output_type": "display_data"
    },
    {
     "name": "stderr",
     "output_type": "stream",
     "text": [
      "Some weights of the model checkpoint at bert-base-uncased were not used when initializing BertForSequenceClassification: ['cls.predictions.transform.LayerNorm.weight', 'cls.predictions.transform.dense.weight', 'cls.predictions.transform.LayerNorm.bias', 'cls.predictions.decoder.weight', 'cls.predictions.transform.dense.bias', 'cls.seq_relationship.weight', 'cls.seq_relationship.bias', 'cls.predictions.bias']\n",
      "- This IS expected if you are initializing BertForSequenceClassification from the checkpoint of a model trained on another task or with another architecture (e.g. initializing a BertForSequenceClassification model from a BertForPreTraining model).\n",
      "- This IS NOT expected if you are initializing BertForSequenceClassification from the checkpoint of a model that you expect to be exactly identical (initializing a BertForSequenceClassification model from a BertForSequenceClassification model).\n",
      "Some weights of BertForSequenceClassification were not initialized from the model checkpoint at bert-base-uncased and are newly initialized: ['classifier.bias', 'classifier.weight']\n",
      "You should probably TRAIN this model on a down-stream task to be able to use it for predictions and inference.\n"
     ]
    },
    {
     "name": "stdout",
     "output_type": "stream",
     "text": [
      "loaded model: bert-base-uncased\n"
     ]
    }
   ],
   "source": [
    "# Define the model name for the tokenizer\n",
    "from models import get_model\n",
    "\n",
    "model = get_model(model_name, model_save_name, config['data']['num_label'])\n",
    "model.to(device)\n",
    "print(f\"loaded model: {model_name}\")"
   ]
  },
  {
   "cell_type": "code",
   "execution_count": 10,
   "id": "8f777d1b",
   "metadata": {
    "colab": {
     "base_uri": "https://localhost:8080/"
    },
    "id": "8f777d1b",
    "outputId": "7e49b07a-9733-42a7-b059-4f56eb8ad8f1"
   },
   "outputs": [
    {
     "name": "stdout",
     "output_type": "stream",
     "text": [
      "loaded datasets and data loaders\n"
     ]
    }
   ],
   "source": [
    "# Create instances of the dataset and dataloader for (train, valid)\n",
    "batch_size = config['training']['batch_size']\n",
    "mapper = config['data']['mapper']\n",
    "\n",
    "train_data_path = Path(config['data']['root_path'], config['data']['train_data_path'])\n",
    "train_dataset = RhetoricalRoleDataset(train_data_path, tokenizer, mapper=mapper)\n",
    "train_loader = DataLoader(train_dataset, batch_size=batch_size, shuffle=True)\n",
    "\n",
    "valid_data_path = Path(config['data']['root_path'], config['data']['valid_data_path'])\n",
    "valid_dataset = RhetoricalRoleDataset(valid_data_path, tokenizer,mapper=mapper)\n",
    "valid_loader = DataLoader(valid_dataset, batch_size=batch_size, shuffle=True)\n",
    "\n",
    "print(f\"loaded datasets and data loaders\")"
   ]
  },
  {
   "cell_type": "code",
   "execution_count": 12,
   "id": "5f34cc5b",
   "metadata": {
    "colab": {
     "base_uri": "https://localhost:8080/"
    },
    "id": "5f34cc5b",
    "outputId": "8e98c949-4dd4-4637-a87a-fa2c6e10654a"
   },
   "outputs": [
    {
     "name": "stderr",
     "output_type": "stream",
     "text": [
      "/usr/local/lib/python3.10/dist-packages/transformers/optimization.py:407: FutureWarning: This implementation of AdamW is deprecated and will be removed in a future version. Use the PyTorch implementation torch.optim.AdamW instead, or set `no_deprecation_warning=True` to disable this warning\n",
      "  warnings.warn(\n"
     ]
    }
   ],
   "source": [
    "lr = config['training']['learning_rate']\n",
    "max_grad_norm = config['training']['max_grad_norm']\n",
    "epochs = config['training']['epochs']\n",
    "num_total_steps = len(train_dataset)*epochs\n",
    "num_warmup_steps = config['training']['num_warmup_steps']\n",
    "warmup_proportion = float(num_warmup_steps) / float(num_total_steps)  # 0.1\n",
    "optimizer = AdamW(model.parameters(), lr=lr, correct_bias=True)\n",
    "scheduler = get_linear_schedule_with_warmup(optimizer, num_warmup_steps = num_warmup_steps, num_training_steps = num_total_steps)"
   ]
  },
  {
   "cell_type": "code",
   "execution_count": 13,
   "id": "543137a8",
   "metadata": {
    "id": "543137a8"
   },
   "outputs": [],
   "source": [
    "seed_val = config['training']['seed']\n",
    "np.random.seed(seed_val)\n",
    "torch.manual_seed(seed_val)\n",
    "torch.cuda.manual_seed_all(seed_val)"
   ]
  },
  {
   "cell_type": "code",
   "execution_count": 14,
   "id": "3bb70b8e",
   "metadata": {
    "id": "3bb70b8e"
   },
   "outputs": [],
   "source": [
    "def flat_accuracy(preds, labels):\n",
    "    pred_flat = np.argmax(preds, axis=1).flatten()\n",
    "    labels_flat = labels.flatten()\n",
    "    return np.sum(pred_flat == labels_flat) / len(labels_flat)"
   ]
  },
  {
   "cell_type": "code",
   "execution_count": 15,
   "id": "f286c35f",
   "metadata": {
    "colab": {
     "base_uri": "https://localhost:8080/"
    },
    "id": "f286c35f",
    "outputId": "1bd582e2-e1e0-4aa1-b0b5-be080597fb80"
   },
   "outputs": [
    {
     "name": "stdout",
     "output_type": "stream",
     "text": [
      "======== Epoch 1 / 5 ========\n",
      "Training...\n",
      "Epoch 1/5 - Step 40/330 - Training Loss: 2.0881 - Train Accuracy: 1.6875\n",
      "Epoch 1/5 - Step 80/330 - Training Loss: 2.0460 - Train Accuracy: 5.3438\n",
      "Epoch 1/5 - Step 120/330 - Training Loss: 1.9830 - Train Accuracy: 16.0938\n",
      "Epoch 1/5 - Step 160/330 - Training Loss: 1.9175 - Train Accuracy: 29.0000\n",
      "Epoch 1/5 - Step 200/330 - Training Loss: 1.8618 - Train Accuracy: 43.3438\n",
      "Epoch 1/5 - Step 240/330 - Training Loss: 1.8106 - Train Accuracy: 59.1562\n",
      "Epoch 1/5 - Step 280/330 - Training Loss: 1.7646 - Train Accuracy: 75.8125\n",
      "Epoch 1/5 - Step 320/330 - Training Loss: 1.7259 - Train Accuracy: 92.7500\n",
      "Epoch 1/5 - Training Loss: 1.7174 - Epoch Time: 433.58 seconds\n",
      "Running Validation...\n",
      "Epoch 1/5 - Validation Loss: 1.5847 - Validation Accuracy: 0.2572\n",
      "======== Epoch 2 / 5 ========\n",
      "Training...\n",
      "Epoch 2/5 - Step 40/330 - Training Loss: 1.3902 - Train Accuracy: 18.2812\n",
      "Epoch 2/5 - Step 80/330 - Training Loss: 1.3689 - Train Accuracy: 37.3438\n",
      "Epoch 2/5 - Step 120/330 - Training Loss: 1.3563 - Train Accuracy: 56.4062\n",
      "Epoch 2/5 - Step 160/330 - Training Loss: 1.3335 - Train Accuracy: 77.1875\n",
      "Epoch 2/5 - Step 200/330 - Training Loss: 1.3160 - Train Accuracy: 98.4062\n",
      "Epoch 2/5 - Step 240/330 - Training Loss: 1.3017 - Train Accuracy: 120.0000\n",
      "Epoch 2/5 - Step 280/330 - Training Loss: 1.2850 - Train Accuracy: 142.8125\n",
      "Epoch 2/5 - Step 320/330 - Training Loss: 1.2706 - Train Accuracy: 165.7812\n",
      "Epoch 2/5 - Training Loss: 1.2664 - Epoch Time: 434.54 seconds\n",
      "Running Validation...\n",
      "Epoch 2/5 - Validation Loss: 1.4365 - Validation Accuracy: 0.4238\n",
      "======== Epoch 3 / 5 ========\n",
      "Training...\n",
      "Epoch 3/5 - Step 40/330 - Training Loss: 1.0544 - Train Accuracy: 24.5938\n",
      "Epoch 3/5 - Step 80/330 - Training Loss: 1.0485 - Train Accuracy: 49.2188\n",
      "Epoch 3/5 - Step 120/330 - Training Loss: 1.0286 - Train Accuracy: 74.5938\n",
      "Epoch 3/5 - Step 160/330 - Training Loss: 1.0283 - Train Accuracy: 99.8438\n",
      "Epoch 3/5 - Step 200/330 - Training Loss: 1.0237 - Train Accuracy: 125.1562\n",
      "Epoch 3/5 - Step 240/330 - Training Loss: 1.0111 - Train Accuracy: 151.6250\n",
      "Epoch 3/5 - Step 280/330 - Training Loss: 1.0049 - Train Accuracy: 177.9062\n",
      "Epoch 3/5 - Step 320/330 - Training Loss: 0.9973 - Train Accuracy: 204.0938\n",
      "Epoch 3/5 - Training Loss: 0.9935 - Epoch Time: 432.34 seconds\n",
      "Running Validation...\n",
      "Epoch 3/5 - Validation Loss: 1.5211 - Validation Accuracy: 0.4321\n",
      "======== Epoch 4 / 5 ========\n",
      "Training...\n",
      "Epoch 4/5 - Step 40/330 - Training Loss: 0.8112 - Train Accuracy: 28.7500\n",
      "Epoch 4/5 - Step 80/330 - Training Loss: 0.8020 - Train Accuracy: 57.9062\n",
      "Epoch 4/5 - Step 120/330 - Training Loss: 0.7713 - Train Accuracy: 87.2812\n",
      "Epoch 4/5 - Step 160/330 - Training Loss: 0.7737 - Train Accuracy: 115.9062\n",
      "Epoch 4/5 - Step 200/330 - Training Loss: 0.7630 - Train Accuracy: 146.0000\n",
      "Epoch 4/5 - Step 240/330 - Training Loss: 0.7569 - Train Accuracy: 175.6875\n",
      "Epoch 4/5 - Step 280/330 - Training Loss: 0.7554 - Train Accuracy: 204.8438\n",
      "Epoch 4/5 - Step 320/330 - Training Loss: 0.7492 - Train Accuracy: 234.6250\n",
      "Epoch 4/5 - Training Loss: 0.7472 - Epoch Time: 431.42 seconds\n",
      "Running Validation...\n",
      "Epoch 4/5 - Validation Loss: 1.7535 - Validation Accuracy: 0.4167\n",
      "======== Epoch 5 / 5 ========\n",
      "Training...\n",
      "Epoch 5/5 - Step 40/330 - Training Loss: 0.5345 - Train Accuracy: 32.5938\n",
      "Epoch 5/5 - Step 80/330 - Training Loss: 0.5402 - Train Accuracy: 65.3438\n",
      "Epoch 5/5 - Step 120/330 - Training Loss: 0.5328 - Train Accuracy: 98.2500\n",
      "Epoch 5/5 - Step 160/330 - Training Loss: 0.5292 - Train Accuracy: 131.2812\n",
      "Epoch 5/5 - Step 200/330 - Training Loss: 0.5285 - Train Accuracy: 164.5000\n",
      "Epoch 5/5 - Step 240/330 - Training Loss: 0.5298 - Train Accuracy: 197.3750\n",
      "Epoch 5/5 - Step 280/330 - Training Loss: 0.5228 - Train Accuracy: 230.6250\n",
      "Epoch 5/5 - Step 320/330 - Training Loss: 0.5215 - Train Accuracy: 263.8125\n",
      "Epoch 5/5 - Training Loss: 0.5213 - Epoch Time: 431.85 seconds\n",
      "Running Validation...\n",
      "Epoch 5/5 - Validation Loss: 1.8824 - Validation Accuracy: 0.4274\n"
     ]
    }
   ],
   "source": [
    "# Define the number of training and validation steps\n",
    "num_train_steps = len(train_loader)\n",
    "num_valid_steps = len(valid_loader)\n",
    "\n",
    "# Initialize lists to store losses\n",
    "train_epoch_losses = []\n",
    "train_epoch_acc = []\n",
    "\n",
    "valid_epoch_losses = []\n",
    "valid_epoch_acc = []\n",
    "\n",
    "\n",
    "# Training loop\n",
    "for epoch in range(epochs):\n",
    "    print('======== Epoch {:} / {:} ========'.format(epoch + 1, epochs))\n",
    "    print('Training...')\n",
    "    \n",
    "    model.train()  # Set the model to train mode\n",
    "    train_loss = 0.0\n",
    "    train_accuracy = 0\n",
    "    start_time = time.time()\n",
    "\n",
    "    for step, batch in enumerate(train_loader):\n",
    "        input_ids = batch['input_ids'].to(device)\n",
    "        attention_mask = batch['attention_mask'].to(device)\n",
    "        labels = batch['labels'].to(device)\n",
    "        \n",
    "        optimizer.zero_grad()\n",
    "        \n",
    "        # Forward pass\n",
    "        outputs = model(input_ids=input_ids, attention_mask=attention_mask, labels=labels)\n",
    "        # get batch loss\n",
    "        loss = outputs[0]\n",
    "        train_loss += loss.item()\n",
    "        # Backward pass and optimization\n",
    "        loss.backward()\n",
    "        torch.nn.utils.clip_grad_norm_(model.parameters(), 1.0)\n",
    "        optimizer.step()\n",
    "        scheduler.step()\n",
    "        # get batch acc\n",
    "        logits = outputs[1]\n",
    "        logits = logits.detach().cpu().numpy()\n",
    "        label_ids = labels.to('cpu').numpy()  \n",
    "        batch_train_accuracy = flat_accuracy(logits, label_ids)\n",
    "        train_accuracy += batch_train_accuracy          \n",
    "        \n",
    "        # Print the training loss every 40 steps\n",
    "        if (step + 1) % 40 == 0:\n",
    "            train_step_loss = train_loss / (step+1)\n",
    "            print(f\"Epoch {epoch+1}/{epochs} - Step {step+1}/{num_train_steps} - Training Loss: {train_step_loss:.4f}\")\n",
    "    \n",
    "    # train epoch numbers: (loss , accuracy)\n",
    "    train_loss /= num_train_steps\n",
    "    train_accuracy /= num_train_steps\n",
    "    # storing valid epoch numbers for plots\n",
    "    train_epoch_losses.append(train_loss)\n",
    "    train_epoch_acc.append(train_accuracy)\n",
    "    # Calculate the training epoch time\n",
    "    epoch_time = time.time() - start_time\n",
    "    print(f\"Epoch {epoch+1}/{epochs} - Training Loss: {train_loss:.4f} - Train Accuracy: {train_accuracy:.4f} - Epoch Time: {epoch_time:.2f} seconds\")\n",
    "    \n",
    "    # ------------------------------------------------------------------------------------\n",
    "    \n",
    "    # Validation loop\n",
    "    print(\"Running Validation...\")\n",
    "    model.eval()  # Set the model to evaluation mode\n",
    "    valid_loss = 0.0\n",
    "    nb_eval_examples = 0\n",
    "    valid_accuracy = 0\n",
    "    \n",
    "    with torch.no_grad():\n",
    "        for batch in valid_loader:\n",
    "            input_ids = batch['input_ids'].to(device)\n",
    "            attention_mask = batch['attention_mask'].to(device)\n",
    "            labels = batch['labels'].to(device)\n",
    "            \n",
    "            # Forward pass\n",
    "            outputs = model(input_ids=input_ids, attention_mask=attention_mask, labels=labels)\n",
    "            # get batch loss\n",
    "            loss = outputs[0]\n",
    "            valid_loss += loss.item()\n",
    "            # get batch acc\n",
    "            logits = outputs[1]\n",
    "            logits = logits.detach().cpu().numpy()\n",
    "            label_ids = labels.to('cpu').numpy()  \n",
    "            batch_valid_accuracy = flat_accuracy(logits, label_ids)\n",
    "            valid_accuracy += batch_valid_accuracy          \n",
    "            \n",
    "    # valid epoch numbers: (loss , accuracy)\n",
    "    valid_loss /= num_valid_steps\n",
    "    valid_accuracy /= num_valid_steps\n",
    "    # storing valid epoch numbers for plots\n",
    "    valid_epoch_losses.append(valid_loss)\n",
    "    valid_epoch_acc.append(valid_accuracy)\n",
    "    # Print the validation loss for each epoch\n",
    "    print(f\"Epoch {epoch+1}/{epochs} - Validation Loss: {valid_loss:.4f} - Validation Accuracy: {valid_accuracy:.4f}\")\n"
   ]
  },
  {
   "cell_type": "code",
   "execution_count": 16,
   "id": "EVPtnVF7Gnvn",
   "metadata": {
    "colab": {
     "base_uri": "https://localhost:8080/",
     "height": 927
    },
    "id": "EVPtnVF7Gnvn",
    "outputId": "42492330-fd14-44ff-e254-ca2a784dc4a4"
   },
   "outputs": [
    {
     "data": {
      "image/png": "[encoded data removed]",
      "text/plain": [
       "<Figure size 640x480 with 1 Axes>"
      ]
     },
     "metadata": {},
     "output_type": "display_data"
    },
    {
     "data": {
      "image/png": "[encoded data removed]",
      "text/plain": [
       "<Figure size 640x480 with 1 Axes>"
      ]
     },
     "metadata": {},
     "output_type": "display_data"
    }
   ],
   "source": [
    "import matplotlib.pyplot as plt\n",
    "\n",
    "# Plot the epoch loss\n",
    "plt.plot(train_epoch_losses, label='Training Loss')\n",
    "plt.plot(valid_epoch_losses, label='Validation Loss')\n",
    "plt.xlabel('Epoch')\n",
    "plt.ylabel('Loss')\n",
    "plt.legend()\n",
    "plt.title('Epoch Loss')\n",
    "plt.show()\n",
    "\n",
    "# Plot the epoch accuracies\n",
    "plt.plot(train_epoch_acc, label='Training acc')\n",
    "plt.plot(valid_epoch_acc, label='Validation acc')\n",
    "plt.xlabel('Epoch')\n",
    "plt.ylabel('Accuracy')\n",
    "plt.legend()\n",
    "plt.title('Epoch Accuracy')\n",
    "plt.show()"
   ]
  },
  {
   "cell_type": "code",
   "execution_count": 18,
   "id": "a38504ab",
   "metadata": {
    "colab": {
     "base_uri": "https://localhost:8080/"
    },
    "id": "a38504ab",
    "outputId": "966c4a8f-8d31-46ca-aba7-5ab7ed65c2cb"
   },
   "outputs": [
    {
     "name": "stdout",
     "output_type": "stream",
     "text": [
      "    DONE.\n"
     ]
    }
   ],
   "source": [
    "test_data_path = Path(config['data']['root_path'], config['data']['test_data_path'])\n",
    "test_dataset = RhetoricalRoleDataset(test_data_path, tokenizer,mapper=mapper)\n",
    "test_loader = DataLoader(test_dataset, batch_size=batch_size, shuffle=True)\n",
    "\n",
    "\n",
    "# Put model in evaluation mode\n",
    "model.eval()\n",
    "\n",
    "# Tracking variables \n",
    "predictions , true_labels = [], []\n",
    "\n",
    "\n",
    "# Predict \n",
    "for (step, batch) in enumerate(test_loader):\n",
    "  # Add batch to GPU\n",
    "  input_ids = batch['input_ids'].to(device)\n",
    "  attention_mask = batch['attention_mask'].to(device)\n",
    "  labels = batch['labels'].to(device)\n",
    "\n",
    "    \n",
    "  # Telling the model not to compute or store gradients, saving memory and \n",
    "  # speeding up prediction\n",
    "  with torch.no_grad():\n",
    "      # Forward pass, calculate logit predictions\n",
    "      outputs = model(input_ids=input_ids, attention_mask=attention_mask, labels=labels)\n",
    "\n",
    "  logits = outputs[1]\n",
    "\n",
    "  # Move logits and labels to CPU\n",
    "  logits = logits.detach().cpu().numpy()\n",
    "  label_ids = labels.to('cpu').numpy()\n",
    "  \n",
    "  # Store predictions and true labels\n",
    "  predictions.append(logits)\n",
    "  true_labels.append(label_ids)\n",
    "\n",
    "print('    DONE.')"
   ]
  },
  {
   "cell_type": "code",
   "execution_count": 19,
   "id": "kcU0rELPVth2",
   "metadata": {
    "colab": {
     "base_uri": "https://localhost:8080/"
    },
    "id": "kcU0rELPVth2",
    "outputId": "fa7c15c1-8b17-4fee-ee37-1a6eb5320110"
   },
   "outputs": [
    {
     "data": {
      "text/plain": [
       "0.5642750373692078"
      ]
     },
     "execution_count": 19,
     "metadata": {},
     "output_type": "execute_result"
    }
   ],
   "source": [
    "predictions = np.concatenate(predictions, axis=0)\n",
    "true_labels = np.concatenate(true_labels, axis=0)\n",
    "pred_flat = np.argmax(predictions, axis=1).flatten()\n",
    "labels_flat = true_labels.flatten()\n",
    "\n",
    "flat_accuracy(predictions,true_labels)"
   ]
  },
  {
   "cell_type": "code",
   "execution_count": 20,
   "id": "i-d1EFnzVyJa",
   "metadata": {
    "colab": {
     "base_uri": "https://localhost:8080/"
    },
    "id": "i-d1EFnzVyJa",
    "outputId": "d3cd68c7-c92c-4560-96e6-a07f77891ab0"
   },
   "outputs": [
    {
     "name": "stdout",
     "output_type": "stream",
     "text": [
      "              precision    recall  f1-score   support\n",
      "\n",
      "           0       0.57      0.64      0.61       326\n",
      "           1       0.61      0.66      0.63       201\n",
      "           2       0.44      0.67      0.53        12\n",
      "           3       0.08      0.17      0.11        23\n",
      "           4       0.59      0.49      0.54       434\n",
      "           5       0.88      0.59      0.71        86\n",
      "           6       0.52      0.53      0.52       256\n",
      "\n",
      "    accuracy                           0.56      1338\n",
      "   macro avg       0.53      0.54      0.52      1338\n",
      "weighted avg       0.58      0.56      0.57      1338\n",
      "\n"
     ]
    }
   ],
   "source": [
    "from sklearn.metrics import classification_report\n",
    "print(classification_report(labels_flat, pred_flat))"
   ]
  },
  {
   "cell_type": "code",
   "execution_count": 22,
   "id": "b7fe32f3",
   "metadata": {
    "id": "b7fe32f3"
   },
   "outputs": [],
   "source": [
    "output_model = '../models/model_bert_sentence_CL.pth'\n",
    "\n",
    "# save\n",
    "def save(model, optimizer):\n",
    "    # save\n",
    "    torch.save({\n",
    "        'model_state_dict': model.state_dict(),\n",
    "        'optimizer_state_dict': optimizer.state_dict()\n",
    "    }, output_model)\n",
    "\n",
    "save(model, optimizer)\n",
    "\n",
    "# load\n",
    "#checkpoint = torch.load(output_model, map_location='cpu')\n",
    "#model.load_state_dict(checkpoint['model_state_dict'])\n",
    "#optimizer.load_state_dict(checkpoint['optimizer_state_dict'])"
   ]
  },
  {
   "cell_type": "code",
   "execution_count": null,
   "id": "2a37193a",
   "metadata": {
    "id": "2a37193a"
   },
   "outputs": [],
   "source": []
  },
  {
   "cell_type": "code",
   "execution_count": null,
   "id": "38b14610",
   "metadata": {
    "id": "38b14610"
   },
   "outputs": [],
   "source": []
  }
 ],
 "metadata": {
  "accelerator": "GPU",
  "colab": {
   "gpuType": "T4",
   "provenance": []
  },
  "gpuClass": "standard",
  "kernelspec": {
   "display_name": "Lnlp",
   "language": "python",
   "name": "lnlp"
  },
  "language_info": {
   "codemirror_mode": {
    "name": "ipython",
    "version": 3
   },
   "file_extension": ".py",
   "mimetype": "text/x-python",
   "name": "python",
   "nbconvert_exporter": "python",
   "pygments_lexer": "ipython3",
   "version": "3.11.3"
  },
  "widgets": {
   "application/vnd.jupyter.widget-state+json": {
    "0cf3f89e381c46dca889c5bc551ea5ca": {
     "model_module": "@jupyter-widgets/base",
     "model_module_version": "1.2.0",
     "model_name": "LayoutModel",
     "state": {
      "_model_module": "@jupyter-widgets/base",
      "_model_module_version": "1.2.0",
      "_model_name": "LayoutModel",
      "_view_count": null,
      "_view_module": "@jupyter-widgets/base",
      "_view_module_version": "1.2.0",
      "_view_name": "LayoutView",
      "align_content": null,
      "align_items": null,
      "align_self": null,
      "border": null,
      "bottom": null,
      "display": null,
      "flex": null,
      "flex_flow": null,
      "grid_area": null,
      "grid_auto_columns": null,
      "grid_auto_flow": null,
      "grid_auto_rows": null,
      "grid_column": null,
      "grid_gap": null,
      "grid_row": null,
      "grid_template_areas": null,
      "grid_template_columns": null,
      "grid_template_rows": null,
      "height": null,
      "justify_content": null,
      "justify_items": null,
      "left": null,
      "margin": null,
      "max_height": null,
      "max_width": null,
      "min_height": null,
      "min_width": null,
      "object_fit": null,
      "object_position": null,
      "order": null,
      "overflow": null,
      "overflow_x": null,
      "overflow_y": null,
      "padding": null,
      "right": null,
      "top": null,
      "visibility": null,
      "width": null
     }
    },
    "3840618eaec5416681008b8cf326b9b6": {
     "model_module": "@jupyter-widgets/base",
     "model_module_version": "1.2.0",
     "model_name": "LayoutModel",
     "state": {
      "_model_module": "@jupyter-widgets/base",
      "_model_module_version": "1.2.0",
      "_model_name": "LayoutModel",
      "_view_count": null,
      "_view_module": "@jupyter-widgets/base",
      "_view_module_version": "1.2.0",
      "_view_name": "LayoutView",
      "align_content": null,
      "align_items": null,
      "align_self": null,
      "border": null,
      "bottom": null,
      "display": null,
      "flex": null,
      "flex_flow": null,
      "grid_area": null,
      "grid_auto_columns": null,
      "grid_auto_flow": null,
      "grid_auto_rows": null,
      "grid_column": null,
      "grid_gap": null,
      "grid_row": null,
      "grid_template_areas": null,
      "grid_template_columns": null,
      "grid_template_rows": null,
      "height": null,
      "justify_content": null,
      "justify_items": null,
      "left": null,
      "margin": null,
      "max_height": null,
      "max_width": null,
      "min_height": null,
      "min_width": null,
      "object_fit": null,
      "object_position": null,
      "order": null,
      "overflow": null,
      "overflow_x": null,
      "overflow_y": null,
      "padding": null,
      "right": null,
      "top": null,
      "visibility": null,
      "width": null
     }
    },
    "39fcdfffd0be4b399eb3a8f0e5b47b41": {
     "model_module": "@jupyter-widgets/base",
     "model_module_version": "1.2.0",
     "model_name": "LayoutModel",
     "state": {
      "_model_module": "@jupyter-widgets/base",
      "_model_module_version": "1.2.0",
      "_model_name": "LayoutModel",
      "_view_count": null,
      "_view_module": "@jupyter-widgets/base",
      "_view_module_version": "1.2.0",
      "_view_name": "LayoutView",
      "align_content": null,
      "align_items": null,
      "align_self": null,
      "border": null,
      "bottom": null,
      "display": null,
      "flex": null,
      "flex_flow": null,
      "grid_area": null,
      "grid_auto_columns": null,
      "grid_auto_flow": null,
      "grid_auto_rows": null,
      "grid_column": null,
      "grid_gap": null,
      "grid_row": null,
      "grid_template_areas": null,
      "grid_template_columns": null,
      "grid_template_rows": null,
      "height": null,
      "justify_content": null,
      "justify_items": null,
      "left": null,
      "margin": null,
      "max_height": null,
      "max_width": null,
      "min_height": null,
      "min_width": null,
      "object_fit": null,
      "object_position": null,
      "order": null,
      "overflow": null,
      "overflow_x": null,
      "overflow_y": null,
      "padding": null,
      "right": null,
      "top": null,
      "visibility": null,
      "width": null
     }
    },
    "60256fafdc4f48c3a7db266c186b2954": {
     "model_module": "@jupyter-widgets/base",
     "model_module_version": "1.2.0",
     "model_name": "LayoutModel",
     "state": {
      "_model_module": "@jupyter-widgets/base",
      "_model_module_version": "1.2.0",
      "_model_name": "LayoutModel",
      "_view_count": null,
      "_view_module": "@jupyter-widgets/base",
      "_view_module_version": "1.2.0",
      "_view_name": "LayoutView",
      "align_content": null,
      "align_items": null,
      "align_self": null,
      "border": null,
      "bottom": null,
      "display": null,
      "flex": null,
      "flex_flow": null,
      "grid_area": null,
      "grid_auto_columns": null,
      "grid_auto_flow": null,
      "grid_auto_rows": null,
      "grid_column": null,
      "grid_gap": null,
      "grid_row": null,
      "grid_template_areas": null,
      "grid_template_columns": null,
      "grid_template_rows": null,
      "height": null,
      "justify_content": null,
      "justify_items": null,
      "left": null,
      "margin": null,
      "max_height": null,
      "max_width": null,
      "min_height": null,
      "min_width": null,
      "object_fit": null,
      "object_position": null,
      "order": null,
      "overflow": null,
      "overflow_x": null,
      "overflow_y": null,
      "padding": null,
      "right": null,
      "top": null,
      "visibility": null,
      "width": null
     }
    },
    "70b6a27ab7d34afe9e25357d9425dfeb": {
     "model_module": "@jupyter-widgets/controls",
     "model_module_version": "1.5.0",
     "model_name": "HTMLModel",
     "state": {
      "_dom_classes": [],
      "_model_module": "@jupyter-widgets/controls",
      "_model_module_version": "1.5.0",
      "_model_name": "HTMLModel",
      "_view_count": null,
      "_view_module": "@jupyter-widgets/controls",
      "_view_module_version": "1.5.0",
      "_view_name": "HTMLView",
      "description": "",
      "description_tooltip": null,
      "layout": "IPY_MODEL_39fcdfffd0be4b399eb3a8f0e5b47b41",
      "placeholder": "​",
      "style": "IPY_MODEL_bd574f6cfa33499bb28539e97eb04f63",
      "value": " 440M/440M [00:05&lt;00:00, 38.2MB/s]"
     }
    },
    "9524fb0b42384699b8676d0ecbb49cbe": {
     "model_module": "@jupyter-widgets/controls",
     "model_module_version": "1.5.0",
     "model_name": "FloatProgressModel",
     "state": {
      "_dom_classes": [],
      "_model_module": "@jupyter-widgets/controls",
      "_model_module_version": "1.5.0",
      "_model_name": "FloatProgressModel",
      "_view_count": null,
      "_view_module": "@jupyter-widgets/controls",
      "_view_module_version": "1.5.0",
      "_view_name": "ProgressView",
      "bar_style": "success",
      "description": "",
      "description_tooltip": null,
      "layout": "IPY_MODEL_0cf3f89e381c46dca889c5bc551ea5ca",
      "max": 440473133,
      "min": 0,
      "orientation": "horizontal",
      "style": "IPY_MODEL_ae3dbf49e5d54dceac6885360a1bbddf",
      "value": 440473133
     }
    },
    "ae3dbf49e5d54dceac6885360a1bbddf": {
     "model_module": "@jupyter-widgets/controls",
     "model_module_version": "1.5.0",
     "model_name": "ProgressStyleModel",
     "state": {
      "_model_module": "@jupyter-widgets/controls",
      "_model_module_version": "1.5.0",
      "_model_name": "ProgressStyleModel",
      "_view_count": null,
      "_view_module": "@jupyter-widgets/base",
      "_view_module_version": "1.2.0",
      "_view_name": "StyleView",
      "bar_color": null,
      "description_width": ""
     }
    },
    "bcca61e95cbb4e61b46a8151f4b2e183": {
     "model_module": "@jupyter-widgets/controls",
     "model_module_version": "1.5.0",
     "model_name": "HTMLModel",
     "state": {
      "_dom_classes": [],
      "_model_module": "@jupyter-widgets/controls",
      "_model_module_version": "1.5.0",
      "_model_name": "HTMLModel",
      "_view_count": null,
      "_view_module": "@jupyter-widgets/controls",
      "_view_module_version": "1.5.0",
      "_view_name": "HTMLView",
      "description": "",
      "description_tooltip": null,
      "layout": "IPY_MODEL_3840618eaec5416681008b8cf326b9b6",
      "placeholder": "​",
      "style": "IPY_MODEL_c3326924bba24b619f8e031a0f2790e1",
      "value": "Downloading pytorch_model.bin: 100%"
     }
    },
    "bd574f6cfa33499bb28539e97eb04f63": {
     "model_module": "@jupyter-widgets/controls",
     "model_module_version": "1.5.0",
     "model_name": "DescriptionStyleModel",
     "state": {
      "_model_module": "@jupyter-widgets/controls",
      "_model_module_version": "1.5.0",
      "_model_name": "DescriptionStyleModel",
      "_view_count": null,
      "_view_module": "@jupyter-widgets/base",
      "_view_module_version": "1.2.0",
      "_view_name": "StyleView",
      "description_width": ""
     }
    },
    "c3326924bba24b619f8e031a0f2790e1": {
     "model_module": "@jupyter-widgets/controls",
     "model_module_version": "1.5.0",
     "model_name": "DescriptionStyleModel",
     "state": {
      "_model_module": "@jupyter-widgets/controls",
      "_model_module_version": "1.5.0",
      "_model_name": "DescriptionStyleModel",
      "_view_count": null,
      "_view_module": "@jupyter-widgets/base",
      "_view_module_version": "1.2.0",
      "_view_name": "StyleView",
      "description_width": ""
     }
    },
    "ce58c9082bb3464cbca013fa9d5930e6": {
     "model_module": "@jupyter-widgets/controls",
     "model_module_version": "1.5.0",
     "model_name": "HBoxModel",
     "state": {
      "_dom_classes": [],
      "_model_module": "@jupyter-widgets/controls",
      "_model_module_version": "1.5.0",
      "_model_name": "HBoxModel",
      "_view_count": null,
      "_view_module": "@jupyter-widgets/controls",
      "_view_module_version": "1.5.0",
      "_view_name": "HBoxView",
      "box_style": "",
      "children": [
       "IPY_MODEL_bcca61e95cbb4e61b46a8151f4b2e183",
       "IPY_MODEL_9524fb0b42384699b8676d0ecbb49cbe",
       "IPY_MODEL_70b6a27ab7d34afe9e25357d9425dfeb"
      ],
      "layout": "IPY_MODEL_60256fafdc4f48c3a7db266c186b2954"
     }
    }
   }
  }
 },
 "nbformat": 4,
 "nbformat_minor": 5
}
